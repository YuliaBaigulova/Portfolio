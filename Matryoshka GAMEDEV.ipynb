{
  "nbformat": 4,
  "nbformat_minor": 0,
  "metadata": {
    "colab": {
      "name": "Matryoshka - Байгулова.ipynb",
      "provenance": [],
      "collapsed_sections": []
    },
    "kernelspec": {
      "name": "python3",
      "display_name": "Python 3"
    },
    "language_info": {
      "name": "python"
    }
  },
  "cells": [
    {
      "cell_type": "markdown",
      "metadata": {
        "id": "LsO9IQdh__aU"
      },
      "source": [
        "# Задание 1"
      ]
    },
    {
      "cell_type": "markdown",
      "metadata": {
        "id": "MFHfo0xHTI56"
      },
      "source": [
        "## 1.1\n",
        "Приведите таблицу в удобный вид (на ваш вкус) и приложите в формате Excel"
      ]
    },
    {
      "cell_type": "code",
      "metadata": {
        "colab": {
          "base_uri": "https://localhost:8080/",
          "height": 419
        },
        "id": "ZfsNOu4miGSq",
        "outputId": "9ff33ad9-2166-42f3-9444-d180ed6d819f"
      },
      "source": [
        "import pandas as pd\n",
        "import numpy as np\n",
        "\n",
        "df = pd.read_excel('ab_test_levels2.xlsx', skiprows = 7)\n",
        "df"
      ],
      "execution_count": 3,
      "outputs": [
        {
          "output_type": "execute_result",
          "data": {
            "text/html": [
              "<div>\n",
              "<style scoped>\n",
              "    .dataframe tbody tr th:only-of-type {\n",
              "        vertical-align: middle;\n",
              "    }\n",
              "\n",
              "    .dataframe tbody tr th {\n",
              "        vertical-align: top;\n",
              "    }\n",
              "\n",
              "    .dataframe thead th {\n",
              "        text-align: right;\n",
              "    }\n",
              "</style>\n",
              "<table border=\"1\" class=\"dataframe\">\n",
              "  <thead>\n",
              "    <tr style=\"text-align: right;\">\n",
              "      <th></th>\n",
              "      <th>\\tFormula</th>\n",
              "      <th>\\tSegment</th>\n",
              "      <th>\\tlevel_number</th>\n",
              "      <th>\\tlevel_number.1</th>\n",
              "      <th>\\tlevel_number.2</th>\n",
              "      <th>\\tlevel_number.3</th>\n",
              "      <th>\\t2021-03-31 to 2021-06-29</th>\n",
              "    </tr>\n",
              "  </thead>\n",
              "  <tbody>\n",
              "    <tr>\n",
              "      <th>0</th>\n",
              "      <td>\\tFormula A: UNIQUES(A)</td>\n",
              "      <td>\\tCohort A</td>\n",
              "      <td>1</td>\n",
              "      <td>\\t</td>\n",
              "      <td>\\t</td>\n",
              "      <td>\\t</td>\n",
              "      <td>5057</td>\n",
              "    </tr>\n",
              "    <tr>\n",
              "      <th>1</th>\n",
              "      <td>\\tFormula A: UNIQUES(A)</td>\n",
              "      <td>\\tCohort A</td>\n",
              "      <td>2</td>\n",
              "      <td>\\t</td>\n",
              "      <td>\\t</td>\n",
              "      <td>\\t</td>\n",
              "      <td>4724</td>\n",
              "    </tr>\n",
              "    <tr>\n",
              "      <th>2</th>\n",
              "      <td>\\tFormula A: UNIQUES(A)</td>\n",
              "      <td>\\tCohort A</td>\n",
              "      <td>3</td>\n",
              "      <td>\\t</td>\n",
              "      <td>\\t</td>\n",
              "      <td>\\t</td>\n",
              "      <td>4363</td>\n",
              "    </tr>\n",
              "    <tr>\n",
              "      <th>3</th>\n",
              "      <td>\\tFormula A: UNIQUES(A)</td>\n",
              "      <td>\\tCohort A</td>\n",
              "      <td>4</td>\n",
              "      <td>\\t</td>\n",
              "      <td>\\t</td>\n",
              "      <td>\\t</td>\n",
              "      <td>3925</td>\n",
              "    </tr>\n",
              "    <tr>\n",
              "      <th>4</th>\n",
              "      <td>\\tFormula A: UNIQUES(A)</td>\n",
              "      <td>\\tCohort A</td>\n",
              "      <td>5</td>\n",
              "      <td>\\t</td>\n",
              "      <td>\\t</td>\n",
              "      <td>\\t</td>\n",
              "      <td>3590</td>\n",
              "    </tr>\n",
              "    <tr>\n",
              "      <th>...</th>\n",
              "      <td>...</td>\n",
              "      <td>...</td>\n",
              "      <td>...</td>\n",
              "      <td>...</td>\n",
              "      <td>...</td>\n",
              "      <td>...</td>\n",
              "      <td>...</td>\n",
              "    </tr>\n",
              "    <tr>\n",
              "      <th>1192</th>\n",
              "      <td>\\tFormula E:  TOTALS(D)</td>\n",
              "      <td>\\tCohort B</td>\n",
              "      <td>\\t</td>\n",
              "      <td>\\t</td>\n",
              "      <td>\\t</td>\n",
              "      <td>33</td>\n",
              "      <td>25</td>\n",
              "    </tr>\n",
              "    <tr>\n",
              "      <th>1193</th>\n",
              "      <td>\\tFormula E:  TOTALS(D)</td>\n",
              "      <td>\\tCohort B</td>\n",
              "      <td>\\t</td>\n",
              "      <td>\\t</td>\n",
              "      <td>\\t</td>\n",
              "      <td>112</td>\n",
              "      <td>25</td>\n",
              "    </tr>\n",
              "    <tr>\n",
              "      <th>1194</th>\n",
              "      <td>\\tFormula E:  TOTALS(D)</td>\n",
              "      <td>\\tCohort B</td>\n",
              "      <td>\\t</td>\n",
              "      <td>\\t</td>\n",
              "      <td>\\t</td>\n",
              "      <td>101</td>\n",
              "      <td>24</td>\n",
              "    </tr>\n",
              "    <tr>\n",
              "      <th>1195</th>\n",
              "      <td>\\tFormula E:  TOTALS(D)</td>\n",
              "      <td>\\tCohort B</td>\n",
              "      <td>\\t</td>\n",
              "      <td>\\t</td>\n",
              "      <td>\\t</td>\n",
              "      <td>105</td>\n",
              "      <td>20</td>\n",
              "    </tr>\n",
              "    <tr>\n",
              "      <th>1196</th>\n",
              "      <td>\\tFormula E:  TOTALS(D)</td>\n",
              "      <td>\\tCohort B</td>\n",
              "      <td>\\t</td>\n",
              "      <td>\\t</td>\n",
              "      <td>\\t</td>\n",
              "      <td>111</td>\n",
              "      <td>17</td>\n",
              "    </tr>\n",
              "  </tbody>\n",
              "</table>\n",
              "<p>1197 rows × 7 columns</p>\n",
              "</div>"
            ],
            "text/plain": [
              "                    \\tFormula  ... \\t2021-03-31 to 2021-06-29\n",
              "0     \\tFormula A: UNIQUES(A)  ...                       5057\n",
              "1     \\tFormula A: UNIQUES(A)  ...                       4724\n",
              "2     \\tFormula A: UNIQUES(A)  ...                       4363\n",
              "3     \\tFormula A: UNIQUES(A)  ...                       3925\n",
              "4     \\tFormula A: UNIQUES(A)  ...                       3590\n",
              "...                       ...  ...                        ...\n",
              "1192  \\tFormula E:  TOTALS(D)  ...                         25\n",
              "1193  \\tFormula E:  TOTALS(D)  ...                         25\n",
              "1194  \\tFormula E:  TOTALS(D)  ...                         24\n",
              "1195  \\tFormula E:  TOTALS(D)  ...                         20\n",
              "1196  \\tFormula E:  TOTALS(D)  ...                         17\n",
              "\n",
              "[1197 rows x 7 columns]"
            ]
          },
          "metadata": {},
          "execution_count": 3
        }
      ]
    },
    {
      "cell_type": "code",
      "metadata": {
        "id": "XI1P4agznWpz"
      },
      "source": [
        "# уберем лишний символ \"\\t\" и заполним пустые ячейки значением NaN\n",
        "df = df.replace('\\t','',regex=True)\n",
        "df = df.replace(r'^\\s*$', np.nan, regex=True)"
      ],
      "execution_count": 4,
      "outputs": []
    },
    {
      "cell_type": "code",
      "metadata": {
        "colab": {
          "base_uri": "https://localhost:8080/"
        },
        "id": "OrL9JL6snk_z",
        "outputId": "3bd294fa-c419-4266-dc3b-fce3b49f2ea8"
      },
      "source": [
        "df.info()"
      ],
      "execution_count": 5,
      "outputs": [
        {
          "output_type": "stream",
          "name": "stdout",
          "text": [
            "<class 'pandas.core.frame.DataFrame'>\n",
            "RangeIndex: 1197 entries, 0 to 1196\n",
            "Data columns (total 7 columns):\n",
            " #   Column                     Non-Null Count  Dtype  \n",
            "---  ------                     --------------  -----  \n",
            " 0   \tFormula                   1197 non-null   object \n",
            " 1   \tSegment                   1197 non-null   object \n",
            " 2   \tlevel_number              480 non-null    float64\n",
            " 3   \tlevel_number.1            240 non-null    float64\n",
            " 4   \tlevel_number.2            237 non-null    float64\n",
            " 5   \tlevel_number.3            240 non-null    float64\n",
            " 6   \t2021-03-31 to 2021-06-29  1197 non-null   int64  \n",
            "dtypes: float64(4), int64(1), object(2)\n",
            "memory usage: 65.6+ KB\n"
          ]
        }
      ]
    },
    {
      "cell_type": "code",
      "metadata": {
        "colab": {
          "base_uri": "https://localhost:8080/",
          "height": 204
        },
        "id": "v1ZCGpATppOX",
        "outputId": "d6d5c8b0-a29d-4548-96bf-da64ae2a6110"
      },
      "source": [
        "df.head()"
      ],
      "execution_count": 6,
      "outputs": [
        {
          "output_type": "execute_result",
          "data": {
            "text/html": [
              "<div>\n",
              "<style scoped>\n",
              "    .dataframe tbody tr th:only-of-type {\n",
              "        vertical-align: middle;\n",
              "    }\n",
              "\n",
              "    .dataframe tbody tr th {\n",
              "        vertical-align: top;\n",
              "    }\n",
              "\n",
              "    .dataframe thead th {\n",
              "        text-align: right;\n",
              "    }\n",
              "</style>\n",
              "<table border=\"1\" class=\"dataframe\">\n",
              "  <thead>\n",
              "    <tr style=\"text-align: right;\">\n",
              "      <th></th>\n",
              "      <th>\\tFormula</th>\n",
              "      <th>\\tSegment</th>\n",
              "      <th>\\tlevel_number</th>\n",
              "      <th>\\tlevel_number.1</th>\n",
              "      <th>\\tlevel_number.2</th>\n",
              "      <th>\\tlevel_number.3</th>\n",
              "      <th>\\t2021-03-31 to 2021-06-29</th>\n",
              "    </tr>\n",
              "  </thead>\n",
              "  <tbody>\n",
              "    <tr>\n",
              "      <th>0</th>\n",
              "      <td>Formula A: UNIQUES(A)</td>\n",
              "      <td>Cohort A</td>\n",
              "      <td>1.0</td>\n",
              "      <td>NaN</td>\n",
              "      <td>NaN</td>\n",
              "      <td>NaN</td>\n",
              "      <td>5057</td>\n",
              "    </tr>\n",
              "    <tr>\n",
              "      <th>1</th>\n",
              "      <td>Formula A: UNIQUES(A)</td>\n",
              "      <td>Cohort A</td>\n",
              "      <td>2.0</td>\n",
              "      <td>NaN</td>\n",
              "      <td>NaN</td>\n",
              "      <td>NaN</td>\n",
              "      <td>4724</td>\n",
              "    </tr>\n",
              "    <tr>\n",
              "      <th>2</th>\n",
              "      <td>Formula A: UNIQUES(A)</td>\n",
              "      <td>Cohort A</td>\n",
              "      <td>3.0</td>\n",
              "      <td>NaN</td>\n",
              "      <td>NaN</td>\n",
              "      <td>NaN</td>\n",
              "      <td>4363</td>\n",
              "    </tr>\n",
              "    <tr>\n",
              "      <th>3</th>\n",
              "      <td>Formula A: UNIQUES(A)</td>\n",
              "      <td>Cohort A</td>\n",
              "      <td>4.0</td>\n",
              "      <td>NaN</td>\n",
              "      <td>NaN</td>\n",
              "      <td>NaN</td>\n",
              "      <td>3925</td>\n",
              "    </tr>\n",
              "    <tr>\n",
              "      <th>4</th>\n",
              "      <td>Formula A: UNIQUES(A)</td>\n",
              "      <td>Cohort A</td>\n",
              "      <td>5.0</td>\n",
              "      <td>NaN</td>\n",
              "      <td>NaN</td>\n",
              "      <td>NaN</td>\n",
              "      <td>3590</td>\n",
              "    </tr>\n",
              "  </tbody>\n",
              "</table>\n",
              "</div>"
            ],
            "text/plain": [
              "               \\tFormula  ... \\t2021-03-31 to 2021-06-29\n",
              "0  Formula A: UNIQUES(A)  ...                       5057\n",
              "1  Formula A: UNIQUES(A)  ...                       4724\n",
              "2  Formula A: UNIQUES(A)  ...                       4363\n",
              "3  Formula A: UNIQUES(A)  ...                       3925\n",
              "4  Formula A: UNIQUES(A)  ...                       3590\n",
              "\n",
              "[5 rows x 7 columns]"
            ]
          },
          "metadata": {},
          "execution_count": 6
        }
      ]
    },
    {
      "cell_type": "code",
      "metadata": {
        "colab": {
          "base_uri": "https://localhost:8080/"
        },
        "id": "4KJGmrh9sQMj",
        "outputId": "b4a0d394-d191-4a5e-c9b1-6aaefbfcebbe"
      },
      "source": [
        "# проверим, не дублируется ли номер уровня в нескольких колонках. \n",
        "# для этого посчитаем количество отсутствующих значений (NaN) и отсортируем в порядке убывания\n",
        "df.isnull().sum(axis = 1).sort_values(ascending = False)"
      ],
      "execution_count": 7,
      "outputs": [
        {
          "output_type": "execute_result",
          "data": {
            "text/plain": [
              "1196    3\n",
              "392     3\n",
              "394     3\n",
              "395     3\n",
              "396     3\n",
              "       ..\n",
              "797     3\n",
              "798     3\n",
              "799     3\n",
              "800     3\n",
              "0       3\n",
              "Length: 1197, dtype: int64"
            ]
          },
          "metadata": {},
          "execution_count": 7
        }
      ]
    },
    {
      "cell_type": "code",
      "metadata": {
        "id": "gZfpELOny6wu"
      },
      "source": [
        "# значения не дублируются. Объединим данные в один столбец\n",
        "df['level_number'] = df.iloc[:,2:6].sum(axis = 1)"
      ],
      "execution_count": 8,
      "outputs": []
    },
    {
      "cell_type": "code",
      "metadata": {
        "colab": {
          "base_uri": "https://localhost:8080/",
          "height": 204
        },
        "id": "eEspmwPzM24P",
        "outputId": "2d9cd161-dd9d-41b4-c293-fefbf8d49af8"
      },
      "source": [
        "# удалим ненужные столбцы\n",
        "df = df.drop(columns = ['\\tlevel_number', '\\tlevel_number.1', '\\tlevel_number.2', '\\tlevel_number.3'], axis = 1)\n",
        "\n",
        "# переименуем оставшиеся столбцы\n",
        "df.columns = ['formula', 'segment', 'quantity', 'level_number']\n",
        "df.head()"
      ],
      "execution_count": 9,
      "outputs": [
        {
          "output_type": "execute_result",
          "data": {
            "text/html": [
              "<div>\n",
              "<style scoped>\n",
              "    .dataframe tbody tr th:only-of-type {\n",
              "        vertical-align: middle;\n",
              "    }\n",
              "\n",
              "    .dataframe tbody tr th {\n",
              "        vertical-align: top;\n",
              "    }\n",
              "\n",
              "    .dataframe thead th {\n",
              "        text-align: right;\n",
              "    }\n",
              "</style>\n",
              "<table border=\"1\" class=\"dataframe\">\n",
              "  <thead>\n",
              "    <tr style=\"text-align: right;\">\n",
              "      <th></th>\n",
              "      <th>formula</th>\n",
              "      <th>segment</th>\n",
              "      <th>quantity</th>\n",
              "      <th>level_number</th>\n",
              "    </tr>\n",
              "  </thead>\n",
              "  <tbody>\n",
              "    <tr>\n",
              "      <th>0</th>\n",
              "      <td>Formula A: UNIQUES(A)</td>\n",
              "      <td>Cohort A</td>\n",
              "      <td>5057</td>\n",
              "      <td>1.0</td>\n",
              "    </tr>\n",
              "    <tr>\n",
              "      <th>1</th>\n",
              "      <td>Formula A: UNIQUES(A)</td>\n",
              "      <td>Cohort A</td>\n",
              "      <td>4724</td>\n",
              "      <td>2.0</td>\n",
              "    </tr>\n",
              "    <tr>\n",
              "      <th>2</th>\n",
              "      <td>Formula A: UNIQUES(A)</td>\n",
              "      <td>Cohort A</td>\n",
              "      <td>4363</td>\n",
              "      <td>3.0</td>\n",
              "    </tr>\n",
              "    <tr>\n",
              "      <th>3</th>\n",
              "      <td>Formula A: UNIQUES(A)</td>\n",
              "      <td>Cohort A</td>\n",
              "      <td>3925</td>\n",
              "      <td>4.0</td>\n",
              "    </tr>\n",
              "    <tr>\n",
              "      <th>4</th>\n",
              "      <td>Formula A: UNIQUES(A)</td>\n",
              "      <td>Cohort A</td>\n",
              "      <td>3590</td>\n",
              "      <td>5.0</td>\n",
              "    </tr>\n",
              "  </tbody>\n",
              "</table>\n",
              "</div>"
            ],
            "text/plain": [
              "                 formula   segment  quantity  level_number\n",
              "0  Formula A: UNIQUES(A)  Cohort A      5057           1.0\n",
              "1  Formula A: UNIQUES(A)  Cohort A      4724           2.0\n",
              "2  Formula A: UNIQUES(A)  Cohort A      4363           3.0\n",
              "3  Formula A: UNIQUES(A)  Cohort A      3925           4.0\n",
              "4  Formula A: UNIQUES(A)  Cohort A      3590           5.0"
            ]
          },
          "metadata": {},
          "execution_count": 9
        }
      ]
    },
    {
      "cell_type": "code",
      "metadata": {
        "colab": {
          "base_uri": "https://localhost:8080/",
          "height": 419
        },
        "id": "h-bu7EnxM8Jg",
        "outputId": "30874b2f-8c75-4581-9c98-e930118b399c"
      },
      "source": [
        "# развернем столбец 'formula' на 5 отдельных столбцов\n",
        "df = df.groupby(['formula', 'segment', 'level_number'])['quantity'].sum().unstack('formula').sort_values(by = 'level_number').reset_index()\n",
        "\n",
        "# переименуем столбцы\n",
        "df.columns = ['segment', 'level_number', 'unique_start_qty', 'start_qty', 'won_qty', 'losed_qty', 'quit_qty']\n",
        "df"
      ],
      "execution_count": 10,
      "outputs": [
        {
          "output_type": "execute_result",
          "data": {
            "text/html": [
              "<div>\n",
              "<style scoped>\n",
              "    .dataframe tbody tr th:only-of-type {\n",
              "        vertical-align: middle;\n",
              "    }\n",
              "\n",
              "    .dataframe tbody tr th {\n",
              "        vertical-align: top;\n",
              "    }\n",
              "\n",
              "    .dataframe thead th {\n",
              "        text-align: right;\n",
              "    }\n",
              "</style>\n",
              "<table border=\"1\" class=\"dataframe\">\n",
              "  <thead>\n",
              "    <tr style=\"text-align: right;\">\n",
              "      <th></th>\n",
              "      <th>segment</th>\n",
              "      <th>level_number</th>\n",
              "      <th>unique_start_qty</th>\n",
              "      <th>start_qty</th>\n",
              "      <th>won_qty</th>\n",
              "      <th>losed_qty</th>\n",
              "      <th>quit_qty</th>\n",
              "    </tr>\n",
              "  </thead>\n",
              "  <tbody>\n",
              "    <tr>\n",
              "      <th>0</th>\n",
              "      <td>Cohort A</td>\n",
              "      <td>1.0</td>\n",
              "      <td>5057.0</td>\n",
              "      <td>5131.0</td>\n",
              "      <td>4902.0</td>\n",
              "      <td>NaN</td>\n",
              "      <td>464.0</td>\n",
              "    </tr>\n",
              "    <tr>\n",
              "      <th>1</th>\n",
              "      <td>Cohort B</td>\n",
              "      <td>1.0</td>\n",
              "      <td>5196.0</td>\n",
              "      <td>5272.0</td>\n",
              "      <td>4995.0</td>\n",
              "      <td>NaN</td>\n",
              "      <td>493.0</td>\n",
              "    </tr>\n",
              "    <tr>\n",
              "      <th>2</th>\n",
              "      <td>Cohort A</td>\n",
              "      <td>2.0</td>\n",
              "      <td>4724.0</td>\n",
              "      <td>4759.0</td>\n",
              "      <td>4600.0</td>\n",
              "      <td>12.0</td>\n",
              "      <td>147.0</td>\n",
              "    </tr>\n",
              "    <tr>\n",
              "      <th>3</th>\n",
              "      <td>Cohort B</td>\n",
              "      <td>2.0</td>\n",
              "      <td>4801.0</td>\n",
              "      <td>4845.0</td>\n",
              "      <td>4629.0</td>\n",
              "      <td>13.0</td>\n",
              "      <td>157.0</td>\n",
              "    </tr>\n",
              "    <tr>\n",
              "      <th>4</th>\n",
              "      <td>Cohort A</td>\n",
              "      <td>3.0</td>\n",
              "      <td>4363.0</td>\n",
              "      <td>4464.0</td>\n",
              "      <td>4175.0</td>\n",
              "      <td>72.0</td>\n",
              "      <td>223.0</td>\n",
              "    </tr>\n",
              "    <tr>\n",
              "      <th>...</th>\n",
              "      <td>...</td>\n",
              "      <td>...</td>\n",
              "      <td>...</td>\n",
              "      <td>...</td>\n",
              "      <td>...</td>\n",
              "      <td>...</td>\n",
              "      <td>...</td>\n",
              "    </tr>\n",
              "    <tr>\n",
              "      <th>235</th>\n",
              "      <td>Cohort A</td>\n",
              "      <td>118.0</td>\n",
              "      <td>327.0</td>\n",
              "      <td>654.0</td>\n",
              "      <td>327.0</td>\n",
              "      <td>296.0</td>\n",
              "      <td>95.0</td>\n",
              "    </tr>\n",
              "    <tr>\n",
              "      <th>236</th>\n",
              "      <td>Cohort B</td>\n",
              "      <td>119.0</td>\n",
              "      <td>313.0</td>\n",
              "      <td>607.0</td>\n",
              "      <td>313.0</td>\n",
              "      <td>258.0</td>\n",
              "      <td>99.0</td>\n",
              "    </tr>\n",
              "    <tr>\n",
              "      <th>237</th>\n",
              "      <td>Cohort A</td>\n",
              "      <td>119.0</td>\n",
              "      <td>319.0</td>\n",
              "      <td>754.0</td>\n",
              "      <td>318.0</td>\n",
              "      <td>401.0</td>\n",
              "      <td>100.0</td>\n",
              "    </tr>\n",
              "    <tr>\n",
              "      <th>238</th>\n",
              "      <td>Cohort A</td>\n",
              "      <td>120.0</td>\n",
              "      <td>315.0</td>\n",
              "      <td>445.0</td>\n",
              "      <td>316.0</td>\n",
              "      <td>94.0</td>\n",
              "      <td>58.0</td>\n",
              "    </tr>\n",
              "    <tr>\n",
              "      <th>239</th>\n",
              "      <td>Cohort B</td>\n",
              "      <td>120.0</td>\n",
              "      <td>311.0</td>\n",
              "      <td>1018.0</td>\n",
              "      <td>308.0</td>\n",
              "      <td>641.0</td>\n",
              "      <td>136.0</td>\n",
              "    </tr>\n",
              "  </tbody>\n",
              "</table>\n",
              "<p>240 rows × 7 columns</p>\n",
              "</div>"
            ],
            "text/plain": [
              "      segment  level_number  unique_start_qty  ...  won_qty  losed_qty  quit_qty\n",
              "0    Cohort A           1.0            5057.0  ...   4902.0        NaN     464.0\n",
              "1    Cohort B           1.0            5196.0  ...   4995.0        NaN     493.0\n",
              "2    Cohort A           2.0            4724.0  ...   4600.0       12.0     147.0\n",
              "3    Cohort B           2.0            4801.0  ...   4629.0       13.0     157.0\n",
              "4    Cohort A           3.0            4363.0  ...   4175.0       72.0     223.0\n",
              "..        ...           ...               ...  ...      ...        ...       ...\n",
              "235  Cohort A         118.0             327.0  ...    327.0      296.0      95.0\n",
              "236  Cohort B         119.0             313.0  ...    313.0      258.0      99.0\n",
              "237  Cohort A         119.0             319.0  ...    318.0      401.0     100.0\n",
              "238  Cohort A         120.0             315.0  ...    316.0       94.0      58.0\n",
              "239  Cohort B         120.0             311.0  ...    308.0      641.0     136.0\n",
              "\n",
              "[240 rows x 7 columns]"
            ]
          },
          "metadata": {},
          "execution_count": 10
        }
      ]
    },
    {
      "cell_type": "code",
      "metadata": {
        "id": "MLb1G91cPYIZ"
      },
      "source": [
        "# отсутствующие значения заполним нулями\n",
        "df.fillna(0, inplace = True)\n",
        "\n",
        "# заменим тип данных float на целочисленный\n",
        "df.iloc[:,1:] = df.iloc[:,1:].astype(int)\n",
        "\n",
        "# сохраним результат в файл Matryoshka.csv\n",
        "df.to_csv('Matryoshka.csv')"
      ],
      "execution_count": 11,
      "outputs": []
    },
    {
      "cell_type": "code",
      "metadata": {
        "colab": {
          "base_uri": "https://localhost:8080/",
          "height": 204
        },
        "id": "baJ1THPtzvzQ",
        "outputId": "51e06f0b-15b0-4e5a-906f-3812ff486db1"
      },
      "source": [
        "df.head()"
      ],
      "execution_count": 12,
      "outputs": [
        {
          "output_type": "execute_result",
          "data": {
            "text/html": [
              "<div>\n",
              "<style scoped>\n",
              "    .dataframe tbody tr th:only-of-type {\n",
              "        vertical-align: middle;\n",
              "    }\n",
              "\n",
              "    .dataframe tbody tr th {\n",
              "        vertical-align: top;\n",
              "    }\n",
              "\n",
              "    .dataframe thead th {\n",
              "        text-align: right;\n",
              "    }\n",
              "</style>\n",
              "<table border=\"1\" class=\"dataframe\">\n",
              "  <thead>\n",
              "    <tr style=\"text-align: right;\">\n",
              "      <th></th>\n",
              "      <th>segment</th>\n",
              "      <th>level_number</th>\n",
              "      <th>unique_start_qty</th>\n",
              "      <th>start_qty</th>\n",
              "      <th>won_qty</th>\n",
              "      <th>losed_qty</th>\n",
              "      <th>quit_qty</th>\n",
              "    </tr>\n",
              "  </thead>\n",
              "  <tbody>\n",
              "    <tr>\n",
              "      <th>0</th>\n",
              "      <td>Cohort A</td>\n",
              "      <td>1</td>\n",
              "      <td>5057</td>\n",
              "      <td>5131</td>\n",
              "      <td>4902</td>\n",
              "      <td>0</td>\n",
              "      <td>464</td>\n",
              "    </tr>\n",
              "    <tr>\n",
              "      <th>1</th>\n",
              "      <td>Cohort B</td>\n",
              "      <td>1</td>\n",
              "      <td>5196</td>\n",
              "      <td>5272</td>\n",
              "      <td>4995</td>\n",
              "      <td>0</td>\n",
              "      <td>493</td>\n",
              "    </tr>\n",
              "    <tr>\n",
              "      <th>2</th>\n",
              "      <td>Cohort A</td>\n",
              "      <td>2</td>\n",
              "      <td>4724</td>\n",
              "      <td>4759</td>\n",
              "      <td>4600</td>\n",
              "      <td>12</td>\n",
              "      <td>147</td>\n",
              "    </tr>\n",
              "    <tr>\n",
              "      <th>3</th>\n",
              "      <td>Cohort B</td>\n",
              "      <td>2</td>\n",
              "      <td>4801</td>\n",
              "      <td>4845</td>\n",
              "      <td>4629</td>\n",
              "      <td>13</td>\n",
              "      <td>157</td>\n",
              "    </tr>\n",
              "    <tr>\n",
              "      <th>4</th>\n",
              "      <td>Cohort A</td>\n",
              "      <td>3</td>\n",
              "      <td>4363</td>\n",
              "      <td>4464</td>\n",
              "      <td>4175</td>\n",
              "      <td>72</td>\n",
              "      <td>223</td>\n",
              "    </tr>\n",
              "  </tbody>\n",
              "</table>\n",
              "</div>"
            ],
            "text/plain": [
              "    segment  level_number  unique_start_qty  ...  won_qty  losed_qty  quit_qty\n",
              "0  Cohort A             1              5057  ...     4902          0       464\n",
              "1  Cohort B             1              5196  ...     4995          0       493\n",
              "2  Cohort A             2              4724  ...     4600         12       147\n",
              "3  Cohort B             2              4801  ...     4629         13       157\n",
              "4  Cohort A             3              4363  ...     4175         72       223\n",
              "\n",
              "[5 rows x 7 columns]"
            ]
          },
          "metadata": {},
          "execution_count": 12
        }
      ]
    },
    {
      "cell_type": "markdown",
      "metadata": {
        "id": "IuRyyNqicdm2"
      },
      "source": [
        "## 1.2\n",
        "Для каждого уровня в обеих когортах посчитайте процент отвала игроков\n"
      ]
    },
    {
      "cell_type": "code",
      "metadata": {
        "colab": {
          "base_uri": "https://localhost:8080/",
          "height": 450
        },
        "id": "S_00wH6nasnU",
        "outputId": "061715f8-8635-4035-e762-69d40e1a5cc5"
      },
      "source": [
        "df['outflow_rate'] = (df.groupby('segment')['unique_start_qty']).apply(lambda x: (abs(x - x.shift(1))/x.shift(1)*100)).round(1)\n",
        "\n",
        "data_test = df.groupby(['segment', 'level_number'])['outflow_rate'].sum().unstack('segment')\n",
        "data_test"
      ],
      "execution_count": 22,
      "outputs": [
        {
          "output_type": "execute_result",
          "data": {
            "text/html": [
              "<div>\n",
              "<style scoped>\n",
              "    .dataframe tbody tr th:only-of-type {\n",
              "        vertical-align: middle;\n",
              "    }\n",
              "\n",
              "    .dataframe tbody tr th {\n",
              "        vertical-align: top;\n",
              "    }\n",
              "\n",
              "    .dataframe thead th {\n",
              "        text-align: right;\n",
              "    }\n",
              "</style>\n",
              "<table border=\"1\" class=\"dataframe\">\n",
              "  <thead>\n",
              "    <tr style=\"text-align: right;\">\n",
              "      <th>segment</th>\n",
              "      <th>Cohort A</th>\n",
              "      <th>Cohort B</th>\n",
              "    </tr>\n",
              "    <tr>\n",
              "      <th>level_number</th>\n",
              "      <th></th>\n",
              "      <th></th>\n",
              "    </tr>\n",
              "  </thead>\n",
              "  <tbody>\n",
              "    <tr>\n",
              "      <th>1</th>\n",
              "      <td>0.0</td>\n",
              "      <td>0.0</td>\n",
              "    </tr>\n",
              "    <tr>\n",
              "      <th>2</th>\n",
              "      <td>6.6</td>\n",
              "      <td>7.6</td>\n",
              "    </tr>\n",
              "    <tr>\n",
              "      <th>3</th>\n",
              "      <td>7.6</td>\n",
              "      <td>9.4</td>\n",
              "    </tr>\n",
              "    <tr>\n",
              "      <th>4</th>\n",
              "      <td>10.0</td>\n",
              "      <td>9.9</td>\n",
              "    </tr>\n",
              "    <tr>\n",
              "      <th>5</th>\n",
              "      <td>8.5</td>\n",
              "      <td>9.3</td>\n",
              "    </tr>\n",
              "    <tr>\n",
              "      <th>...</th>\n",
              "      <td>...</td>\n",
              "      <td>...</td>\n",
              "    </tr>\n",
              "    <tr>\n",
              "      <th>116</th>\n",
              "      <td>1.2</td>\n",
              "      <td>1.5</td>\n",
              "    </tr>\n",
              "    <tr>\n",
              "      <th>117</th>\n",
              "      <td>0.9</td>\n",
              "      <td>0.6</td>\n",
              "    </tr>\n",
              "    <tr>\n",
              "      <th>118</th>\n",
              "      <td>0.6</td>\n",
              "      <td>0.6</td>\n",
              "    </tr>\n",
              "    <tr>\n",
              "      <th>119</th>\n",
              "      <td>2.4</td>\n",
              "      <td>0.9</td>\n",
              "    </tr>\n",
              "    <tr>\n",
              "      <th>120</th>\n",
              "      <td>1.3</td>\n",
              "      <td>0.6</td>\n",
              "    </tr>\n",
              "  </tbody>\n",
              "</table>\n",
              "<p>120 rows × 2 columns</p>\n",
              "</div>"
            ],
            "text/plain": [
              "segment       Cohort A  Cohort B\n",
              "level_number                    \n",
              "1                  0.0       0.0\n",
              "2                  6.6       7.6\n",
              "3                  7.6       9.4\n",
              "4                 10.0       9.9\n",
              "5                  8.5       9.3\n",
              "...                ...       ...\n",
              "116                1.2       1.5\n",
              "117                0.9       0.6\n",
              "118                0.6       0.6\n",
              "119                2.4       0.9\n",
              "120                1.3       0.6\n",
              "\n",
              "[120 rows x 2 columns]"
            ]
          },
          "metadata": {},
          "execution_count": 22
        }
      ]
    },
    {
      "cell_type": "code",
      "metadata": {
        "colab": {
          "base_uri": "https://localhost:8080/",
          "height": 476
        },
        "id": "R6ro8umAdz4G",
        "outputId": "76a0e1f9-f36b-43a8-fc56-44d42e15618d"
      },
      "source": [
        "import matplotlib.pyplot as plt \n",
        "plt.style.use('fivethirtyeight')\n",
        "\n",
        "data_test = data_test.reset_index().head(30)\n",
        "\n",
        "plt.figure(figsize = (20,7))\n",
        "\n",
        "plt.plot(data_test['level_number'], data_test['Cohort A'])\n",
        "plt.plot(data_test['level_number'], data_test['Cohort B'])\n",
        "\n",
        "plt.title('Процент отвалившихся игроков первых 30 уровней')\n",
        "plt.xlabel('Уровень')\n",
        "plt.ylabel('%')\n",
        "plt.xticks(np.arange(1, len(data_test)+1))\n",
        "plt.legend(['Cohort A','Cohort B'])\n",
        "\n",
        "plt.show()"
      ],
      "execution_count": 23,
      "outputs": [
        {
          "output_type": "display_data",
          "data": {
            "image/png": "[encoded data removed]",
            "text/plain": [
              "<Figure size 1440x504 with 1 Axes>"
            ]
          },
          "metadata": {}
        }
      ]
    },
    {
      "cell_type": "markdown",
      "metadata": {
        "id": "wfLhvn6oiI5U"
      },
      "source": [
        "## 1.3\n",
        "Какие еще сведения способные улучшить игру можно получить из этих данных? Внесите их в вашу таблицу.\n"
      ]
    },
    {
      "cell_type": "code",
      "metadata": {
        "colab": {
          "base_uri": "https://localhost:8080/",
          "height": 419
        },
        "id": "NkBwCB2PJSoD",
        "outputId": "f272480b-09f4-466b-af0f-09920738af2e"
      },
      "source": [
        "# посчитаем процент удержанных игроков по уровням\n",
        "df['retention_rate'] = (df.groupby('segment')['unique_start_qty']).apply(lambda x: (x / max(x)) * 100).round(1)\n",
        "df"
      ],
      "execution_count": 16,
      "outputs": [
        {
          "output_type": "execute_result",
          "data": {
            "text/html": [
              "<div>\n",
              "<style scoped>\n",
              "    .dataframe tbody tr th:only-of-type {\n",
              "        vertical-align: middle;\n",
              "    }\n",
              "\n",
              "    .dataframe tbody tr th {\n",
              "        vertical-align: top;\n",
              "    }\n",
              "\n",
              "    .dataframe thead th {\n",
              "        text-align: right;\n",
              "    }\n",
              "</style>\n",
              "<table border=\"1\" class=\"dataframe\">\n",
              "  <thead>\n",
              "    <tr style=\"text-align: right;\">\n",
              "      <th></th>\n",
              "      <th>segment</th>\n",
              "      <th>level_number</th>\n",
              "      <th>unique_start_qty</th>\n",
              "      <th>start_qty</th>\n",
              "      <th>won_qty</th>\n",
              "      <th>losed_qty</th>\n",
              "      <th>quit_qty</th>\n",
              "      <th>outflow_rate</th>\n",
              "      <th>retention_rate</th>\n",
              "    </tr>\n",
              "  </thead>\n",
              "  <tbody>\n",
              "    <tr>\n",
              "      <th>0</th>\n",
              "      <td>Cohort A</td>\n",
              "      <td>1</td>\n",
              "      <td>5057</td>\n",
              "      <td>5131</td>\n",
              "      <td>4902</td>\n",
              "      <td>0</td>\n",
              "      <td>464</td>\n",
              "      <td>NaN</td>\n",
              "      <td>100.0</td>\n",
              "    </tr>\n",
              "    <tr>\n",
              "      <th>1</th>\n",
              "      <td>Cohort B</td>\n",
              "      <td>1</td>\n",
              "      <td>5196</td>\n",
              "      <td>5272</td>\n",
              "      <td>4995</td>\n",
              "      <td>0</td>\n",
              "      <td>493</td>\n",
              "      <td>NaN</td>\n",
              "      <td>100.0</td>\n",
              "    </tr>\n",
              "    <tr>\n",
              "      <th>2</th>\n",
              "      <td>Cohort A</td>\n",
              "      <td>2</td>\n",
              "      <td>4724</td>\n",
              "      <td>4759</td>\n",
              "      <td>4600</td>\n",
              "      <td>12</td>\n",
              "      <td>147</td>\n",
              "      <td>6.6</td>\n",
              "      <td>93.4</td>\n",
              "    </tr>\n",
              "    <tr>\n",
              "      <th>3</th>\n",
              "      <td>Cohort B</td>\n",
              "      <td>2</td>\n",
              "      <td>4801</td>\n",
              "      <td>4845</td>\n",
              "      <td>4629</td>\n",
              "      <td>13</td>\n",
              "      <td>157</td>\n",
              "      <td>7.6</td>\n",
              "      <td>92.4</td>\n",
              "    </tr>\n",
              "    <tr>\n",
              "      <th>4</th>\n",
              "      <td>Cohort A</td>\n",
              "      <td>3</td>\n",
              "      <td>4363</td>\n",
              "      <td>4464</td>\n",
              "      <td>4175</td>\n",
              "      <td>72</td>\n",
              "      <td>223</td>\n",
              "      <td>7.6</td>\n",
              "      <td>86.3</td>\n",
              "    </tr>\n",
              "    <tr>\n",
              "      <th>...</th>\n",
              "      <td>...</td>\n",
              "      <td>...</td>\n",
              "      <td>...</td>\n",
              "      <td>...</td>\n",
              "      <td>...</td>\n",
              "      <td>...</td>\n",
              "      <td>...</td>\n",
              "      <td>...</td>\n",
              "      <td>...</td>\n",
              "    </tr>\n",
              "    <tr>\n",
              "      <th>235</th>\n",
              "      <td>Cohort A</td>\n",
              "      <td>118</td>\n",
              "      <td>327</td>\n",
              "      <td>654</td>\n",
              "      <td>327</td>\n",
              "      <td>296</td>\n",
              "      <td>95</td>\n",
              "      <td>0.6</td>\n",
              "      <td>6.5</td>\n",
              "    </tr>\n",
              "    <tr>\n",
              "      <th>236</th>\n",
              "      <td>Cohort B</td>\n",
              "      <td>119</td>\n",
              "      <td>313</td>\n",
              "      <td>607</td>\n",
              "      <td>313</td>\n",
              "      <td>258</td>\n",
              "      <td>99</td>\n",
              "      <td>0.9</td>\n",
              "      <td>6.0</td>\n",
              "    </tr>\n",
              "    <tr>\n",
              "      <th>237</th>\n",
              "      <td>Cohort A</td>\n",
              "      <td>119</td>\n",
              "      <td>319</td>\n",
              "      <td>754</td>\n",
              "      <td>318</td>\n",
              "      <td>401</td>\n",
              "      <td>100</td>\n",
              "      <td>2.4</td>\n",
              "      <td>6.3</td>\n",
              "    </tr>\n",
              "    <tr>\n",
              "      <th>238</th>\n",
              "      <td>Cohort A</td>\n",
              "      <td>120</td>\n",
              "      <td>315</td>\n",
              "      <td>445</td>\n",
              "      <td>316</td>\n",
              "      <td>94</td>\n",
              "      <td>58</td>\n",
              "      <td>1.3</td>\n",
              "      <td>6.2</td>\n",
              "    </tr>\n",
              "    <tr>\n",
              "      <th>239</th>\n",
              "      <td>Cohort B</td>\n",
              "      <td>120</td>\n",
              "      <td>311</td>\n",
              "      <td>1018</td>\n",
              "      <td>308</td>\n",
              "      <td>641</td>\n",
              "      <td>136</td>\n",
              "      <td>0.6</td>\n",
              "      <td>6.0</td>\n",
              "    </tr>\n",
              "  </tbody>\n",
              "</table>\n",
              "<p>240 rows × 9 columns</p>\n",
              "</div>"
            ],
            "text/plain": [
              "      segment  level_number  ...  outflow_rate  retention_rate\n",
              "0    Cohort A             1  ...           NaN           100.0\n",
              "1    Cohort B             1  ...           NaN           100.0\n",
              "2    Cohort A             2  ...           6.6            93.4\n",
              "3    Cohort B             2  ...           7.6            92.4\n",
              "4    Cohort A             3  ...           7.6            86.3\n",
              "..        ...           ...  ...           ...             ...\n",
              "235  Cohort A           118  ...           0.6             6.5\n",
              "236  Cohort B           119  ...           0.9             6.0\n",
              "237  Cohort A           119  ...           2.4             6.3\n",
              "238  Cohort A           120  ...           1.3             6.2\n",
              "239  Cohort B           120  ...           0.6             6.0\n",
              "\n",
              "[240 rows x 9 columns]"
            ]
          },
          "metadata": {},
          "execution_count": 16
        }
      ]
    },
    {
      "cell_type": "code",
      "metadata": {
        "colab": {
          "base_uri": "https://localhost:8080/",
          "height": 473
        },
        "id": "-c2Q0YVIJXMw",
        "outputId": "61a7f1a7-b17a-48e1-de23-3f1b11a20969"
      },
      "source": [
        "# визуализируем удержание игроков\n",
        "data_retention = df.groupby(['segment', 'level_number'])['retention_rate'].sum().unstack('segment').reset_index()\n",
        "\n",
        "plt.figure(figsize = (20,7))\n",
        "\n",
        "plt.plot(data_retention['level_number'], data_retention['Cohort A'])\n",
        "plt.plot(data_retention['level_number'], data_retention['Cohort B'])\n",
        "\n",
        "plt.title('Процент удержанных игроков')\n",
        "plt.xlabel('Уровень')\n",
        "plt.ylabel('%')\n",
        "plt.legend(['Cohort A','Cohort B'])\n",
        "\n",
        "plt.show()"
      ],
      "execution_count": 17,
      "outputs": [
        {
          "output_type": "display_data",
          "data": {
            "image/png": "[encoded data removed]",
            "text/plain": [
              "<Figure size 1440x504 with 1 Axes>"
            ]
          },
          "metadata": {}
        }
      ]
    },
    {
      "cell_type": "markdown",
      "metadata": {
        "id": "m3WRH1IstLcd"
      },
      "source": [
        "Только 6% игроков остаются в игре до последнего уровня вне зависимости от когорты"
      ]
    },
    {
      "cell_type": "code",
      "metadata": {
        "id": "nwUxBnZhubBv"
      },
      "source": [
        "# посчитаем количество попыток для каждого уровня\n",
        "df['number_of_attempts'] = (df['start_qty'] / df['unique_start_qty']).round(1)"
      ],
      "execution_count": 18,
      "outputs": []
    },
    {
      "cell_type": "code",
      "metadata": {
        "colab": {
          "base_uri": "https://localhost:8080/",
          "height": 204
        },
        "id": "BsPsBGK1plP9",
        "outputId": "4e670604-3606-4f0c-b421-18ef7d41620d"
      },
      "source": [
        "# посчитаем процент проигрышей для каждого уровня\n",
        "df['loose_rate'] = ((df['losed_qty'] / df['start_qty'])*100).round(1)\n",
        "df.head()"
      ],
      "execution_count": 19,
      "outputs": [
        {
          "output_type": "execute_result",
          "data": {
            "text/html": [
              "<div>\n",
              "<style scoped>\n",
              "    .dataframe tbody tr th:only-of-type {\n",
              "        vertical-align: middle;\n",
              "    }\n",
              "\n",
              "    .dataframe tbody tr th {\n",
              "        vertical-align: top;\n",
              "    }\n",
              "\n",
              "    .dataframe thead th {\n",
              "        text-align: right;\n",
              "    }\n",
              "</style>\n",
              "<table border=\"1\" class=\"dataframe\">\n",
              "  <thead>\n",
              "    <tr style=\"text-align: right;\">\n",
              "      <th></th>\n",
              "      <th>segment</th>\n",
              "      <th>level_number</th>\n",
              "      <th>unique_start_qty</th>\n",
              "      <th>start_qty</th>\n",
              "      <th>won_qty</th>\n",
              "      <th>losed_qty</th>\n",
              "      <th>quit_qty</th>\n",
              "      <th>outflow_rate</th>\n",
              "      <th>retention_rate</th>\n",
              "      <th>number_of_attempts</th>\n",
              "      <th>loose_rate</th>\n",
              "    </tr>\n",
              "  </thead>\n",
              "  <tbody>\n",
              "    <tr>\n",
              "      <th>0</th>\n",
              "      <td>Cohort A</td>\n",
              "      <td>1</td>\n",
              "      <td>5057</td>\n",
              "      <td>5131</td>\n",
              "      <td>4902</td>\n",
              "      <td>0</td>\n",
              "      <td>464</td>\n",
              "      <td>NaN</td>\n",
              "      <td>100.0</td>\n",
              "      <td>1.0</td>\n",
              "      <td>0.0</td>\n",
              "    </tr>\n",
              "    <tr>\n",
              "      <th>1</th>\n",
              "      <td>Cohort B</td>\n",
              "      <td>1</td>\n",
              "      <td>5196</td>\n",
              "      <td>5272</td>\n",
              "      <td>4995</td>\n",
              "      <td>0</td>\n",
              "      <td>493</td>\n",
              "      <td>NaN</td>\n",
              "      <td>100.0</td>\n",
              "      <td>1.0</td>\n",
              "      <td>0.0</td>\n",
              "    </tr>\n",
              "    <tr>\n",
              "      <th>2</th>\n",
              "      <td>Cohort A</td>\n",
              "      <td>2</td>\n",
              "      <td>4724</td>\n",
              "      <td>4759</td>\n",
              "      <td>4600</td>\n",
              "      <td>12</td>\n",
              "      <td>147</td>\n",
              "      <td>6.6</td>\n",
              "      <td>93.4</td>\n",
              "      <td>1.0</td>\n",
              "      <td>0.3</td>\n",
              "    </tr>\n",
              "    <tr>\n",
              "      <th>3</th>\n",
              "      <td>Cohort B</td>\n",
              "      <td>2</td>\n",
              "      <td>4801</td>\n",
              "      <td>4845</td>\n",
              "      <td>4629</td>\n",
              "      <td>13</td>\n",
              "      <td>157</td>\n",
              "      <td>7.6</td>\n",
              "      <td>92.4</td>\n",
              "      <td>1.0</td>\n",
              "      <td>0.3</td>\n",
              "    </tr>\n",
              "    <tr>\n",
              "      <th>4</th>\n",
              "      <td>Cohort A</td>\n",
              "      <td>3</td>\n",
              "      <td>4363</td>\n",
              "      <td>4464</td>\n",
              "      <td>4175</td>\n",
              "      <td>72</td>\n",
              "      <td>223</td>\n",
              "      <td>7.6</td>\n",
              "      <td>86.3</td>\n",
              "      <td>1.0</td>\n",
              "      <td>1.6</td>\n",
              "    </tr>\n",
              "  </tbody>\n",
              "</table>\n",
              "</div>"
            ],
            "text/plain": [
              "    segment  level_number  ...  number_of_attempts  loose_rate\n",
              "0  Cohort A             1  ...                 1.0         0.0\n",
              "1  Cohort B             1  ...                 1.0         0.0\n",
              "2  Cohort A             2  ...                 1.0         0.3\n",
              "3  Cohort B             2  ...                 1.0         0.3\n",
              "4  Cohort A             3  ...                 1.0         1.6\n",
              "\n",
              "[5 rows x 11 columns]"
            ]
          },
          "metadata": {},
          "execution_count": 19
        }
      ]
    },
    {
      "cell_type": "code",
      "metadata": {
        "colab": {
          "base_uri": "https://localhost:8080/",
          "height": 529
        },
        "id": "bjNqXnOFva1n",
        "outputId": "4d7fcd20-48b3-4b2d-bc8d-189cc2a36040"
      },
      "source": [
        "# отобразим 10 самых сложных уровней по агрегированным данным когорты А и когорты В\n",
        "data_by_attempts = df.groupby('level_number')['number_of_attempts'].mean().reset_index().sort_values(by = 'number_of_attempts', ascending = False).head(10)\n",
        "data_by_attempts['level_number'] = data_by_attempts['level_number'].apply(str)\n",
        "\n",
        "data_by_loose = df.groupby('level_number')['loose_rate'].mean().reset_index().sort_values(by = 'loose_rate', ascending = False).head(10)\n",
        "data_by_loose['level_number'] = data_by_loose['level_number'].apply(str)\n",
        "\n",
        "plt.figure(figsize = (10,7))\n",
        "plt.subplot (1, 2, 1)\n",
        "plt.suptitle('Самые сложные уровни')\n",
        "plt.barh(data_by_attempts['level_number'], data_by_attempts['number_of_attempts'])\n",
        "plt.xlabel('Количество попыток')\n",
        "plt.ylabel('Уровень')\n",
        "plt.xticks(np.arange(1,4))\n",
        "for i, v in enumerate(data_by_attempts['number_of_attempts']):\n",
        "    plt.text(v-0.3, i-0.25, str(round(v,1)), color='black', fontweight='bold')\n",
        "\n",
        "plt.subplot (1, 2, 2)\n",
        "plt.barh(data_by_loose['level_number'], data_by_loose['loose_rate'])\n",
        "plt.xlabel('% проигрышей')\n",
        "plt.ylabel('Уровень')\n",
        "for i, v in enumerate(data_by_loose['loose_rate']):\n",
        "    plt.text(v-8, i-0.25, str(round(v,1)), color='black', fontweight='bold')   \n",
        "\n",
        "plt.show()"
      ],
      "execution_count": 20,
      "outputs": [
        {
          "output_type": "display_data",
          "data": {
            "image/png": "[encoded data removed]",
            "text/plain": [
              "<Figure size 720x504 with 2 Axes>"
            ]
          },
          "metadata": {}
        }
      ]
    },
    {
      "cell_type": "markdown",
      "metadata": {
        "id": "KlCP_3db3TlT"
      },
      "source": [
        "Самый сложный уровень - 98. Для его прохождения необходимо в среднем 3 попытки. Доля проигрышей на этом уровне = 60.6%"
      ]
    },
    {
      "cell_type": "markdown",
      "metadata": {
        "id": "l6MVEwiq5kdl"
      },
      "source": [
        "## 1.4\n",
        "Перед вами стоит выбор - заменить старые 30 уровней новыми, или нет? Почему?"
      ]
    },
    {
      "cell_type": "code",
      "metadata": {
        "colab": {
          "base_uri": "https://localhost:8080/",
          "height": 979
        },
        "id": "myIppG0M5Gys",
        "outputId": "3c668fdc-c8f6-4ec0-9f0b-daab61d3f54a"
      },
      "source": [
        "# посчитаем показатели А/В теста\n",
        "data_test"
      ],
      "execution_count": 24,
      "outputs": [
        {
          "output_type": "execute_result",
          "data": {
            "text/html": [
              "<div>\n",
              "<style scoped>\n",
              "    .dataframe tbody tr th:only-of-type {\n",
              "        vertical-align: middle;\n",
              "    }\n",
              "\n",
              "    .dataframe tbody tr th {\n",
              "        vertical-align: top;\n",
              "    }\n",
              "\n",
              "    .dataframe thead th {\n",
              "        text-align: right;\n",
              "    }\n",
              "</style>\n",
              "<table border=\"1\" class=\"dataframe\">\n",
              "  <thead>\n",
              "    <tr style=\"text-align: right;\">\n",
              "      <th>segment</th>\n",
              "      <th>level_number</th>\n",
              "      <th>Cohort A</th>\n",
              "      <th>Cohort B</th>\n",
              "    </tr>\n",
              "  </thead>\n",
              "  <tbody>\n",
              "    <tr>\n",
              "      <th>0</th>\n",
              "      <td>1</td>\n",
              "      <td>0.0</td>\n",
              "      <td>0.0</td>\n",
              "    </tr>\n",
              "    <tr>\n",
              "      <th>1</th>\n",
              "      <td>2</td>\n",
              "      <td>6.6</td>\n",
              "      <td>7.6</td>\n",
              "    </tr>\n",
              "    <tr>\n",
              "      <th>2</th>\n",
              "      <td>3</td>\n",
              "      <td>7.6</td>\n",
              "      <td>9.4</td>\n",
              "    </tr>\n",
              "    <tr>\n",
              "      <th>3</th>\n",
              "      <td>4</td>\n",
              "      <td>10.0</td>\n",
              "      <td>9.9</td>\n",
              "    </tr>\n",
              "    <tr>\n",
              "      <th>4</th>\n",
              "      <td>5</td>\n",
              "      <td>8.5</td>\n",
              "      <td>9.3</td>\n",
              "    </tr>\n",
              "    <tr>\n",
              "      <th>5</th>\n",
              "      <td>6</td>\n",
              "      <td>7.1</td>\n",
              "      <td>7.4</td>\n",
              "    </tr>\n",
              "    <tr>\n",
              "      <th>6</th>\n",
              "      <td>7</td>\n",
              "      <td>4.3</td>\n",
              "      <td>3.8</td>\n",
              "    </tr>\n",
              "    <tr>\n",
              "      <th>7</th>\n",
              "      <td>8</td>\n",
              "      <td>6.1</td>\n",
              "      <td>5.8</td>\n",
              "    </tr>\n",
              "    <tr>\n",
              "      <th>8</th>\n",
              "      <td>9</td>\n",
              "      <td>7.0</td>\n",
              "      <td>7.1</td>\n",
              "    </tr>\n",
              "    <tr>\n",
              "      <th>9</th>\n",
              "      <td>10</td>\n",
              "      <td>6.4</td>\n",
              "      <td>6.6</td>\n",
              "    </tr>\n",
              "    <tr>\n",
              "      <th>10</th>\n",
              "      <td>11</td>\n",
              "      <td>7.4</td>\n",
              "      <td>5.8</td>\n",
              "    </tr>\n",
              "    <tr>\n",
              "      <th>11</th>\n",
              "      <td>12</td>\n",
              "      <td>3.0</td>\n",
              "      <td>2.6</td>\n",
              "    </tr>\n",
              "    <tr>\n",
              "      <th>12</th>\n",
              "      <td>13</td>\n",
              "      <td>4.1</td>\n",
              "      <td>4.0</td>\n",
              "    </tr>\n",
              "    <tr>\n",
              "      <th>13</th>\n",
              "      <td>14</td>\n",
              "      <td>4.8</td>\n",
              "      <td>4.5</td>\n",
              "    </tr>\n",
              "    <tr>\n",
              "      <th>14</th>\n",
              "      <td>15</td>\n",
              "      <td>3.4</td>\n",
              "      <td>4.4</td>\n",
              "    </tr>\n",
              "    <tr>\n",
              "      <th>15</th>\n",
              "      <td>16</td>\n",
              "      <td>6.9</td>\n",
              "      <td>7.7</td>\n",
              "    </tr>\n",
              "    <tr>\n",
              "      <th>16</th>\n",
              "      <td>17</td>\n",
              "      <td>2.1</td>\n",
              "      <td>2.2</td>\n",
              "    </tr>\n",
              "    <tr>\n",
              "      <th>17</th>\n",
              "      <td>18</td>\n",
              "      <td>2.0</td>\n",
              "      <td>1.5</td>\n",
              "    </tr>\n",
              "    <tr>\n",
              "      <th>18</th>\n",
              "      <td>19</td>\n",
              "      <td>2.9</td>\n",
              "      <td>2.1</td>\n",
              "    </tr>\n",
              "    <tr>\n",
              "      <th>19</th>\n",
              "      <td>20</td>\n",
              "      <td>4.7</td>\n",
              "      <td>3.5</td>\n",
              "    </tr>\n",
              "    <tr>\n",
              "      <th>20</th>\n",
              "      <td>21</td>\n",
              "      <td>5.3</td>\n",
              "      <td>4.3</td>\n",
              "    </tr>\n",
              "    <tr>\n",
              "      <th>21</th>\n",
              "      <td>22</td>\n",
              "      <td>1.9</td>\n",
              "      <td>1.4</td>\n",
              "    </tr>\n",
              "    <tr>\n",
              "      <th>22</th>\n",
              "      <td>23</td>\n",
              "      <td>1.4</td>\n",
              "      <td>1.5</td>\n",
              "    </tr>\n",
              "    <tr>\n",
              "      <th>23</th>\n",
              "      <td>24</td>\n",
              "      <td>1.3</td>\n",
              "      <td>1.5</td>\n",
              "    </tr>\n",
              "    <tr>\n",
              "      <th>24</th>\n",
              "      <td>25</td>\n",
              "      <td>1.3</td>\n",
              "      <td>0.9</td>\n",
              "    </tr>\n",
              "    <tr>\n",
              "      <th>25</th>\n",
              "      <td>26</td>\n",
              "      <td>2.4</td>\n",
              "      <td>3.1</td>\n",
              "    </tr>\n",
              "    <tr>\n",
              "      <th>26</th>\n",
              "      <td>27</td>\n",
              "      <td>1.9</td>\n",
              "      <td>2.7</td>\n",
              "    </tr>\n",
              "    <tr>\n",
              "      <th>27</th>\n",
              "      <td>28</td>\n",
              "      <td>3.2</td>\n",
              "      <td>3.4</td>\n",
              "    </tr>\n",
              "    <tr>\n",
              "      <th>28</th>\n",
              "      <td>29</td>\n",
              "      <td>3.9</td>\n",
              "      <td>2.0</td>\n",
              "    </tr>\n",
              "    <tr>\n",
              "      <th>29</th>\n",
              "      <td>30</td>\n",
              "      <td>3.8</td>\n",
              "      <td>4.0</td>\n",
              "    </tr>\n",
              "  </tbody>\n",
              "</table>\n",
              "</div>"
            ],
            "text/plain": [
              "segment  level_number  Cohort A  Cohort B\n",
              "0                   1       0.0       0.0\n",
              "1                   2       6.6       7.6\n",
              "2                   3       7.6       9.4\n",
              "3                   4      10.0       9.9\n",
              "4                   5       8.5       9.3\n",
              "5                   6       7.1       7.4\n",
              "6                   7       4.3       3.8\n",
              "7                   8       6.1       5.8\n",
              "8                   9       7.0       7.1\n",
              "9                  10       6.4       6.6\n",
              "10                 11       7.4       5.8\n",
              "11                 12       3.0       2.6\n",
              "12                 13       4.1       4.0\n",
              "13                 14       4.8       4.5\n",
              "14                 15       3.4       4.4\n",
              "15                 16       6.9       7.7\n",
              "16                 17       2.1       2.2\n",
              "17                 18       2.0       1.5\n",
              "18                 19       2.9       2.1\n",
              "19                 20       4.7       3.5\n",
              "20                 21       5.3       4.3\n",
              "21                 22       1.9       1.4\n",
              "22                 23       1.4       1.5\n",
              "23                 24       1.3       1.5\n",
              "24                 25       1.3       0.9\n",
              "25                 26       2.4       3.1\n",
              "26                 27       1.9       2.7\n",
              "27                 28       3.2       3.4\n",
              "28                 29       3.9       2.0\n",
              "29                 30       3.8       4.0"
            ]
          },
          "metadata": {},
          "execution_count": 24
        }
      ]
    },
    {
      "cell_type": "code",
      "metadata": {
        "colab": {
          "base_uri": "https://localhost:8080/",
          "height": 500
        },
        "id": "SFkSriuU6kbM",
        "outputId": "31f8785a-a481-4e85-8fda-7bd575bb33da"
      },
      "source": [
        "# визуализируем наличие различий в группах аб-теста\n",
        "\n",
        "import seaborn as sns\n",
        "\n",
        "plt.figure(figsize=(5, 7))\n",
        "ax = sns.boxplot(data=data_test[['Cohort A','Cohort B']], palette=\"Set2\")\n",
        "plt.ylabel('%')\n",
        "plt.title('Отвалившиеся игроки')\n",
        "plt.show()"
      ],
      "execution_count": 25,
      "outputs": [
        {
          "output_type": "display_data",
          "data": {
            "image/png": "[encoded data removed]",
            "text/plain": [
              "<Figure size 360x504 with 1 Axes>"
            ]
          },
          "metadata": {}
        }
      ]
    },
    {
      "cell_type": "markdown",
      "metadata": {
        "id": "2iXlCOCx7iXA"
      },
      "source": [
        "В среднем, количество отвалившихся игроков в когорте В ненамного меньше, чем в когорте А. Также немного меньше значение третьего квартиля. Посчитаем p-value"
      ]
    },
    {
      "cell_type": "code",
      "metadata": {
        "colab": {
          "base_uri": "https://localhost:8080/"
        },
        "id": "_t7exsRz7uZn",
        "outputId": "4ed8771b-9b42-4c86-8575-77305ed9f71c"
      },
      "source": [
        "# считаем значимость различий по аб-тесту\n",
        "import scipy.stats as stats\n",
        "t_stat, p_val= stats.ttest_ind(data_test['Cohort A'],data_test['Cohort B'])\n",
        "t_stat , p_val"
      ],
      "execution_count": 26,
      "outputs": [
        {
          "output_type": "execute_result",
          "data": {
            "text/plain": [
              "(0.0638803152435365, 0.9492851818862708)"
            ]
          },
          "metadata": {},
          "execution_count": 26
        }
      ]
    },
    {
      "cell_type": "markdown",
      "metadata": {
        "id": "r_heY4tB9Dxs"
      },
      "source": [
        "Поскольку значимость A/B теста 0.95 больше допустимого уровня значимости 0,05, то мы принимаем нулевую гипотезу о равенстве конверсий в группах, т.е. когорты А и В статистически равны. С точки зрения отвала игроков разница в сложности начальных уровней игры Rescue Team статистически незначима. Уровни можно не менять."
      ]
    },
    {
      "cell_type": "code",
      "metadata": {
        "colab": {
          "base_uri": "https://localhost:8080/",
          "height": 111
        },
        "id": "axIHWDUW0pUq",
        "outputId": "496130fa-0809-4893-ea20-fbd49dcab265"
      },
      "source": [
        "# проведем еще один A/B тест на предмет дошли ли игроки до 31 уровня или нет\n",
        "data_test = df.groupby(['segment', 'level_number'])['unique_start_qty'].sum().unstack('segment').reset_index()\n",
        "data_test = data_test.iloc[[0,30],:]\n",
        "data_test = data_test.drop('level_number', axis = 1).T\n",
        "data_test.index.name = None\n",
        "data_test"
      ],
      "execution_count": 27,
      "outputs": [
        {
          "output_type": "execute_result",
          "data": {
            "text/html": [
              "<div>\n",
              "<style scoped>\n",
              "    .dataframe tbody tr th:only-of-type {\n",
              "        vertical-align: middle;\n",
              "    }\n",
              "\n",
              "    .dataframe tbody tr th {\n",
              "        vertical-align: top;\n",
              "    }\n",
              "\n",
              "    .dataframe thead th {\n",
              "        text-align: right;\n",
              "    }\n",
              "</style>\n",
              "<table border=\"1\" class=\"dataframe\">\n",
              "  <thead>\n",
              "    <tr style=\"text-align: right;\">\n",
              "      <th></th>\n",
              "      <th>0</th>\n",
              "      <th>30</th>\n",
              "    </tr>\n",
              "  </thead>\n",
              "  <tbody>\n",
              "    <tr>\n",
              "      <th>Cohort A</th>\n",
              "      <td>5057</td>\n",
              "      <td>1237</td>\n",
              "    </tr>\n",
              "    <tr>\n",
              "      <th>Cohort B</th>\n",
              "      <td>5196</td>\n",
              "      <td>1278</td>\n",
              "    </tr>\n",
              "  </tbody>\n",
              "</table>\n",
              "</div>"
            ],
            "text/plain": [
              "            0     30\n",
              "Cohort A  5057  1237\n",
              "Cohort B  5196  1278"
            ]
          },
          "metadata": {},
          "execution_count": 27
        }
      ]
    },
    {
      "cell_type": "code",
      "metadata": {
        "colab": {
          "base_uri": "https://localhost:8080/",
          "height": 111
        },
        "id": "NSnaDyni2nya",
        "outputId": "eb54f7e5-e04a-4815-a1c0-db92e45faeb5"
      },
      "source": [
        "# создаем таблицу сопряженности на основе результатов A/B-теста\n",
        "data_test.columns = ['unique_start_qty', 'in']\n",
        "data_test['out'] = data_test['unique_start_qty'] - data_test['in']\n",
        "data_test = data_test.drop(['unique_start_qty'], axis = 1)\n",
        "data_test.head()"
      ],
      "execution_count": 28,
      "outputs": [
        {
          "output_type": "execute_result",
          "data": {
            "text/html": [
              "<div>\n",
              "<style scoped>\n",
              "    .dataframe tbody tr th:only-of-type {\n",
              "        vertical-align: middle;\n",
              "    }\n",
              "\n",
              "    .dataframe tbody tr th {\n",
              "        vertical-align: top;\n",
              "    }\n",
              "\n",
              "    .dataframe thead th {\n",
              "        text-align: right;\n",
              "    }\n",
              "</style>\n",
              "<table border=\"1\" class=\"dataframe\">\n",
              "  <thead>\n",
              "    <tr style=\"text-align: right;\">\n",
              "      <th></th>\n",
              "      <th>in</th>\n",
              "      <th>out</th>\n",
              "    </tr>\n",
              "  </thead>\n",
              "  <tbody>\n",
              "    <tr>\n",
              "      <th>Cohort A</th>\n",
              "      <td>1237</td>\n",
              "      <td>3820</td>\n",
              "    </tr>\n",
              "    <tr>\n",
              "      <th>Cohort B</th>\n",
              "      <td>1278</td>\n",
              "      <td>3918</td>\n",
              "    </tr>\n",
              "  </tbody>\n",
              "</table>\n",
              "</div>"
            ],
            "text/plain": [
              "            in   out\n",
              "Cohort A  1237  3820\n",
              "Cohort B  1278  3918"
            ]
          },
          "metadata": {},
          "execution_count": 28
        }
      ]
    },
    {
      "cell_type": "code",
      "metadata": {
        "colab": {
          "base_uri": "https://localhost:8080/"
        },
        "id": "tJi6mOb27Y41",
        "outputId": "678378f0-7aa7-4a25-cec5-13e8be798b24"
      },
      "source": [
        "# определяем значимость аб-теста методом хи-квадрат\n",
        "import scipy.stats as stats\n",
        "result = stats.chi2_contingency(data_test, correction = False)\n",
        "chisq, pvalue = result[:2]\n",
        "print('chisq = {}, pvalue = {}'.format(chisq, pvalue))"
      ],
      "execution_count": 29,
      "outputs": [
        {
          "output_type": "stream",
          "name": "stdout",
          "text": [
            "chisq = 0.02511779083961147, pvalue = 0.8740739047112432\n"
          ]
        }
      ]
    },
    {
      "cell_type": "markdown",
      "metadata": {
        "id": "Dm9h5Fs575n4"
      },
      "source": [
        "И снова значимость A/B теста очень высоквая 0.87. Нет статистических предпосылок для замены уровней на новые облегченные.  "
      ]
    },
    {
      "cell_type": "markdown",
      "metadata": {
        "id": "3IzdqL-lAIIG"
      },
      "source": [
        "# Задание 2"
      ]
    },
    {
      "cell_type": "markdown",
      "metadata": {
        "id": "vk7F71ve-iFt"
      },
      "source": [
        "## 2.1\n",
        " Основываясь на данных из таблицы сделайте для лучшей, по вашему\n",
        "мнению,когорты прогноз, какой процент пользователей дойдет до 240, 360, 480,\n",
        "600 уровня.\n"
      ]
    },
    {
      "cell_type": "code",
      "metadata": {
        "colab": {
          "base_uri": "https://localhost:8080/",
          "height": 204
        },
        "id": "1USZeTXA-Etl",
        "outputId": "e2ac63d1-297a-48e1-a2f3-104c1c3a0b3c"
      },
      "source": [
        "# спрогнозируем значения для когорты А\n",
        "data_retention = data_retention[['level_number','Cohort A']]\n",
        "data_retention.head()"
      ],
      "execution_count": 103,
      "outputs": [
        {
          "output_type": "execute_result",
          "data": {
            "text/html": [
              "<div>\n",
              "<style scoped>\n",
              "    .dataframe tbody tr th:only-of-type {\n",
              "        vertical-align: middle;\n",
              "    }\n",
              "\n",
              "    .dataframe tbody tr th {\n",
              "        vertical-align: top;\n",
              "    }\n",
              "\n",
              "    .dataframe thead th {\n",
              "        text-align: right;\n",
              "    }\n",
              "</style>\n",
              "<table border=\"1\" class=\"dataframe\">\n",
              "  <thead>\n",
              "    <tr style=\"text-align: right;\">\n",
              "      <th>segment</th>\n",
              "      <th>level_number</th>\n",
              "      <th>Cohort A</th>\n",
              "    </tr>\n",
              "  </thead>\n",
              "  <tbody>\n",
              "    <tr>\n",
              "      <th>0</th>\n",
              "      <td>1</td>\n",
              "      <td>100.0</td>\n",
              "    </tr>\n",
              "    <tr>\n",
              "      <th>1</th>\n",
              "      <td>2</td>\n",
              "      <td>93.4</td>\n",
              "    </tr>\n",
              "    <tr>\n",
              "      <th>2</th>\n",
              "      <td>3</td>\n",
              "      <td>86.3</td>\n",
              "    </tr>\n",
              "    <tr>\n",
              "      <th>3</th>\n",
              "      <td>4</td>\n",
              "      <td>77.6</td>\n",
              "    </tr>\n",
              "    <tr>\n",
              "      <th>4</th>\n",
              "      <td>5</td>\n",
              "      <td>71.0</td>\n",
              "    </tr>\n",
              "  </tbody>\n",
              "</table>\n",
              "</div>"
            ],
            "text/plain": [
              "segment  level_number  Cohort A\n",
              "0                   1     100.0\n",
              "1                   2      93.4\n",
              "2                   3      86.3\n",
              "3                   4      77.6\n",
              "4                   5      71.0"
            ]
          },
          "metadata": {},
          "execution_count": 103
        }
      ]
    },
    {
      "cell_type": "code",
      "metadata": {
        "colab": {
          "base_uri": "https://localhost:8080/",
          "height": 440
        },
        "id": "E21qh_0GBMvH",
        "outputId": "d4d5441e-6fad-4255-d4eb-b84b5188af81"
      },
      "source": [
        "# определяем тип возможной кривой по диаграмме рассеяния\n",
        "\n",
        "plt.figure(num=None, figsize=(8, 6), dpi=80, facecolor='w', edgecolor='k')\n",
        "plt.scatter(data_retention['level_number'], data_retention['Cohort A'], label=\"Original Data\" )\n",
        "plt.show()"
      ],
      "execution_count": 31,
      "outputs": [
        {
          "output_type": "display_data",
          "data": {
            "image/png": "[encoded data removed]",
            "text/plain": [
              "<Figure size 640x480 with 1 Axes>"
            ]
          },
          "metadata": {}
        }
      ]
    },
    {
      "cell_type": "code",
      "metadata": {
        "id": "n0xuHF-8BffH"
      },
      "source": [
        "# задаем аппроксимирующие функции\n",
        "def func1( x, a, b, c):\n",
        "  return a ** (b*x + c)"
      ],
      "execution_count": 32,
      "outputs": []
    },
    {
      "cell_type": "code",
      "metadata": {
        "id": "hERVrGidwzUv"
      },
      "source": [
        "def func2( x, a, b):\n",
        "  return a / (x + b )"
      ],
      "execution_count": 33,
      "outputs": []
    },
    {
      "cell_type": "code",
      "metadata": {
        "id": "BZabKMhUE-Kw"
      },
      "source": [
        "def func3( x, a, b, c):\n",
        "  return a / (x+b) + c"
      ],
      "execution_count": 34,
      "outputs": []
    },
    {
      "cell_type": "code",
      "metadata": {
        "id": "gluJA_2GwhOL"
      },
      "source": [
        "def func4( x, a, b, c , d):\n",
        "  return a / (x*b + c) + d"
      ],
      "execution_count": 104,
      "outputs": []
    },
    {
      "cell_type": "code",
      "metadata": {
        "id": "TxsvdewqBkZI"
      },
      "source": [
        "# подбираем оптимальные параметры функций\n",
        "from scipy.optimize import curve_fit\n",
        "\n",
        "func1_popt, func1_pcov = curve_fit(func1, data_retention['level_number'], data_retention['Cohort A'])\n",
        "func2_popt, func2_pcov = curve_fit(func2, data_retention['level_number'], data_retention['Cohort A'])\n",
        "func3_popt, func3_pcov = curve_fit(func3, data_retention['level_number'], data_retention['Cohort A'])\n",
        "func4_popt, func4_pcov = curve_fit(func4, data_retention['level_number'], data_retention['Cohort A'])"
      ],
      "execution_count": 105,
      "outputs": []
    },
    {
      "cell_type": "code",
      "metadata": {
        "id": "La1ciEg5BrQs"
      },
      "source": [
        "# задаем точку прогноза - какой процент пользователей дойдет до 600 уровня\n",
        "projection_endpoint = 600"
      ],
      "execution_count": 106,
      "outputs": []
    },
    {
      "cell_type": "code",
      "metadata": {
        "id": "Ki_8YXDUBvne"
      },
      "source": [
        "# задаем значения функций с помощью метода np.arange и параметров подобранных кривых\n",
        "func1_y_projected = func1( np.arange( projection_endpoint ), *func1_popt )\n",
        "func2_y_projected = func2( np.arange( projection_endpoint ), *func2_popt )\n",
        "func3_y_projected = func3( np.arange( projection_endpoint ), *func3_popt )\n",
        "func4_y_projected = func4( np.arange( projection_endpoint ), *func4_popt )"
      ],
      "execution_count": 107,
      "outputs": []
    },
    {
      "cell_type": "code",
      "metadata": {
        "colab": {
          "base_uri": "https://localhost:8080/",
          "height": 605
        },
        "id": "ps4q-UpvB3zE",
        "outputId": "7751a142-80dd-4fdc-cb61-83d88278896b"
      },
      "source": [
        "plt.figure(num=None, figsize=(20, 10), dpi=80, facecolor='w', edgecolor='k')\n",
        "plt.scatter(data_retention['level_number'], data_retention['Cohort A'], label=\"Original Data\" )\n",
        "plt.plot( func1_y_projected, label=\"func1_y_projected\" )\n",
        "plt.plot( func2_y_projected, label=\"func2_y_projected\" )\n",
        "plt.plot( func3_y_projected, label=\"func3_y_projected\" )\n",
        "plt.plot( func4_y_projected, label=\"func4_y_projected\" )\n",
        "\n",
        "plt.legend()\n",
        "plt.show()"
      ],
      "execution_count": 108,
      "outputs": [
        {
          "output_type": "display_data",
          "data": {
            "image/png": "[encoded data removed]",
            "text/plain": [
              "<Figure size 1600x800 with 1 Axes>"
            ]
          },
          "metadata": {}
        }
      ]
    },
    {
      "cell_type": "markdown",
      "metadata": {
        "id": "uA7nwVZmCftS"
      },
      "source": [
        "Вуаля! Четвертая функция нам подходит. Проверим, насколько она точна"
      ]
    },
    {
      "cell_type": "code",
      "metadata": {
        "colab": {
          "base_uri": "https://localhost:8080/"
        },
        "id": "CwaOYdo99xSO",
        "outputId": "37cee8ce-e4d9-4803-9f32-323b22a62358"
      },
      "source": [
        "from sklearn.metrics import mean_absolute_error, mean_squared_error, r2_score\n",
        "\n",
        "print('Средняя абсолютная ошибка:', mean_absolute_error(data_retention.iloc[:,1].values, func4_y_projected[:120]))\n",
        "print('Среднеквадратичная ошибка:', mean_squared_error(data_retention.iloc[:,1].values, func4_y_projected[:120]))\n",
        "print('Коэффициент детерминации (r2_score):', r2_score(data_retention.iloc[:,1].values, func4_y_projected[:120]))"
      ],
      "execution_count": 40,
      "outputs": [
        {
          "output_type": "stream",
          "name": "stdout",
          "text": [
            "Средняя абсолютная ошибка: 1.3010004371532786\n",
            "Среднеквадратичная ошибка: 4.631206915108466\n",
            "Коэффициент детерминации (r2_score): 0.9867954758084359\n"
          ]
        }
      ]
    },
    {
      "cell_type": "markdown",
      "metadata": {
        "id": "BQ3anprCCnYG"
      },
      "source": [
        "Отличные показатели! Коэффициент детерминации = 0.99, что говорит о точности нашей модели. Спрогнозируем наши значения"
      ]
    },
    {
      "cell_type": "code",
      "metadata": {
        "colab": {
          "base_uri": "https://localhost:8080/"
        },
        "id": "hlPekCCWDQNX",
        "outputId": "5188bb4f-9877-4fdb-dc14-1cd9f3a70354"
      },
      "source": [
        "print(f'До 240 уровня дойдет {round(func4_y_projected[239],1) }% пользователей')\n",
        "print(f'До 360 уровня дойдет {round(func4_y_projected[359],1) }% пользователей')\n",
        "print(f'До 480 уровня дойдет {round(func4_y_projected[479],1) }% пользователей')\n",
        "print(f'До 600 уровня дойдет {round(func4_y_projected[599],1) }% пользователей')"
      ],
      "execution_count": 601,
      "outputs": [
        {
          "output_type": "stream",
          "name": "stdout",
          "text": [
            "До 240 уровня дойдет 3.3% пользователей\n",
            "До 360 уровня дойдет 1.9% пользователей\n",
            "До 480 уровня дойдет 1.2% пользователей\n",
            "До 600 уровня дойдет 0.8% пользователей\n"
          ]
        }
      ]
    },
    {
      "cell_type": "markdown",
      "metadata": {
        "id": "AyBi7cdMAxjF"
      },
      "source": [
        "Так как у меня долго не получалось подобрать функцию, я решила задачку альтернативным способом. Прилагаю и его тоже"
      ]
    },
    {
      "cell_type": "markdown",
      "metadata": {
        "id": "XvE1ACbjD-5v"
      },
      "source": [
        "## Альтернативное решение"
      ]
    },
    {
      "cell_type": "code",
      "metadata": {
        "id": "NDHebEu6LHSP",
        "colab": {
          "base_uri": "https://localhost:8080/"
        },
        "outputId": "7e0c0e43-13eb-492a-80e5-a4de880b11ae"
      },
      "source": [
        "#  У нас равномерное распределение уровней. Создадим равномерный временной ряд, как того требует Prophet()\n",
        "import datetime\n",
        "base = datetime.date.today()\n",
        "date_list = [base - datetime.timedelta(days=x) for x in range(120)]\n",
        "len(date_list)"
      ],
      "execution_count": 41,
      "outputs": [
        {
          "output_type": "execute_result",
          "data": {
            "text/plain": [
              "120"
            ]
          },
          "metadata": {},
          "execution_count": 41
        }
      ]
    },
    {
      "cell_type": "code",
      "metadata": {
        "colab": {
          "base_uri": "https://localhost:8080/",
          "height": 204
        },
        "id": "ozQ719O41mHZ",
        "outputId": "4678f695-b923-40bb-edb0-b2c9b14f2295"
      },
      "source": [
        "# добавим стобец с датами \n",
        "data_retention['ds'] = sorted(date_list)\n",
        "data_retention.head()"
      ],
      "execution_count": 42,
      "outputs": [
        {
          "output_type": "execute_result",
          "data": {
            "text/html": [
              "<div>\n",
              "<style scoped>\n",
              "    .dataframe tbody tr th:only-of-type {\n",
              "        vertical-align: middle;\n",
              "    }\n",
              "\n",
              "    .dataframe tbody tr th {\n",
              "        vertical-align: top;\n",
              "    }\n",
              "\n",
              "    .dataframe thead th {\n",
              "        text-align: right;\n",
              "    }\n",
              "</style>\n",
              "<table border=\"1\" class=\"dataframe\">\n",
              "  <thead>\n",
              "    <tr style=\"text-align: right;\">\n",
              "      <th>segment</th>\n",
              "      <th>level_number</th>\n",
              "      <th>Cohort A</th>\n",
              "      <th>ds</th>\n",
              "    </tr>\n",
              "  </thead>\n",
              "  <tbody>\n",
              "    <tr>\n",
              "      <th>0</th>\n",
              "      <td>1</td>\n",
              "      <td>100.0</td>\n",
              "      <td>2021-06-16</td>\n",
              "    </tr>\n",
              "    <tr>\n",
              "      <th>1</th>\n",
              "      <td>2</td>\n",
              "      <td>93.4</td>\n",
              "      <td>2021-06-17</td>\n",
              "    </tr>\n",
              "    <tr>\n",
              "      <th>2</th>\n",
              "      <td>3</td>\n",
              "      <td>86.3</td>\n",
              "      <td>2021-06-18</td>\n",
              "    </tr>\n",
              "    <tr>\n",
              "      <th>3</th>\n",
              "      <td>4</td>\n",
              "      <td>77.6</td>\n",
              "      <td>2021-06-19</td>\n",
              "    </tr>\n",
              "    <tr>\n",
              "      <th>4</th>\n",
              "      <td>5</td>\n",
              "      <td>71.0</td>\n",
              "      <td>2021-06-20</td>\n",
              "    </tr>\n",
              "  </tbody>\n",
              "</table>\n",
              "</div>"
            ],
            "text/plain": [
              "segment  level_number  Cohort A          ds\n",
              "0                   1     100.0  2021-06-16\n",
              "1                   2      93.4  2021-06-17\n",
              "2                   3      86.3  2021-06-18\n",
              "3                   4      77.6  2021-06-19\n",
              "4                   5      71.0  2021-06-20"
            ]
          },
          "metadata": {},
          "execution_count": 42
        }
      ]
    },
    {
      "cell_type": "code",
      "metadata": {
        "id": "ZumBShm-12BI"
      },
      "source": [
        "# нормализуем долю удержанных игроков для более точного прогноза (без нормализации модель предсказывала с большой погрешностью)\n",
        "from scipy.stats import boxcox\n",
        "data_retention['y'], lam = boxcox(data_retention['Cohort A'])"
      ],
      "execution_count": 43,
      "outputs": []
    },
    {
      "cell_type": "code",
      "metadata": {
        "id": "kpCXHY_j2kw_"
      },
      "source": [
        "# разделим данные на 75% тренировочных и на 25% тестовых\n",
        "amount_75 = int(len(data_retention)*0.75)\n",
        "train_data = data_retention[:amount_75]\n",
        "test_data = data_retention[amount_75:]"
      ],
      "execution_count": 44,
      "outputs": []
    },
    {
      "cell_type": "code",
      "metadata": {
        "colab": {
          "base_uri": "https://localhost:8080/",
          "height": 204
        },
        "id": "bRMG6b2-3PY4",
        "outputId": "87be23eb-265b-4ba4-e0c3-7188b65b0824"
      },
      "source": [
        "# посмотрим границы тренировчной и тестовой выборок\n",
        "train_data.head()"
      ],
      "execution_count": 45,
      "outputs": [
        {
          "output_type": "execute_result",
          "data": {
            "text/html": [
              "<div>\n",
              "<style scoped>\n",
              "    .dataframe tbody tr th:only-of-type {\n",
              "        vertical-align: middle;\n",
              "    }\n",
              "\n",
              "    .dataframe tbody tr th {\n",
              "        vertical-align: top;\n",
              "    }\n",
              "\n",
              "    .dataframe thead th {\n",
              "        text-align: right;\n",
              "    }\n",
              "</style>\n",
              "<table border=\"1\" class=\"dataframe\">\n",
              "  <thead>\n",
              "    <tr style=\"text-align: right;\">\n",
              "      <th>segment</th>\n",
              "      <th>level_number</th>\n",
              "      <th>Cohort A</th>\n",
              "      <th>ds</th>\n",
              "      <th>y</th>\n",
              "    </tr>\n",
              "  </thead>\n",
              "  <tbody>\n",
              "    <tr>\n",
              "      <th>0</th>\n",
              "      <td>1</td>\n",
              "      <td>100.0</td>\n",
              "      <td>2021-06-16</td>\n",
              "      <td>1.906063</td>\n",
              "    </tr>\n",
              "    <tr>\n",
              "      <th>1</th>\n",
              "      <td>2</td>\n",
              "      <td>93.4</td>\n",
              "      <td>2021-06-17</td>\n",
              "      <td>1.897807</td>\n",
              "    </tr>\n",
              "    <tr>\n",
              "      <th>2</th>\n",
              "      <td>3</td>\n",
              "      <td>86.3</td>\n",
              "      <td>2021-06-18</td>\n",
              "      <td>1.887917</td>\n",
              "    </tr>\n",
              "    <tr>\n",
              "      <th>3</th>\n",
              "      <td>4</td>\n",
              "      <td>77.6</td>\n",
              "      <td>2021-06-19</td>\n",
              "      <td>1.874041</td>\n",
              "    </tr>\n",
              "    <tr>\n",
              "      <th>4</th>\n",
              "      <td>5</td>\n",
              "      <td>71.0</td>\n",
              "      <td>2021-06-20</td>\n",
              "      <td>1.861899</td>\n",
              "    </tr>\n",
              "  </tbody>\n",
              "</table>\n",
              "</div>"
            ],
            "text/plain": [
              "segment  level_number  Cohort A          ds         y\n",
              "0                   1     100.0  2021-06-16  1.906063\n",
              "1                   2      93.4  2021-06-17  1.897807\n",
              "2                   3      86.3  2021-06-18  1.887917\n",
              "3                   4      77.6  2021-06-19  1.874041\n",
              "4                   5      71.0  2021-06-20  1.861899"
            ]
          },
          "metadata": {},
          "execution_count": 45
        }
      ]
    },
    {
      "cell_type": "code",
      "metadata": {
        "colab": {
          "base_uri": "https://localhost:8080/",
          "height": 204
        },
        "id": "I4P5mHkF3Wfs",
        "outputId": "44ce4ef7-1de7-4803-d0bb-2dfbcd424ec7"
      },
      "source": [
        "train_data.tail()"
      ],
      "execution_count": 46,
      "outputs": [
        {
          "output_type": "execute_result",
          "data": {
            "text/html": [
              "<div>\n",
              "<style scoped>\n",
              "    .dataframe tbody tr th:only-of-type {\n",
              "        vertical-align: middle;\n",
              "    }\n",
              "\n",
              "    .dataframe tbody tr th {\n",
              "        vertical-align: top;\n",
              "    }\n",
              "\n",
              "    .dataframe thead th {\n",
              "        text-align: right;\n",
              "    }\n",
              "</style>\n",
              "<table border=\"1\" class=\"dataframe\">\n",
              "  <thead>\n",
              "    <tr style=\"text-align: right;\">\n",
              "      <th>segment</th>\n",
              "      <th>level_number</th>\n",
              "      <th>Cohort A</th>\n",
              "      <th>ds</th>\n",
              "      <th>y</th>\n",
              "    </tr>\n",
              "  </thead>\n",
              "  <tbody>\n",
              "    <tr>\n",
              "      <th>85</th>\n",
              "      <td>86</td>\n",
              "      <td>9.6</td>\n",
              "      <td>2021-09-09</td>\n",
              "      <td>1.402949</td>\n",
              "    </tr>\n",
              "    <tr>\n",
              "      <th>86</th>\n",
              "      <td>87</td>\n",
              "      <td>9.5</td>\n",
              "      <td>2021-09-10</td>\n",
              "      <td>1.399258</td>\n",
              "    </tr>\n",
              "    <tr>\n",
              "      <th>87</th>\n",
              "      <td>88</td>\n",
              "      <td>9.5</td>\n",
              "      <td>2021-09-11</td>\n",
              "      <td>1.399258</td>\n",
              "    </tr>\n",
              "    <tr>\n",
              "      <th>88</th>\n",
              "      <td>89</td>\n",
              "      <td>9.2</td>\n",
              "      <td>2021-09-12</td>\n",
              "      <td>1.387838</td>\n",
              "    </tr>\n",
              "    <tr>\n",
              "      <th>89</th>\n",
              "      <td>90</td>\n",
              "      <td>9.0</td>\n",
              "      <td>2021-09-13</td>\n",
              "      <td>1.379918</td>\n",
              "    </tr>\n",
              "  </tbody>\n",
              "</table>\n",
              "</div>"
            ],
            "text/plain": [
              "segment  level_number  Cohort A          ds         y\n",
              "85                 86       9.6  2021-09-09  1.402949\n",
              "86                 87       9.5  2021-09-10  1.399258\n",
              "87                 88       9.5  2021-09-11  1.399258\n",
              "88                 89       9.2  2021-09-12  1.387838\n",
              "89                 90       9.0  2021-09-13  1.379918"
            ]
          },
          "metadata": {},
          "execution_count": 46
        }
      ]
    },
    {
      "cell_type": "code",
      "metadata": {
        "colab": {
          "base_uri": "https://localhost:8080/",
          "height": 204
        },
        "id": "CcDtzRy13ben",
        "outputId": "b60b5737-a09e-4cd5-dc9d-b4dfd3270fb7"
      },
      "source": [
        "test_data.head()"
      ],
      "execution_count": 47,
      "outputs": [
        {
          "output_type": "execute_result",
          "data": {
            "text/html": [
              "<div>\n",
              "<style scoped>\n",
              "    .dataframe tbody tr th:only-of-type {\n",
              "        vertical-align: middle;\n",
              "    }\n",
              "\n",
              "    .dataframe tbody tr th {\n",
              "        vertical-align: top;\n",
              "    }\n",
              "\n",
              "    .dataframe thead th {\n",
              "        text-align: right;\n",
              "    }\n",
              "</style>\n",
              "<table border=\"1\" class=\"dataframe\">\n",
              "  <thead>\n",
              "    <tr style=\"text-align: right;\">\n",
              "      <th>segment</th>\n",
              "      <th>level_number</th>\n",
              "      <th>Cohort A</th>\n",
              "      <th>ds</th>\n",
              "      <th>y</th>\n",
              "    </tr>\n",
              "  </thead>\n",
              "  <tbody>\n",
              "    <tr>\n",
              "      <th>90</th>\n",
              "      <td>91</td>\n",
              "      <td>8.9</td>\n",
              "      <td>2021-09-14</td>\n",
              "      <td>1.375861</td>\n",
              "    </tr>\n",
              "    <tr>\n",
              "      <th>91</th>\n",
              "      <td>92</td>\n",
              "      <td>8.8</td>\n",
              "      <td>2021-09-15</td>\n",
              "      <td>1.371736</td>\n",
              "    </tr>\n",
              "    <tr>\n",
              "      <th>92</th>\n",
              "      <td>93</td>\n",
              "      <td>8.6</td>\n",
              "      <td>2021-09-16</td>\n",
              "      <td>1.363277</td>\n",
              "    </tr>\n",
              "    <tr>\n",
              "      <th>93</th>\n",
              "      <td>94</td>\n",
              "      <td>8.5</td>\n",
              "      <td>2021-09-17</td>\n",
              "      <td>1.358939</td>\n",
              "    </tr>\n",
              "    <tr>\n",
              "      <th>94</th>\n",
              "      <td>95</td>\n",
              "      <td>8.3</td>\n",
              "      <td>2021-09-18</td>\n",
              "      <td>1.350035</td>\n",
              "    </tr>\n",
              "  </tbody>\n",
              "</table>\n",
              "</div>"
            ],
            "text/plain": [
              "segment  level_number  Cohort A          ds         y\n",
              "90                 91       8.9  2021-09-14  1.375861\n",
              "91                 92       8.8  2021-09-15  1.371736\n",
              "92                 93       8.6  2021-09-16  1.363277\n",
              "93                 94       8.5  2021-09-17  1.358939\n",
              "94                 95       8.3  2021-09-18  1.350035"
            ]
          },
          "metadata": {},
          "execution_count": 47
        }
      ]
    },
    {
      "cell_type": "code",
      "metadata": {
        "colab": {
          "base_uri": "https://localhost:8080/",
          "height": 204
        },
        "id": "j0Kjp-mO3eh9",
        "outputId": "e2f6f28c-a268-47e2-d628-4693e295b201"
      },
      "source": [
        "test_data.tail()"
      ],
      "execution_count": 48,
      "outputs": [
        {
          "output_type": "execute_result",
          "data": {
            "text/html": [
              "<div>\n",
              "<style scoped>\n",
              "    .dataframe tbody tr th:only-of-type {\n",
              "        vertical-align: middle;\n",
              "    }\n",
              "\n",
              "    .dataframe tbody tr th {\n",
              "        vertical-align: top;\n",
              "    }\n",
              "\n",
              "    .dataframe thead th {\n",
              "        text-align: right;\n",
              "    }\n",
              "</style>\n",
              "<table border=\"1\" class=\"dataframe\">\n",
              "  <thead>\n",
              "    <tr style=\"text-align: right;\">\n",
              "      <th>segment</th>\n",
              "      <th>level_number</th>\n",
              "      <th>Cohort A</th>\n",
              "      <th>ds</th>\n",
              "      <th>y</th>\n",
              "    </tr>\n",
              "  </thead>\n",
              "  <tbody>\n",
              "    <tr>\n",
              "      <th>115</th>\n",
              "      <td>116</td>\n",
              "      <td>6.6</td>\n",
              "      <td>2021-10-09</td>\n",
              "      <td>1.259129</td>\n",
              "    </tr>\n",
              "    <tr>\n",
              "      <th>116</th>\n",
              "      <td>117</td>\n",
              "      <td>6.5</td>\n",
              "      <td>2021-10-10</td>\n",
              "      <td>1.252724</td>\n",
              "    </tr>\n",
              "    <tr>\n",
              "      <th>117</th>\n",
              "      <td>118</td>\n",
              "      <td>6.5</td>\n",
              "      <td>2021-10-11</td>\n",
              "      <td>1.252724</td>\n",
              "    </tr>\n",
              "    <tr>\n",
              "      <th>118</th>\n",
              "      <td>119</td>\n",
              "      <td>6.3</td>\n",
              "      <td>2021-10-12</td>\n",
              "      <td>1.239472</td>\n",
              "    </tr>\n",
              "    <tr>\n",
              "      <th>119</th>\n",
              "      <td>120</td>\n",
              "      <td>6.2</td>\n",
              "      <td>2021-10-13</td>\n",
              "      <td>1.232613</td>\n",
              "    </tr>\n",
              "  </tbody>\n",
              "</table>\n",
              "</div>"
            ],
            "text/plain": [
              "segment  level_number  Cohort A          ds         y\n",
              "115               116       6.6  2021-10-09  1.259129\n",
              "116               117       6.5  2021-10-10  1.252724\n",
              "117               118       6.5  2021-10-11  1.252724\n",
              "118               119       6.3  2021-10-12  1.239472\n",
              "119               120       6.2  2021-10-13  1.232613"
            ]
          },
          "metadata": {},
          "execution_count": 48
        }
      ]
    },
    {
      "cell_type": "code",
      "metadata": {
        "colab": {
          "base_uri": "https://localhost:8080/"
        },
        "id": "qpNxho4E3ltJ",
        "outputId": "f5c900b7-7bde-4730-a4c9-33181e43440a"
      },
      "source": [
        "# обучим модель\n",
        "from fbprophet import Prophet\n",
        "m = Prophet()\n",
        "m.fit(train_data)"
      ],
      "execution_count": 49,
      "outputs": [
        {
          "output_type": "stream",
          "name": "stderr",
          "text": [
            "INFO:fbprophet:Disabling yearly seasonality. Run prophet with yearly_seasonality=True to override this.\n",
            "INFO:fbprophet:Disabling daily seasonality. Run prophet with daily_seasonality=True to override this.\n"
          ]
        },
        {
          "output_type": "execute_result",
          "data": {
            "text/plain": [
              "<fbprophet.forecaster.Prophet at 0x7eff5b16ed50>"
            ]
          },
          "metadata": {},
          "execution_count": 49
        }
      ]
    },
    {
      "cell_type": "code",
      "metadata": {
        "colab": {
          "base_uri": "https://localhost:8080/",
          "height": 609
        },
        "id": "-dQA7bFR3r5j",
        "outputId": "c8b083d9-a860-4981-ee46-4967ce9ef36d"
      },
      "source": [
        "# сделаем предсказания для тестового периода\n",
        "# последний уровень тренировочных данных - 90 \n",
        "# последний уровень тестовых данных - 120. Нам нужно сделать предсказания на 30 уровней вперед\n",
        "future = m.make_future_dataframe(periods=30)\n",
        "forecast = m.predict(future)\n",
        "forecast"
      ],
      "execution_count": 50,
      "outputs": [
        {
          "output_type": "execute_result",
          "data": {
            "text/html": [
              "<div>\n",
              "<style scoped>\n",
              "    .dataframe tbody tr th:only-of-type {\n",
              "        vertical-align: middle;\n",
              "    }\n",
              "\n",
              "    .dataframe tbody tr th {\n",
              "        vertical-align: top;\n",
              "    }\n",
              "\n",
              "    .dataframe thead th {\n",
              "        text-align: right;\n",
              "    }\n",
              "</style>\n",
              "<table border=\"1\" class=\"dataframe\">\n",
              "  <thead>\n",
              "    <tr style=\"text-align: right;\">\n",
              "      <th></th>\n",
              "      <th>ds</th>\n",
              "      <th>trend</th>\n",
              "      <th>yhat_lower</th>\n",
              "      <th>yhat_upper</th>\n",
              "      <th>trend_lower</th>\n",
              "      <th>trend_upper</th>\n",
              "      <th>additive_terms</th>\n",
              "      <th>additive_terms_lower</th>\n",
              "      <th>additive_terms_upper</th>\n",
              "      <th>weekly</th>\n",
              "      <th>weekly_lower</th>\n",
              "      <th>weekly_upper</th>\n",
              "      <th>multiplicative_terms</th>\n",
              "      <th>multiplicative_terms_lower</th>\n",
              "      <th>multiplicative_terms_upper</th>\n",
              "      <th>yhat</th>\n",
              "    </tr>\n",
              "  </thead>\n",
              "  <tbody>\n",
              "    <tr>\n",
              "      <th>0</th>\n",
              "      <td>2021-06-16</td>\n",
              "      <td>1.907815</td>\n",
              "      <td>1.904445</td>\n",
              "      <td>1.909256</td>\n",
              "      <td>1.907815</td>\n",
              "      <td>1.907815</td>\n",
              "      <td>-0.001023</td>\n",
              "      <td>-0.001023</td>\n",
              "      <td>-0.001023</td>\n",
              "      <td>-0.001023</td>\n",
              "      <td>-0.001023</td>\n",
              "      <td>-0.001023</td>\n",
              "      <td>0.0</td>\n",
              "      <td>0.0</td>\n",
              "      <td>0.0</td>\n",
              "      <td>1.906792</td>\n",
              "    </tr>\n",
              "    <tr>\n",
              "      <th>1</th>\n",
              "      <td>2021-06-17</td>\n",
              "      <td>1.896577</td>\n",
              "      <td>1.893701</td>\n",
              "      <td>1.898414</td>\n",
              "      <td>1.896577</td>\n",
              "      <td>1.896577</td>\n",
              "      <td>-0.000441</td>\n",
              "      <td>-0.000441</td>\n",
              "      <td>-0.000441</td>\n",
              "      <td>-0.000441</td>\n",
              "      <td>-0.000441</td>\n",
              "      <td>-0.000441</td>\n",
              "      <td>0.0</td>\n",
              "      <td>0.0</td>\n",
              "      <td>0.0</td>\n",
              "      <td>1.896135</td>\n",
              "    </tr>\n",
              "    <tr>\n",
              "      <th>2</th>\n",
              "      <td>2021-06-18</td>\n",
              "      <td>1.885338</td>\n",
              "      <td>1.883282</td>\n",
              "      <td>1.888167</td>\n",
              "      <td>1.885338</td>\n",
              "      <td>1.885338</td>\n",
              "      <td>0.000301</td>\n",
              "      <td>0.000301</td>\n",
              "      <td>0.000301</td>\n",
              "      <td>0.000301</td>\n",
              "      <td>0.000301</td>\n",
              "      <td>0.000301</td>\n",
              "      <td>0.0</td>\n",
              "      <td>0.0</td>\n",
              "      <td>0.0</td>\n",
              "      <td>1.885640</td>\n",
              "    </tr>\n",
              "    <tr>\n",
              "      <th>3</th>\n",
              "      <td>2021-06-19</td>\n",
              "      <td>1.874100</td>\n",
              "      <td>1.873034</td>\n",
              "      <td>1.877938</td>\n",
              "      <td>1.874100</td>\n",
              "      <td>1.874100</td>\n",
              "      <td>0.001335</td>\n",
              "      <td>0.001335</td>\n",
              "      <td>0.001335</td>\n",
              "      <td>0.001335</td>\n",
              "      <td>0.001335</td>\n",
              "      <td>0.001335</td>\n",
              "      <td>0.0</td>\n",
              "      <td>0.0</td>\n",
              "      <td>0.0</td>\n",
              "      <td>1.875435</td>\n",
              "    </tr>\n",
              "    <tr>\n",
              "      <th>4</th>\n",
              "      <td>2021-06-20</td>\n",
              "      <td>1.864008</td>\n",
              "      <td>1.862145</td>\n",
              "      <td>1.867077</td>\n",
              "      <td>1.864008</td>\n",
              "      <td>1.864008</td>\n",
              "      <td>0.000588</td>\n",
              "      <td>0.000588</td>\n",
              "      <td>0.000588</td>\n",
              "      <td>0.000588</td>\n",
              "      <td>0.000588</td>\n",
              "      <td>0.000588</td>\n",
              "      <td>0.0</td>\n",
              "      <td>0.0</td>\n",
              "      <td>0.0</td>\n",
              "      <td>1.864596</td>\n",
              "    </tr>\n",
              "    <tr>\n",
              "      <th>...</th>\n",
              "      <td>...</td>\n",
              "      <td>...</td>\n",
              "      <td>...</td>\n",
              "      <td>...</td>\n",
              "      <td>...</td>\n",
              "      <td>...</td>\n",
              "      <td>...</td>\n",
              "      <td>...</td>\n",
              "      <td>...</td>\n",
              "      <td>...</td>\n",
              "      <td>...</td>\n",
              "      <td>...</td>\n",
              "      <td>...</td>\n",
              "      <td>...</td>\n",
              "      <td>...</td>\n",
              "      <td>...</td>\n",
              "    </tr>\n",
              "    <tr>\n",
              "      <th>115</th>\n",
              "      <td>2021-10-09</td>\n",
              "      <td>1.256594</td>\n",
              "      <td>1.188589</td>\n",
              "      <td>1.325607</td>\n",
              "      <td>1.187832</td>\n",
              "      <td>1.324197</td>\n",
              "      <td>0.001335</td>\n",
              "      <td>0.001335</td>\n",
              "      <td>0.001335</td>\n",
              "      <td>0.001335</td>\n",
              "      <td>0.001335</td>\n",
              "      <td>0.001335</td>\n",
              "      <td>0.0</td>\n",
              "      <td>0.0</td>\n",
              "      <td>0.0</td>\n",
              "      <td>1.257929</td>\n",
              "    </tr>\n",
              "    <tr>\n",
              "      <th>116</th>\n",
              "      <td>2021-10-10</td>\n",
              "      <td>1.251658</td>\n",
              "      <td>1.179858</td>\n",
              "      <td>1.324105</td>\n",
              "      <td>1.178281</td>\n",
              "      <td>1.324220</td>\n",
              "      <td>0.000588</td>\n",
              "      <td>0.000588</td>\n",
              "      <td>0.000588</td>\n",
              "      <td>0.000588</td>\n",
              "      <td>0.000588</td>\n",
              "      <td>0.000588</td>\n",
              "      <td>0.0</td>\n",
              "      <td>0.0</td>\n",
              "      <td>0.0</td>\n",
              "      <td>1.252245</td>\n",
              "    </tr>\n",
              "    <tr>\n",
              "      <th>117</th>\n",
              "      <td>2021-10-11</td>\n",
              "      <td>1.246721</td>\n",
              "      <td>1.169872</td>\n",
              "      <td>1.323708</td>\n",
              "      <td>1.169933</td>\n",
              "      <td>1.324500</td>\n",
              "      <td>-0.000405</td>\n",
              "      <td>-0.000405</td>\n",
              "      <td>-0.000405</td>\n",
              "      <td>-0.000405</td>\n",
              "      <td>-0.000405</td>\n",
              "      <td>-0.000405</td>\n",
              "      <td>0.0</td>\n",
              "      <td>0.0</td>\n",
              "      <td>0.0</td>\n",
              "      <td>1.246316</td>\n",
              "    </tr>\n",
              "    <tr>\n",
              "      <th>118</th>\n",
              "      <td>2021-10-12</td>\n",
              "      <td>1.241784</td>\n",
              "      <td>1.161155</td>\n",
              "      <td>1.322273</td>\n",
              "      <td>1.162139</td>\n",
              "      <td>1.324107</td>\n",
              "      <td>-0.000355</td>\n",
              "      <td>-0.000355</td>\n",
              "      <td>-0.000355</td>\n",
              "      <td>-0.000355</td>\n",
              "      <td>-0.000355</td>\n",
              "      <td>-0.000355</td>\n",
              "      <td>0.0</td>\n",
              "      <td>0.0</td>\n",
              "      <td>0.0</td>\n",
              "      <td>1.241429</td>\n",
              "    </tr>\n",
              "    <tr>\n",
              "      <th>119</th>\n",
              "      <td>2021-10-13</td>\n",
              "      <td>1.236848</td>\n",
              "      <td>1.151446</td>\n",
              "      <td>1.323120</td>\n",
              "      <td>1.153678</td>\n",
              "      <td>1.323422</td>\n",
              "      <td>-0.001023</td>\n",
              "      <td>-0.001023</td>\n",
              "      <td>-0.001023</td>\n",
              "      <td>-0.001023</td>\n",
              "      <td>-0.001023</td>\n",
              "      <td>-0.001023</td>\n",
              "      <td>0.0</td>\n",
              "      <td>0.0</td>\n",
              "      <td>0.0</td>\n",
              "      <td>1.235825</td>\n",
              "    </tr>\n",
              "  </tbody>\n",
              "</table>\n",
              "<p>120 rows × 16 columns</p>\n",
              "</div>"
            ],
            "text/plain": [
              "            ds     trend  ...  multiplicative_terms_upper      yhat\n",
              "0   2021-06-16  1.907815  ...                         0.0  1.906792\n",
              "1   2021-06-17  1.896577  ...                         0.0  1.896135\n",
              "2   2021-06-18  1.885338  ...                         0.0  1.885640\n",
              "3   2021-06-19  1.874100  ...                         0.0  1.875435\n",
              "4   2021-06-20  1.864008  ...                         0.0  1.864596\n",
              "..         ...       ...  ...                         ...       ...\n",
              "115 2021-10-09  1.256594  ...                         0.0  1.257929\n",
              "116 2021-10-10  1.251658  ...                         0.0  1.252245\n",
              "117 2021-10-11  1.246721  ...                         0.0  1.246316\n",
              "118 2021-10-12  1.241784  ...                         0.0  1.241429\n",
              "119 2021-10-13  1.236848  ...                         0.0  1.235825\n",
              "\n",
              "[120 rows x 16 columns]"
            ]
          },
          "metadata": {},
          "execution_count": 50
        }
      ]
    },
    {
      "cell_type": "code",
      "metadata": {
        "colab": {
          "base_uri": "https://localhost:8080/",
          "height": 492
        },
        "id": "9Lc9DlSd38ID",
        "outputId": "d24e3b1a-ba33-48fa-f787-0efba33c7425"
      },
      "source": [
        "fig1 = m.plot(forecast)\n",
        "plt.xticks(rotation = 30)\n",
        "plt.title('Тренд прогноза')\n",
        "plt.show()"
      ],
      "execution_count": 51,
      "outputs": [
        {
          "output_type": "display_data",
          "data": {
            "image/png": "[encoded data removed]",
            "text/plain": [
              "<Figure size 720x432 with 1 Axes>"
            ]
          },
          "metadata": {}
        }
      ]
    },
    {
      "cell_type": "code",
      "metadata": {
        "colab": {
          "base_uri": "https://localhost:8080/",
          "height": 320
        },
        "id": "vWmX4FXu4B5M",
        "outputId": "5b324977-be7e-4b40-9a21-d87a6718d3f9"
      },
      "source": [
        "# сравним с тем, что было на самом деле в этот период\n",
        "plt.figure(figsize=(15,4))\n",
        "forecast_future = forecast.iloc[90:,:]\n",
        "plt.plot(forecast_future['ds'], forecast_future['yhat'])\n",
        "plt.plot(test_data['ds'], test_data['y'])\n",
        "plt.legend(['Прогноз','Реальные данные'])\n",
        "plt.xticks(rotation = 30)\n",
        "plt.show()"
      ],
      "execution_count": 52,
      "outputs": [
        {
          "output_type": "display_data",
          "data": {
            "image/png": "[encoded data removed]",
            "text/plain": [
              "<Figure size 1080x288 with 1 Axes>"
            ]
          },
          "metadata": {}
        }
      ]
    },
    {
      "cell_type": "code",
      "metadata": {
        "colab": {
          "base_uri": "https://localhost:8080/"
        },
        "id": "ZFmkENs_4nrV",
        "outputId": "3fccdf49-6f1f-4e92-d04f-b23616718023"
      },
      "source": [
        "# проверим, насколько точна наша модель\n",
        "from sklearn.metrics import mean_absolute_error, mean_squared_error, r2_score\n",
        "\n",
        "print('Средняя абсолютная ошибка:', mean_absolute_error(test_data['y'], forecast_future['yhat']))\n",
        "print('Среднеквадратичная ошибка:', mean_squared_error(test_data['y'], forecast_future['yhat']))\n",
        "print('Коэффициент детерминации (r2_score):', r2_score(test_data['y'], forecast_future['yhat']))"
      ],
      "execution_count": 53,
      "outputs": [
        {
          "output_type": "stream",
          "name": "stdout",
          "text": [
            "Средняя абсолютная ошибка: 0.005816414756341418\n",
            "Среднеквадратичная ошибка: 4.519857608016689e-05\n",
            "Коэффициент детерминации (r2_score): 0.9726027850491463\n"
          ]
        }
      ]
    },
    {
      "cell_type": "markdown",
      "metadata": {
        "id": "LUheCupQ6SD_"
      },
      "source": [
        "Наша модель довольно точна, но все же первое решение с подбором функции было более подходящее"
      ]
    },
    {
      "cell_type": "code",
      "metadata": {
        "colab": {
          "base_uri": "https://localhost:8080/",
          "height": 609
        },
        "id": "03q6yvMH8Oq6",
        "outputId": "66a8dfa8-90bf-42af-9821-1a16145741e8"
      },
      "source": [
        "# строим прозноз на 600 уровней\n",
        "future = m.make_future_dataframe(periods=510)\n",
        "forecast = m.predict(future)\n",
        "forecast"
      ],
      "execution_count": 54,
      "outputs": [
        {
          "output_type": "execute_result",
          "data": {
            "text/html": [
              "<div>\n",
              "<style scoped>\n",
              "    .dataframe tbody tr th:only-of-type {\n",
              "        vertical-align: middle;\n",
              "    }\n",
              "\n",
              "    .dataframe tbody tr th {\n",
              "        vertical-align: top;\n",
              "    }\n",
              "\n",
              "    .dataframe thead th {\n",
              "        text-align: right;\n",
              "    }\n",
              "</style>\n",
              "<table border=\"1\" class=\"dataframe\">\n",
              "  <thead>\n",
              "    <tr style=\"text-align: right;\">\n",
              "      <th></th>\n",
              "      <th>ds</th>\n",
              "      <th>trend</th>\n",
              "      <th>yhat_lower</th>\n",
              "      <th>yhat_upper</th>\n",
              "      <th>trend_lower</th>\n",
              "      <th>trend_upper</th>\n",
              "      <th>additive_terms</th>\n",
              "      <th>additive_terms_lower</th>\n",
              "      <th>additive_terms_upper</th>\n",
              "      <th>weekly</th>\n",
              "      <th>weekly_lower</th>\n",
              "      <th>weekly_upper</th>\n",
              "      <th>multiplicative_terms</th>\n",
              "      <th>multiplicative_terms_lower</th>\n",
              "      <th>multiplicative_terms_upper</th>\n",
              "      <th>yhat</th>\n",
              "    </tr>\n",
              "  </thead>\n",
              "  <tbody>\n",
              "    <tr>\n",
              "      <th>0</th>\n",
              "      <td>2021-06-16</td>\n",
              "      <td>1.907815</td>\n",
              "      <td>1.904159</td>\n",
              "      <td>1.909138</td>\n",
              "      <td>1.907815</td>\n",
              "      <td>1.907815</td>\n",
              "      <td>-0.001023</td>\n",
              "      <td>-0.001023</td>\n",
              "      <td>-0.001023</td>\n",
              "      <td>-0.001023</td>\n",
              "      <td>-0.001023</td>\n",
              "      <td>-0.001023</td>\n",
              "      <td>0.0</td>\n",
              "      <td>0.0</td>\n",
              "      <td>0.0</td>\n",
              "      <td>1.906792</td>\n",
              "    </tr>\n",
              "    <tr>\n",
              "      <th>1</th>\n",
              "      <td>2021-06-17</td>\n",
              "      <td>1.896577</td>\n",
              "      <td>1.893850</td>\n",
              "      <td>1.898562</td>\n",
              "      <td>1.896577</td>\n",
              "      <td>1.896577</td>\n",
              "      <td>-0.000441</td>\n",
              "      <td>-0.000441</td>\n",
              "      <td>-0.000441</td>\n",
              "      <td>-0.000441</td>\n",
              "      <td>-0.000441</td>\n",
              "      <td>-0.000441</td>\n",
              "      <td>0.0</td>\n",
              "      <td>0.0</td>\n",
              "      <td>0.0</td>\n",
              "      <td>1.896135</td>\n",
              "    </tr>\n",
              "    <tr>\n",
              "      <th>2</th>\n",
              "      <td>2021-06-18</td>\n",
              "      <td>1.885338</td>\n",
              "      <td>1.883278</td>\n",
              "      <td>1.888076</td>\n",
              "      <td>1.885338</td>\n",
              "      <td>1.885338</td>\n",
              "      <td>0.000301</td>\n",
              "      <td>0.000301</td>\n",
              "      <td>0.000301</td>\n",
              "      <td>0.000301</td>\n",
              "      <td>0.000301</td>\n",
              "      <td>0.000301</td>\n",
              "      <td>0.0</td>\n",
              "      <td>0.0</td>\n",
              "      <td>0.0</td>\n",
              "      <td>1.885640</td>\n",
              "    </tr>\n",
              "    <tr>\n",
              "      <th>3</th>\n",
              "      <td>2021-06-19</td>\n",
              "      <td>1.874100</td>\n",
              "      <td>1.873195</td>\n",
              "      <td>1.877939</td>\n",
              "      <td>1.874100</td>\n",
              "      <td>1.874100</td>\n",
              "      <td>0.001335</td>\n",
              "      <td>0.001335</td>\n",
              "      <td>0.001335</td>\n",
              "      <td>0.001335</td>\n",
              "      <td>0.001335</td>\n",
              "      <td>0.001335</td>\n",
              "      <td>0.0</td>\n",
              "      <td>0.0</td>\n",
              "      <td>0.0</td>\n",
              "      <td>1.875435</td>\n",
              "    </tr>\n",
              "    <tr>\n",
              "      <th>4</th>\n",
              "      <td>2021-06-20</td>\n",
              "      <td>1.864008</td>\n",
              "      <td>1.862085</td>\n",
              "      <td>1.867006</td>\n",
              "      <td>1.864008</td>\n",
              "      <td>1.864008</td>\n",
              "      <td>0.000588</td>\n",
              "      <td>0.000588</td>\n",
              "      <td>0.000588</td>\n",
              "      <td>0.000588</td>\n",
              "      <td>0.000588</td>\n",
              "      <td>0.000588</td>\n",
              "      <td>0.0</td>\n",
              "      <td>0.0</td>\n",
              "      <td>0.0</td>\n",
              "      <td>1.864596</td>\n",
              "    </tr>\n",
              "    <tr>\n",
              "      <th>...</th>\n",
              "      <td>...</td>\n",
              "      <td>...</td>\n",
              "      <td>...</td>\n",
              "      <td>...</td>\n",
              "      <td>...</td>\n",
              "      <td>...</td>\n",
              "      <td>...</td>\n",
              "      <td>...</td>\n",
              "      <td>...</td>\n",
              "      <td>...</td>\n",
              "      <td>...</td>\n",
              "      <td>...</td>\n",
              "      <td>...</td>\n",
              "      <td>...</td>\n",
              "      <td>...</td>\n",
              "      <td>...</td>\n",
              "    </tr>\n",
              "    <tr>\n",
              "      <th>595</th>\n",
              "      <td>2023-02-01</td>\n",
              "      <td>-1.112992</td>\n",
              "      <td>-7.772918</td>\n",
              "      <td>5.186171</td>\n",
              "      <td>-7.769734</td>\n",
              "      <td>5.186882</td>\n",
              "      <td>-0.001023</td>\n",
              "      <td>-0.001023</td>\n",
              "      <td>-0.001023</td>\n",
              "      <td>-0.001023</td>\n",
              "      <td>-0.001023</td>\n",
              "      <td>-0.001023</td>\n",
              "      <td>0.0</td>\n",
              "      <td>0.0</td>\n",
              "      <td>0.0</td>\n",
              "      <td>-1.114014</td>\n",
              "    </tr>\n",
              "    <tr>\n",
              "      <th>596</th>\n",
              "      <td>2023-02-02</td>\n",
              "      <td>-1.117928</td>\n",
              "      <td>-7.792787</td>\n",
              "      <td>5.206789</td>\n",
              "      <td>-7.792642</td>\n",
              "      <td>5.206321</td>\n",
              "      <td>-0.000441</td>\n",
              "      <td>-0.000441</td>\n",
              "      <td>-0.000441</td>\n",
              "      <td>-0.000441</td>\n",
              "      <td>-0.000441</td>\n",
              "      <td>-0.000441</td>\n",
              "      <td>0.0</td>\n",
              "      <td>0.0</td>\n",
              "      <td>0.0</td>\n",
              "      <td>-1.118370</td>\n",
              "    </tr>\n",
              "    <tr>\n",
              "      <th>597</th>\n",
              "      <td>2023-02-03</td>\n",
              "      <td>-1.122865</td>\n",
              "      <td>-7.823735</td>\n",
              "      <td>5.218424</td>\n",
              "      <td>-7.823240</td>\n",
              "      <td>5.217739</td>\n",
              "      <td>0.000301</td>\n",
              "      <td>0.000301</td>\n",
              "      <td>0.000301</td>\n",
              "      <td>0.000301</td>\n",
              "      <td>0.000301</td>\n",
              "      <td>0.000301</td>\n",
              "      <td>0.0</td>\n",
              "      <td>0.0</td>\n",
              "      <td>0.0</td>\n",
              "      <td>-1.122563</td>\n",
              "    </tr>\n",
              "    <tr>\n",
              "      <th>598</th>\n",
              "      <td>2023-02-04</td>\n",
              "      <td>-1.127801</td>\n",
              "      <td>-7.850974</td>\n",
              "      <td>5.236944</td>\n",
              "      <td>-7.853658</td>\n",
              "      <td>5.235074</td>\n",
              "      <td>0.001335</td>\n",
              "      <td>0.001335</td>\n",
              "      <td>0.001335</td>\n",
              "      <td>0.001335</td>\n",
              "      <td>0.001335</td>\n",
              "      <td>0.001335</td>\n",
              "      <td>0.0</td>\n",
              "      <td>0.0</td>\n",
              "      <td>0.0</td>\n",
              "      <td>-1.126466</td>\n",
              "    </tr>\n",
              "    <tr>\n",
              "      <th>599</th>\n",
              "      <td>2023-02-05</td>\n",
              "      <td>-1.132738</td>\n",
              "      <td>-7.884536</td>\n",
              "      <td>5.244499</td>\n",
              "      <td>-7.884100</td>\n",
              "      <td>5.246066</td>\n",
              "      <td>0.000588</td>\n",
              "      <td>0.000588</td>\n",
              "      <td>0.000588</td>\n",
              "      <td>0.000588</td>\n",
              "      <td>0.000588</td>\n",
              "      <td>0.000588</td>\n",
              "      <td>0.0</td>\n",
              "      <td>0.0</td>\n",
              "      <td>0.0</td>\n",
              "      <td>-1.132150</td>\n",
              "    </tr>\n",
              "  </tbody>\n",
              "</table>\n",
              "<p>600 rows × 16 columns</p>\n",
              "</div>"
            ],
            "text/plain": [
              "            ds     trend  ...  multiplicative_terms_upper      yhat\n",
              "0   2021-06-16  1.907815  ...                         0.0  1.906792\n",
              "1   2021-06-17  1.896577  ...                         0.0  1.896135\n",
              "2   2021-06-18  1.885338  ...                         0.0  1.885640\n",
              "3   2021-06-19  1.874100  ...                         0.0  1.875435\n",
              "4   2021-06-20  1.864008  ...                         0.0  1.864596\n",
              "..         ...       ...  ...                         ...       ...\n",
              "595 2023-02-01 -1.112992  ...                         0.0 -1.114014\n",
              "596 2023-02-02 -1.117928  ...                         0.0 -1.118370\n",
              "597 2023-02-03 -1.122865  ...                         0.0 -1.122563\n",
              "598 2023-02-04 -1.127801  ...                         0.0 -1.126466\n",
              "599 2023-02-05 -1.132738  ...                         0.0 -1.132150\n",
              "\n",
              "[600 rows x 16 columns]"
            ]
          },
          "metadata": {},
          "execution_count": 54
        }
      ]
    },
    {
      "cell_type": "code",
      "metadata": {
        "id": "xwKfJWEq6Rjy"
      },
      "source": [
        "# приведем наши данные по удержанным пользователям к удобному денормализованному формату\n",
        "from scipy.special import inv_boxcox\n",
        "forecast[['yhat','yhat_upper','yhat_lower']] = forecast[['yhat','yhat_upper','yhat_lower']].apply(lambda x: inv_boxcox(x, lam))"
      ],
      "execution_count": 55,
      "outputs": []
    },
    {
      "cell_type": "code",
      "metadata": {
        "id": "mVK0Do-d7FpA"
      },
      "source": [
        "# добавим в датафрейм forecast наш столбец с уровнями\n",
        "forecast['level_number'] = np.linspace(1,600,600, dtype='int')"
      ],
      "execution_count": 56,
      "outputs": []
    },
    {
      "cell_type": "code",
      "metadata": {
        "id": "pOoRe3UgOfIK",
        "colab": {
          "base_uri": "https://localhost:8080/",
          "height": 173
        },
        "outputId": "36b2fa37-2e47-4f4b-848f-5a4069a304b5"
      },
      "source": [
        "# выберем нужные строки и столбцы для решения поставленной задачи\n",
        "forecast.iloc[[239,359,479,599],15:]"
      ],
      "execution_count": 57,
      "outputs": [
        {
          "output_type": "execute_result",
          "data": {
            "text/html": [
              "<div>\n",
              "<style scoped>\n",
              "    .dataframe tbody tr th:only-of-type {\n",
              "        vertical-align: middle;\n",
              "    }\n",
              "\n",
              "    .dataframe tbody tr th {\n",
              "        vertical-align: top;\n",
              "    }\n",
              "\n",
              "    .dataframe thead th {\n",
              "        text-align: right;\n",
              "    }\n",
              "</style>\n",
              "<table border=\"1\" class=\"dataframe\">\n",
              "  <thead>\n",
              "    <tr style=\"text-align: right;\">\n",
              "      <th></th>\n",
              "      <th>yhat</th>\n",
              "      <th>level_number</th>\n",
              "    </tr>\n",
              "  </thead>\n",
              "  <tbody>\n",
              "    <tr>\n",
              "      <th>239</th>\n",
              "      <td>2.147865</td>\n",
              "      <td>240</td>\n",
              "    </tr>\n",
              "    <tr>\n",
              "      <th>359</th>\n",
              "      <td>1.054430</td>\n",
              "      <td>360</td>\n",
              "    </tr>\n",
              "    <tr>\n",
              "      <th>479</th>\n",
              "      <td>0.617994</td>\n",
              "      <td>480</td>\n",
              "    </tr>\n",
              "    <tr>\n",
              "      <th>599</th>\n",
              "      <td>0.402295</td>\n",
              "      <td>600</td>\n",
              "    </tr>\n",
              "  </tbody>\n",
              "</table>\n",
              "</div>"
            ],
            "text/plain": [
              "         yhat  level_number\n",
              "239  2.147865           240\n",
              "359  1.054430           360\n",
              "479  0.617994           480\n",
              "599  0.402295           600"
            ]
          },
          "metadata": {},
          "execution_count": 57
        }
      ]
    },
    {
      "cell_type": "markdown",
      "metadata": {
        "id": "WqOkl3wP9BvY"
      },
      "source": [
        "Таким образом, до 240 уровня дойдет 2,15% пользователей. \n",
        "До 360 уровня - 1,05%, \n",
        "до 480 - 0,62% \n",
        "и до 600 - 0,4%.\n",
        "\n",
        "Напомним, что значения **первого решения** были такими:\n",
        "240 уровень -  3.3%, \n",
        "360 уровень - 1.9%,\n",
        "480 уровень -  1.2%,\n",
        "600 уровень -  0.8%.\n"
      ]
    },
    {
      "cell_type": "markdown",
      "metadata": {
        "id": "H0WL_KnuD834"
      },
      "source": [
        "## 2.2\n",
        "Сколько в среднем уровней на данный момент проходит пользователь?"
      ]
    },
    {
      "cell_type": "code",
      "metadata": {
        "colab": {
          "base_uri": "https://localhost:8080/"
        },
        "id": "ySfgOo2WFmx-",
        "outputId": "6d659335-cbb3-4dcd-e934-a2bff6d47d05"
      },
      "source": [
        "# Посчитаем средневзвешенное значение\n",
        "data = df.groupby('level_number')['unique_start_qty'].mean().reset_index()\n",
        "avg_lvl_qty = sum(df['unique_start_qty']*df['level_number'])/sum(df['unique_start_qty'])\n",
        "avg_lvl_qty"
      ],
      "execution_count": 58,
      "outputs": [
        {
          "output_type": "execute_result",
          "data": {
            "text/plain": [
              "35.61463939308106"
            ]
          },
          "metadata": {},
          "execution_count": 58
        }
      ]
    },
    {
      "cell_type": "code",
      "metadata": {
        "colab": {
          "base_uri": "https://localhost:8080/"
        },
        "id": "VHLvm0jTGwN3",
        "outputId": "591319cf-5d12-4707-9955-202a086f5bc5"
      },
      "source": [
        "# Посчитаем отдельно для когорт А и В\n",
        "data_A = df[['level_number','unique_start_qty']].loc[df['segment'] == 'Cohort A']\n",
        "avg_lvl_qty_A = sum(data_A['unique_start_qty']*data_A['level_number'])/sum(data_A['unique_start_qty'])\n",
        "avg_lvl_qty_A"
      ],
      "execution_count": 65,
      "outputs": [
        {
          "output_type": "execute_result",
          "data": {
            "text/plain": [
              "35.71416378316032"
            ]
          },
          "metadata": {},
          "execution_count": 65
        }
      ]
    },
    {
      "cell_type": "code",
      "metadata": {
        "colab": {
          "base_uri": "https://localhost:8080/"
        },
        "id": "aYI_aJXIIEUT",
        "outputId": "3a3ac2f0-23ce-438a-f55a-7db8ec234bec"
      },
      "source": [
        "data_B = df[['level_number','unique_start_qty']].loc[df['segment'] == 'Cohort B']\n",
        "avg_lvl_qty_B = sum(data_B['unique_start_qty']*data_B['level_number'])/sum(data_B['unique_start_qty'])\n",
        "avg_lvl_qty_B"
      ],
      "execution_count": 60,
      "outputs": [
        {
          "output_type": "execute_result",
          "data": {
            "text/plain": [
              "35.51599036614737"
            ]
          },
          "metadata": {},
          "execution_count": 60
        }
      ]
    },
    {
      "cell_type": "markdown",
      "metadata": {
        "id": "t_X5-60bAKOe"
      },
      "source": [
        "В среднем, пользователь проходит 35 уровней вне зависимости от когорты"
      ]
    },
    {
      "cell_type": "markdown",
      "metadata": {
        "id": "rUyTQqgZAhNV"
      },
      "source": [
        "- Спрогнозируйте, сколько уровней проходил бы пользователь в\n",
        "среднем, если бы в игре было 240, 360, 480, 600 уровней.\n"
      ]
    },
    {
      "cell_type": "code",
      "metadata": {
        "colab": {
          "base_uri": "https://localhost:8080/",
          "height": 419
        },
        "id": "yVc1SivLfRbZ",
        "outputId": "85688683-4d3d-4a60-e9cb-4fdc81240582"
      },
      "source": [
        "# за основу возьмем когорту А\n",
        "data_A = data_A.reset_index().drop('index', axis = 1)\n",
        "data_A['level_number'] = data_A['level_number'] - 1 # это поможет улучшить модель\n",
        "data_A"
      ],
      "execution_count": 72,
      "outputs": [
        {
          "output_type": "execute_result",
          "data": {
            "text/html": [
              "<div>\n",
              "<style scoped>\n",
              "    .dataframe tbody tr th:only-of-type {\n",
              "        vertical-align: middle;\n",
              "    }\n",
              "\n",
              "    .dataframe tbody tr th {\n",
              "        vertical-align: top;\n",
              "    }\n",
              "\n",
              "    .dataframe thead th {\n",
              "        text-align: right;\n",
              "    }\n",
              "</style>\n",
              "<table border=\"1\" class=\"dataframe\">\n",
              "  <thead>\n",
              "    <tr style=\"text-align: right;\">\n",
              "      <th></th>\n",
              "      <th>level_number</th>\n",
              "      <th>unique_start_qty</th>\n",
              "    </tr>\n",
              "  </thead>\n",
              "  <tbody>\n",
              "    <tr>\n",
              "      <th>0</th>\n",
              "      <td>0</td>\n",
              "      <td>5057</td>\n",
              "    </tr>\n",
              "    <tr>\n",
              "      <th>1</th>\n",
              "      <td>1</td>\n",
              "      <td>4724</td>\n",
              "    </tr>\n",
              "    <tr>\n",
              "      <th>2</th>\n",
              "      <td>2</td>\n",
              "      <td>4363</td>\n",
              "    </tr>\n",
              "    <tr>\n",
              "      <th>3</th>\n",
              "      <td>3</td>\n",
              "      <td>3925</td>\n",
              "    </tr>\n",
              "    <tr>\n",
              "      <th>4</th>\n",
              "      <td>4</td>\n",
              "      <td>3590</td>\n",
              "    </tr>\n",
              "    <tr>\n",
              "      <th>...</th>\n",
              "      <td>...</td>\n",
              "      <td>...</td>\n",
              "    </tr>\n",
              "    <tr>\n",
              "      <th>115</th>\n",
              "      <td>115</td>\n",
              "      <td>332</td>\n",
              "    </tr>\n",
              "    <tr>\n",
              "      <th>116</th>\n",
              "      <td>116</td>\n",
              "      <td>329</td>\n",
              "    </tr>\n",
              "    <tr>\n",
              "      <th>117</th>\n",
              "      <td>117</td>\n",
              "      <td>327</td>\n",
              "    </tr>\n",
              "    <tr>\n",
              "      <th>118</th>\n",
              "      <td>118</td>\n",
              "      <td>319</td>\n",
              "    </tr>\n",
              "    <tr>\n",
              "      <th>119</th>\n",
              "      <td>119</td>\n",
              "      <td>315</td>\n",
              "    </tr>\n",
              "  </tbody>\n",
              "</table>\n",
              "<p>120 rows × 2 columns</p>\n",
              "</div>"
            ],
            "text/plain": [
              "     level_number  unique_start_qty\n",
              "0               0              5057\n",
              "1               1              4724\n",
              "2               2              4363\n",
              "3               3              3925\n",
              "4               4              3590\n",
              "..            ...               ...\n",
              "115           115               332\n",
              "116           116               329\n",
              "117           117               327\n",
              "118           118               319\n",
              "119           119               315\n",
              "\n",
              "[120 rows x 2 columns]"
            ]
          },
          "metadata": {},
          "execution_count": 72
        }
      ]
    },
    {
      "cell_type": "code",
      "metadata": {
        "id": "U8XAi7Z-itya"
      },
      "source": [
        "# используем ранее подобранную нами функцию №4\n",
        "func4_popt, func4_pcov = curve_fit(func4, data_A['level_number'], data_A['unique_start_qty'])\n",
        "projection_endpoint = 600\n",
        "func4_y_projected = func4( np.arange( projection_endpoint ), *func4_popt )"
      ],
      "execution_count": 73,
      "outputs": []
    },
    {
      "cell_type": "code",
      "metadata": {
        "colab": {
          "base_uri": "https://localhost:8080/",
          "height": 505
        },
        "id": "HcAaWMHCjXxB",
        "outputId": "9ba1d266-4d19-4660-90ae-22ea378764ac"
      },
      "source": [
        "plt.figure(num=None, figsize=(10, 7), dpi=80, facecolor='w', edgecolor='k')\n",
        "plt.scatter(data_A['level_number'], data_A['unique_start_qty'], label=\"Original Data\" )\n",
        "plt.plot( func4_y_projected, label=\"func4_y_projected\" )\n",
        "\n",
        "plt.legend()\n",
        "plt.show()"
      ],
      "execution_count": 74,
      "outputs": [
        {
          "output_type": "display_data",
          "data": {
            "image/png": "[encoded data removed]",
            "text/plain": [
              "<Figure size 800x560 with 1 Axes>"
            ]
          },
          "metadata": {}
        }
      ]
    },
    {
      "cell_type": "code",
      "metadata": {
        "colab": {
          "base_uri": "https://localhost:8080/"
        },
        "id": "IyY7uY8Yjtib",
        "outputId": "0028feb5-5c15-44f6-a73d-30589bf0e0d4"
      },
      "source": [
        "print('Средняя абсолютная ошибка:', mean_absolute_error(data_A.iloc[:,1].values, func4_y_projected[:120]))\n",
        "print('Среднеквадратичная ошибка:', mean_squared_error(data_A.iloc[:,1].values, func4_y_projected[:120]))\n",
        "print('Коэффициент детерминации (r2_score):', r2_score(data_A.iloc[:,1].values, func4_y_projected[:120]))"
      ],
      "execution_count": 75,
      "outputs": [
        {
          "output_type": "stream",
          "name": "stdout",
          "text": [
            "Средняя абсолютная ошибка: 38.96670827962839\n",
            "Среднеквадратичная ошибка: 2123.579455643196\n",
            "Коэффициент детерминации (r2_score): 0.9976324024120404\n"
          ]
        }
      ]
    },
    {
      "cell_type": "markdown",
      "metadata": {
        "id": "9IlF0o_smySy"
      },
      "source": [
        "MSE высокая, но коэф детерминации близок к 100%. Посмотрим искомые значения"
      ]
    },
    {
      "cell_type": "code",
      "metadata": {
        "id": "hXcO1jz8oIz7"
      },
      "source": [
        "avg_240_qty = sum(func4_y_projected[:240]*np.linspace(1,240,240, dtype='int'))/sum(func4_y_projected[:240])\n",
        "avg_360_qty = sum(func4_y_projected[:360]*np.linspace(1,360,360, dtype='int'))/sum(func4_y_projected[:360])\n",
        "avg_480_qty = sum(func4_y_projected[:480]*np.linspace(1,480,480, dtype='int'))/sum(func4_y_projected[:480])\n",
        "avg_600_qty = sum(func4_y_projected[:600]*np.linspace(1,600,600, dtype='int'))/sum(func4_y_projected[:600])"
      ],
      "execution_count": 97,
      "outputs": []
    },
    {
      "cell_type": "code",
      "metadata": {
        "colab": {
          "base_uri": "https://localhost:8080/"
        },
        "id": "d2Q-LnyynYcQ",
        "outputId": "8f99d1e8-b603-41b3-c9bc-b76fbac82c34"
      },
      "source": [
        "print('Пользователь в среднем проходил бы:')\n",
        "print(int(avg_240_qty), 'уровней при общем количестве в 240')\n",
        "print(int(avg_360_qty), 'уровень при общем количестве в 360')\n",
        "print(int(avg_480_qty), 'уровней при общем количестве в 480')\n",
        "print(int(avg_600_qty), 'уровней при общем количестве в 600')\n"
      ],
      "execution_count": 99,
      "outputs": [
        {
          "output_type": "stream",
          "name": "stdout",
          "text": [
            "Пользователь в среднем проходил бы:\n",
            "60 уровней при общем количестве в 240\n",
            "81 уровень при общем количестве в 360\n",
            "98 уровней при общем количестве в 480\n",
            "112 уровней при общем количестве в 600\n"
          ]
        }
      ]
    },
    {
      "cell_type": "markdown",
      "metadata": {
        "id": "zEcz7dB2UKW0"
      },
      "source": [
        "## 2.3\n",
        "Предположите, сколько нужно уровней, чтобы снять достоверный Retention D30"
      ]
    },
    {
      "cell_type": "markdown",
      "metadata": {
        "id": "Ifv-s53ippR0"
      },
      "source": [
        "Retention 30 дня является четким сигналом, характеризующим глубину геймплея и метаигры. Маловероятно, что многие пользователи продолжат играть в игру более тридцати дней, если в ней нет глубокой и качественной метаигры и, зачастую, если она не предлагает глубокого социального опыта.\n",
        "\n",
        "Посмотрим бенчмарки по рынку казуальных игр. Средний Retention D30 = 5%. Опираяся на нашу первую модель, нам необходимо около **166 уровней**, чтобы снять достоверный Retention 30.\n",
        "\n",
        "![бенчмарк.png](data:image/png;base64,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)"
      ]
    },
    {
      "cell_type": "markdown",
      "metadata": {
        "id": "xkRHcRlJS29A"
      },
      "source": [
        "# Задание 3"
      ]
    },
    {
      "cell_type": "markdown",
      "metadata": {
        "id": "SRqZtjWUpr_N"
      },
      "source": [
        "В качестве эксперимента протестировали два разных варианта баланса\n",
        "уровней(A/B). Через месяц получили следующие результаты. Как вы считаете, когорта с каким балансом перспективнее? Почему?"
      ]
    },
    {
      "cell_type": "code",
      "metadata": {
        "colab": {
          "base_uri": "https://localhost:8080/",
          "height": 111
        },
        "id": "nRwy9Fuda6TB",
        "outputId": "10c017ff-9d7f-4919-bd5a-791eefd18b2b"
      },
      "source": [
        "df = pd.DataFrame({'size': [500,500],\n",
        "                   'paying_share': [0.1,0.14],\n",
        "                   'ARPU': [1,0.8],\n",
        "                   'Retention_D30': [0.05,0.04]},      \n",
        "                  index=['chogort_A', 'chogort_B'])\n",
        "df.head()"
      ],
      "execution_count": null,
      "outputs": [
        {
          "output_type": "execute_result",
          "data": {
            "text/html": [
              "<div>\n",
              "<style scoped>\n",
              "    .dataframe tbody tr th:only-of-type {\n",
              "        vertical-align: middle;\n",
              "    }\n",
              "\n",
              "    .dataframe tbody tr th {\n",
              "        vertical-align: top;\n",
              "    }\n",
              "\n",
              "    .dataframe thead th {\n",
              "        text-align: right;\n",
              "    }\n",
              "</style>\n",
              "<table border=\"1\" class=\"dataframe\">\n",
              "  <thead>\n",
              "    <tr style=\"text-align: right;\">\n",
              "      <th></th>\n",
              "      <th>size</th>\n",
              "      <th>paying_share</th>\n",
              "      <th>ARPU</th>\n",
              "      <th>Retention_D30</th>\n",
              "    </tr>\n",
              "  </thead>\n",
              "  <tbody>\n",
              "    <tr>\n",
              "      <th>chogort_A</th>\n",
              "      <td>500</td>\n",
              "      <td>0.10</td>\n",
              "      <td>1.0</td>\n",
              "      <td>0.05</td>\n",
              "    </tr>\n",
              "    <tr>\n",
              "      <th>chogort_B</th>\n",
              "      <td>500</td>\n",
              "      <td>0.14</td>\n",
              "      <td>0.8</td>\n",
              "      <td>0.04</td>\n",
              "    </tr>\n",
              "  </tbody>\n",
              "</table>\n",
              "</div>"
            ],
            "text/plain": [
              "           size  paying_share  ARPU  Retention_D30\n",
              "chogort_A   500          0.10   1.0           0.05\n",
              "chogort_B   500          0.14   0.8           0.04"
            ]
          },
          "metadata": {},
          "execution_count": 37
        }
      ]
    },
    {
      "cell_type": "code",
      "metadata": {
        "colab": {
          "base_uri": "https://localhost:8080/",
          "height": 111
        },
        "id": "R4eXOu1DlpUv",
        "outputId": "3a606c53-9587-4c35-9e5a-0b8cbd4a4799"
      },
      "source": [
        "df['gross'] = df['size']*df['ARPU']\n",
        "df['ARPPU'] = (df['ARPU']/df['paying_share']).round(1)\n",
        "df"
      ],
      "execution_count": null,
      "outputs": [
        {
          "output_type": "execute_result",
          "data": {
            "text/html": [
              "<div>\n",
              "<style scoped>\n",
              "    .dataframe tbody tr th:only-of-type {\n",
              "        vertical-align: middle;\n",
              "    }\n",
              "\n",
              "    .dataframe tbody tr th {\n",
              "        vertical-align: top;\n",
              "    }\n",
              "\n",
              "    .dataframe thead th {\n",
              "        text-align: right;\n",
              "    }\n",
              "</style>\n",
              "<table border=\"1\" class=\"dataframe\">\n",
              "  <thead>\n",
              "    <tr style=\"text-align: right;\">\n",
              "      <th></th>\n",
              "      <th>size</th>\n",
              "      <th>paying_share</th>\n",
              "      <th>ARPU</th>\n",
              "      <th>Retention_D30</th>\n",
              "      <th>gross</th>\n",
              "      <th>ARPPU</th>\n",
              "    </tr>\n",
              "  </thead>\n",
              "  <tbody>\n",
              "    <tr>\n",
              "      <th>chogort_A</th>\n",
              "      <td>500</td>\n",
              "      <td>0.10</td>\n",
              "      <td>1.0</td>\n",
              "      <td>0.05</td>\n",
              "      <td>500.0</td>\n",
              "      <td>10.0</td>\n",
              "    </tr>\n",
              "    <tr>\n",
              "      <th>chogort_B</th>\n",
              "      <td>500</td>\n",
              "      <td>0.14</td>\n",
              "      <td>0.8</td>\n",
              "      <td>0.04</td>\n",
              "      <td>400.0</td>\n",
              "      <td>5.7</td>\n",
              "    </tr>\n",
              "  </tbody>\n",
              "</table>\n",
              "</div>"
            ],
            "text/plain": [
              "           size  paying_share  ARPU  Retention_D30  gross  ARPPU\n",
              "chogort_A   500          0.10   1.0           0.05  500.0   10.0\n",
              "chogort_B   500          0.14   0.8           0.04  400.0    5.7"
            ]
          },
          "metadata": {},
          "execution_count": 55
        }
      ]
    },
    {
      "cell_type": "markdown",
      "metadata": {
        "id": "iDPuspAwoFoc"
      },
      "source": [
        "На мой взгляд, баланс **когорты А** перспективнее.\n",
        "\n",
        "Ключевые показатели **ARPU** и **ARPPU** выше соответствующих показателей когорты В. То есть, в корорте А средний доход на всех пользователей и доход на одного платящего пользователя выше. \n",
        "\n",
        "**D30 Retention** также больше в корогте А. Он показывает процент пользователей, которые уже освоили функционал приложения и периодически его используют. Они, скорее всего, уже привыкли к нему и не планируют менять его на что-то другое в ближайшем будущем. Именно эти люди, с высокой вероятностью, будут совершать платежи в продукте. \n",
        "\n",
        "В **когорте В** игроки начинают быстро проходить все уровни, в итоге теряют интерес к игре и отваливаются. "
      ]
    }
  ]
}