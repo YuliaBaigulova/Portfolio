{
  "nbformat": 4,
  "nbformat_minor": 0,
  "metadata": {
    "colab": {
      "name": "Inca investigation.ipynb",
      "provenance": [],
      "collapsed_sections": []
    },
    "kernelspec": {
      "name": "python3",
      "display_name": "Python 3"
    },
    "language_info": {
      "name": "python"
    }
  },
  "cells": [
    {
      "cell_type": "code",
      "metadata": {
        "id": "ZFidi4WmAeoW"
      },
      "source": [
        "import numpy as np\n",
        "import pandas as pd"
      ],
      "execution_count": null,
      "outputs": []
    },
    {
      "cell_type": "code",
      "metadata": {
        "id": "1dDVOgYbAuz-"
      },
      "source": [
        "df2015 = pd.read_csv('2015.csv')\n",
        "df2016 = pd.read_csv('2016.csv')\n",
        "df2017 = pd.read_csv('2017.csv')\n",
        "banks = pd.read_csv('download_bank_connections.csv')\n",
        "transactions = pd.read_csv('download_transactions_map.csv')"
      ],
      "execution_count": null,
      "outputs": []
    },
    {
      "cell_type": "code",
      "metadata": {
        "colab": {
          "base_uri": "https://localhost:8080/",
          "height": 289
        },
        "id": "HWkbWqr8Awig",
        "outputId": "9f9a97a3-09af-4114-b25d-89874adbc537"
      },
      "source": [
        "#concatinating 3 dataframes\n",
        "df = pd.concat([df2015,df2016,df2017])\n",
        "#changing object format to datetime\n",
        "df['time'] = pd.to_datetime(df['time'])\n",
        "df.head()"
      ],
      "execution_count": null,
      "outputs": [
        {
          "output_type": "execute_result",
          "data": {
            "text/html": [
              "<div>\n",
              "<style scoped>\n",
              "    .dataframe tbody tr th:only-of-type {\n",
              "        vertical-align: middle;\n",
              "    }\n",
              "\n",
              "    .dataframe tbody tr th {\n",
              "        vertical-align: top;\n",
              "    }\n",
              "\n",
              "    .dataframe thead th {\n",
              "        text-align: right;\n",
              "    }\n",
              "</style>\n",
              "<table border=\"1\" class=\"dataframe\">\n",
              "  <thead>\n",
              "    <tr style=\"text-align: right;\">\n",
              "      <th></th>\n",
              "      <th>time</th>\n",
              "      <th>Sender</th>\n",
              "      <th>Receiver</th>\n",
              "      <th>Transaction_amount</th>\n",
              "      <th>Price</th>\n",
              "      <th>Transaction_amount_USD</th>\n",
              "    </tr>\n",
              "  </thead>\n",
              "  <tbody>\n",
              "    <tr>\n",
              "      <th>0</th>\n",
              "      <td>2015-04-01</td>\n",
              "      <td>14noyXsYSBTJYsyUmyDWhSeAVbge7qi5E3</td>\n",
              "      <td>1H8rsLPgFQ3kBU7WvRGDR8X9Pv1d5k3zQF</td>\n",
              "      <td>8811.015</td>\n",
              "      <td>243.288169</td>\n",
              "      <td>2.143616e+06</td>\n",
              "    </tr>\n",
              "    <tr>\n",
              "      <th>1</th>\n",
              "      <td>2015-04-01</td>\n",
              "      <td>1LHXyLdpKC52988BqFXCHksU11QvXM7qRT</td>\n",
              "      <td>14noyXsYSBTJYsyUmyDWhSeAVbge7qi5E3</td>\n",
              "      <td>8972.836</td>\n",
              "      <td>243.288169</td>\n",
              "      <td>2.182985e+06</td>\n",
              "    </tr>\n",
              "    <tr>\n",
              "      <th>2</th>\n",
              "      <td>2015-04-01</td>\n",
              "      <td>15Bu9gyGtGrXuoLDe3erKfTj7n15mAp1Wc\\n1KYJV7JJDu...</td>\n",
              "      <td>1BsrvZgK11ZAsJYokFe9pAm3z58dodQLAr</td>\n",
              "      <td>5000.000</td>\n",
              "      <td>243.288169</td>\n",
              "      <td>1.216441e+06</td>\n",
              "    </tr>\n",
              "    <tr>\n",
              "      <th>3</th>\n",
              "      <td>2015-04-01</td>\n",
              "      <td>1KYJV7JJDuoR4ePgqm7C4o9gidMGhRUHNH\\n15X5v1G4fu...</td>\n",
              "      <td>1AXFVP7zumDPebSb516yaJyzqwQ1VQeDSX</td>\n",
              "      <td>5000.000</td>\n",
              "      <td>243.288169</td>\n",
              "      <td>1.216441e+06</td>\n",
              "    </tr>\n",
              "    <tr>\n",
              "      <th>4</th>\n",
              "      <td>2015-04-01</td>\n",
              "      <td>15Bu9gyGtGrXuoLDe3erKfTj7n15mAp1Wc\\n1FzAohdX6E...</td>\n",
              "      <td>14aPvf4RMnktzauPcg97wQFCJRS1TMogWb</td>\n",
              "      <td>5000.000</td>\n",
              "      <td>243.288169</td>\n",
              "      <td>1.216441e+06</td>\n",
              "    </tr>\n",
              "  </tbody>\n",
              "</table>\n",
              "</div>"
            ],
            "text/plain": [
              "        time  ... Transaction_amount_USD\n",
              "0 2015-04-01  ...           2.143616e+06\n",
              "1 2015-04-01  ...           2.182985e+06\n",
              "2 2015-04-01  ...           1.216441e+06\n",
              "3 2015-04-01  ...           1.216441e+06\n",
              "4 2015-04-01  ...           1.216441e+06\n",
              "\n",
              "[5 rows x 6 columns]"
            ]
          },
          "metadata": {},
          "execution_count": 4
        }
      ]
    },
    {
      "cell_type": "code",
      "metadata": {
        "colab": {
          "base_uri": "https://localhost:8080/"
        },
        "id": "e_LIUo94ClFu",
        "outputId": "9adc5f72-3455-4927-9e38-f6917e2cccdd"
      },
      "source": [
        "#making sure that the format is changed\n",
        "df.info()"
      ],
      "execution_count": null,
      "outputs": [
        {
          "output_type": "stream",
          "name": "stdout",
          "text": [
            "<class 'pandas.core.frame.DataFrame'>\n",
            "Int64Index: 61137 entries, 0 to 9782\n",
            "Data columns (total 6 columns):\n",
            " #   Column                  Non-Null Count  Dtype         \n",
            "---  ------                  --------------  -----         \n",
            " 0   time                    61137 non-null  datetime64[ns]\n",
            " 1   Sender                  61137 non-null  object        \n",
            " 2   Receiver                61137 non-null  object        \n",
            " 3   Transaction_amount      61137 non-null  float64       \n",
            " 4   Price                   61137 non-null  float64       \n",
            " 5   Transaction_amount_USD  61137 non-null  float64       \n",
            "dtypes: datetime64[ns](1), float64(3), object(2)\n",
            "memory usage: 3.3+ MB\n"
          ]
        }
      ]
    },
    {
      "cell_type": "code",
      "metadata": {
        "colab": {
          "base_uri": "https://localhost:8080/",
          "height": 289
        },
        "id": "cQ7cgFgBA4_1",
        "outputId": "f0951d5b-161b-480e-dd42-1b7a0f5c5c4b"
      },
      "source": [
        "banks.head()"
      ],
      "execution_count": null,
      "outputs": [
        {
          "output_type": "execute_result",
          "data": {
            "text/html": [
              "<div>\n",
              "<style scoped>\n",
              "    .dataframe tbody tr th:only-of-type {\n",
              "        vertical-align: middle;\n",
              "    }\n",
              "\n",
              "    .dataframe tbody tr th {\n",
              "        vertical-align: top;\n",
              "    }\n",
              "\n",
              "    .dataframe thead th {\n",
              "        text-align: right;\n",
              "    }\n",
              "</style>\n",
              "<table border=\"1\" class=\"dataframe\">\n",
              "  <thead>\n",
              "    <tr style=\"text-align: right;\">\n",
              "      <th></th>\n",
              "      <th>icij_sar_id</th>\n",
              "      <th>filer_org_name_id</th>\n",
              "      <th>filer_org_name</th>\n",
              "      <th>entity_b_id</th>\n",
              "      <th>entity_b</th>\n",
              "      <th>entity_b_country</th>\n",
              "      <th>entity_b_iso_code</th>\n",
              "    </tr>\n",
              "  </thead>\n",
              "  <tbody>\n",
              "    <tr>\n",
              "      <th>0</th>\n",
              "      <td>4132</td>\n",
              "      <td>standard-chartered-plc</td>\n",
              "      <td>Standard Chartered Plc</td>\n",
              "      <td>habib-metropolitan-bank-limited-karachi-pakist...</td>\n",
              "      <td>Habib Metropolitan Bank Limited</td>\n",
              "      <td>Pakistan</td>\n",
              "      <td>PAK</td>\n",
              "    </tr>\n",
              "    <tr>\n",
              "      <th>1</th>\n",
              "      <td>3181</td>\n",
              "      <td>standard-chartered-plc</td>\n",
              "      <td>Standard Chartered Plc</td>\n",
              "      <td>standard-chartered-bank-dubai-uae-are</td>\n",
              "      <td>Standard Chartered Bank</td>\n",
              "      <td>United Arab Emirates</td>\n",
              "      <td>ARE</td>\n",
              "    </tr>\n",
              "    <tr>\n",
              "      <th>2</th>\n",
              "      <td>3181</td>\n",
              "      <td>standard-chartered-plc</td>\n",
              "      <td>Standard Chartered Plc</td>\n",
              "      <td>al-rostamani-international-exchange-uae-are</td>\n",
              "      <td>Al Rostamani International Exchange</td>\n",
              "      <td>United Arab Emirates</td>\n",
              "      <td>ARE</td>\n",
              "    </tr>\n",
              "    <tr>\n",
              "      <th>3</th>\n",
              "      <td>3181</td>\n",
              "      <td>standard-chartered-plc</td>\n",
              "      <td>Standard Chartered Plc</td>\n",
              "      <td>kuwait-turkish-participation-bank-inc-istanbul...</td>\n",
              "      <td>Kuwait Turkish Participation Bank Inc</td>\n",
              "      <td>Turkey</td>\n",
              "      <td>TUR</td>\n",
              "    </tr>\n",
              "    <tr>\n",
              "      <th>4</th>\n",
              "      <td>3181</td>\n",
              "      <td>standard-chartered-plc</td>\n",
              "      <td>Standard Chartered Plc</td>\n",
              "      <td>wall-street-exchange-center-llc-dubai-uae-are</td>\n",
              "      <td>Wall Street Exchange Center Llc</td>\n",
              "      <td>United Arab Emirates</td>\n",
              "      <td>ARE</td>\n",
              "    </tr>\n",
              "  </tbody>\n",
              "</table>\n",
              "</div>"
            ],
            "text/plain": [
              "   icij_sar_id       filer_org_name_id  ...      entity_b_country entity_b_iso_code\n",
              "0         4132  standard-chartered-plc  ...              Pakistan               PAK\n",
              "1         3181  standard-chartered-plc  ...  United Arab Emirates               ARE\n",
              "2         3181  standard-chartered-plc  ...  United Arab Emirates               ARE\n",
              "3         3181  standard-chartered-plc  ...                Turkey               TUR\n",
              "4         3181  standard-chartered-plc  ...  United Arab Emirates               ARE\n",
              "\n",
              "[5 rows x 7 columns]"
            ]
          },
          "metadata": {},
          "execution_count": 5
        }
      ]
    },
    {
      "cell_type": "code",
      "metadata": {
        "colab": {
          "base_uri": "https://localhost:8080/",
          "height": 394
        },
        "id": "FRm8kpNYBEFu",
        "outputId": "29f96817-75a0-49f9-91ff-4e3ab0c92c59"
      },
      "source": [
        "transactions.head()"
      ],
      "execution_count": null,
      "outputs": [
        {
          "output_type": "execute_result",
          "data": {
            "text/html": [
              "<div>\n",
              "<style scoped>\n",
              "    .dataframe tbody tr th:only-of-type {\n",
              "        vertical-align: middle;\n",
              "    }\n",
              "\n",
              "    .dataframe tbody tr th {\n",
              "        vertical-align: top;\n",
              "    }\n",
              "\n",
              "    .dataframe thead th {\n",
              "        text-align: right;\n",
              "    }\n",
              "</style>\n",
              "<table border=\"1\" class=\"dataframe\">\n",
              "  <thead>\n",
              "    <tr style=\"text-align: right;\">\n",
              "      <th></th>\n",
              "      <th>id</th>\n",
              "      <th>icij_sar_id</th>\n",
              "      <th>filer_org_name_id</th>\n",
              "      <th>filer_org_name</th>\n",
              "      <th>begin_date</th>\n",
              "      <th>end_date</th>\n",
              "      <th>originator_bank_id</th>\n",
              "      <th>originator_bank</th>\n",
              "      <th>originator_bank_country</th>\n",
              "      <th>originator_iso</th>\n",
              "      <th>beneficiary_bank_id</th>\n",
              "      <th>beneficiary_bank</th>\n",
              "      <th>beneficiary_bank_country</th>\n",
              "      <th>beneficiary_iso</th>\n",
              "      <th>number_transactions</th>\n",
              "      <th>amount_transactions</th>\n",
              "    </tr>\n",
              "  </thead>\n",
              "  <tbody>\n",
              "    <tr>\n",
              "      <th>0</th>\n",
              "      <td>223254</td>\n",
              "      <td>3297</td>\n",
              "      <td>the-bank-of-new-york-mellon-corp</td>\n",
              "      <td>The Bank of New York Mellon Corp.</td>\n",
              "      <td>Mar 25, 2015</td>\n",
              "      <td>Sep 25, 2015</td>\n",
              "      <td>cimb-bank-berhad</td>\n",
              "      <td>CIMB Bank Berhad</td>\n",
              "      <td>Singapore</td>\n",
              "      <td>SGP</td>\n",
              "      <td>barclays-bank-plc-london-england-gbr</td>\n",
              "      <td>Barclays Bank Plc</td>\n",
              "      <td>United Kingdom</td>\n",
              "      <td>GBR</td>\n",
              "      <td>68.0</td>\n",
              "      <td>5.689852e+07</td>\n",
              "    </tr>\n",
              "    <tr>\n",
              "      <th>1</th>\n",
              "      <td>223255</td>\n",
              "      <td>3297</td>\n",
              "      <td>the-bank-of-new-york-mellon-corp</td>\n",
              "      <td>The Bank of New York Mellon Corp.</td>\n",
              "      <td>Mar 30, 2015</td>\n",
              "      <td>Sep 25, 2015</td>\n",
              "      <td>cimb-bank-berhad</td>\n",
              "      <td>CIMB Bank Berhad</td>\n",
              "      <td>Singapore</td>\n",
              "      <td>SGP</td>\n",
              "      <td>barclays-bank-plc-london-england-gbr</td>\n",
              "      <td>Barclays Bank Plc</td>\n",
              "      <td>United Kingdom</td>\n",
              "      <td>GBR</td>\n",
              "      <td>118.0</td>\n",
              "      <td>1.162384e+08</td>\n",
              "    </tr>\n",
              "    <tr>\n",
              "      <th>2</th>\n",
              "      <td>223258</td>\n",
              "      <td>2924</td>\n",
              "      <td>the-bank-of-new-york-mellon-corp</td>\n",
              "      <td>The Bank of New York Mellon Corp.</td>\n",
              "      <td>Jul 5, 2012</td>\n",
              "      <td>Jul 5, 2012</td>\n",
              "      <td>barclays-bank-plc-ho-uk</td>\n",
              "      <td>Barclays Bank Plc Ho UK</td>\n",
              "      <td>United Kingdom</td>\n",
              "      <td>GBR</td>\n",
              "      <td>skandinaviska-enskilda-banken-stockholm-sweden...</td>\n",
              "      <td>Skandinaviska Enskilda Banken</td>\n",
              "      <td>Sweden</td>\n",
              "      <td>SWE</td>\n",
              "      <td>NaN</td>\n",
              "      <td>5.000000e+03</td>\n",
              "    </tr>\n",
              "    <tr>\n",
              "      <th>3</th>\n",
              "      <td>223259</td>\n",
              "      <td>2924</td>\n",
              "      <td>the-bank-of-new-york-mellon-corp</td>\n",
              "      <td>The Bank of New York Mellon Corp.</td>\n",
              "      <td>Jun 20, 2012</td>\n",
              "      <td>Jun 20, 2012</td>\n",
              "      <td>barclays-bank-plc-ho-uk</td>\n",
              "      <td>Barclays Bank Plc Ho UK</td>\n",
              "      <td>United Kingdom</td>\n",
              "      <td>GBR</td>\n",
              "      <td>skandinaviska-enskilda-banken-stockholm-sweden...</td>\n",
              "      <td>Skandinaviska Enskilda Banken</td>\n",
              "      <td>Sweden</td>\n",
              "      <td>SWE</td>\n",
              "      <td>NaN</td>\n",
              "      <td>9.990000e+03</td>\n",
              "    </tr>\n",
              "    <tr>\n",
              "      <th>4</th>\n",
              "      <td>223260</td>\n",
              "      <td>2924</td>\n",
              "      <td>the-bank-of-new-york-mellon-corp</td>\n",
              "      <td>The Bank of New York Mellon Corp.</td>\n",
              "      <td>May 31, 2012</td>\n",
              "      <td>May 31, 2012</td>\n",
              "      <td>barclays-bank-plc-ho-uk</td>\n",
              "      <td>Barclays Bank Plc Ho UK</td>\n",
              "      <td>United Kingdom</td>\n",
              "      <td>GBR</td>\n",
              "      <td>skandinaviska-enskilda-banken-stockholm-sweden...</td>\n",
              "      <td>Skandinaviska Enskilda Banken</td>\n",
              "      <td>Sweden</td>\n",
              "      <td>SWE</td>\n",
              "      <td>NaN</td>\n",
              "      <td>1.200000e+04</td>\n",
              "    </tr>\n",
              "  </tbody>\n",
              "</table>\n",
              "</div>"
            ],
            "text/plain": [
              "       id  icij_sar_id  ... number_transactions amount_transactions\n",
              "0  223254         3297  ...                68.0        5.689852e+07\n",
              "1  223255         3297  ...               118.0        1.162384e+08\n",
              "2  223258         2924  ...                 NaN        5.000000e+03\n",
              "3  223259         2924  ...                 NaN        9.990000e+03\n",
              "4  223260         2924  ...                 NaN        1.200000e+04\n",
              "\n",
              "[5 rows x 16 columns]"
            ]
          },
          "metadata": {},
          "execution_count": 6
        }
      ]
    },
    {
      "cell_type": "code",
      "metadata": {
        "colab": {
          "base_uri": "https://localhost:8080/"
        },
        "id": "f3KJOYs5BGJ1",
        "outputId": "7dc50613-521a-4f58-c009-e4c1dfa5b120"
      },
      "source": [
        "#getting columns names\n",
        "transactions.columns"
      ],
      "execution_count": null,
      "outputs": [
        {
          "output_type": "execute_result",
          "data": {
            "text/plain": [
              "Index(['id', 'icij_sar_id', 'filer_org_name_id', 'filer_org_name',\n",
              "       'begin_date', 'end_date', 'originator_bank_id', 'originator_bank',\n",
              "       'originator_bank_country', 'originator_iso', 'beneficiary_bank_id',\n",
              "       'beneficiary_bank', 'beneficiary_bank_country', 'beneficiary_iso',\n",
              "       'number_transactions', 'amount_transactions'],\n",
              "      dtype='object')"
            ]
          },
          "metadata": {},
          "execution_count": 7
        }
      ]
    },
    {
      "cell_type": "code",
      "metadata": {
        "colab": {
          "base_uri": "https://localhost:8080/",
          "height": 204
        },
        "id": "RnU2IZ0RBIgD",
        "outputId": "39a23cb6-9631-47a0-ff7c-006e8f0a506f"
      },
      "source": [
        "#creating new filtered dataframe to speed up post-processing\n",
        "trans = transactions[['begin_date', 'end_date', 'originator_bank','filer_org_name','beneficiary_bank','amount_transactions']]\n",
        "trans.head()"
      ],
      "execution_count": null,
      "outputs": [
        {
          "output_type": "execute_result",
          "data": {
            "text/html": [
              "<div>\n",
              "<style scoped>\n",
              "    .dataframe tbody tr th:only-of-type {\n",
              "        vertical-align: middle;\n",
              "    }\n",
              "\n",
              "    .dataframe tbody tr th {\n",
              "        vertical-align: top;\n",
              "    }\n",
              "\n",
              "    .dataframe thead th {\n",
              "        text-align: right;\n",
              "    }\n",
              "</style>\n",
              "<table border=\"1\" class=\"dataframe\">\n",
              "  <thead>\n",
              "    <tr style=\"text-align: right;\">\n",
              "      <th></th>\n",
              "      <th>begin_date</th>\n",
              "      <th>end_date</th>\n",
              "      <th>originator_bank</th>\n",
              "      <th>filer_org_name</th>\n",
              "      <th>beneficiary_bank</th>\n",
              "      <th>amount_transactions</th>\n",
              "    </tr>\n",
              "  </thead>\n",
              "  <tbody>\n",
              "    <tr>\n",
              "      <th>0</th>\n",
              "      <td>Mar 25, 2015</td>\n",
              "      <td>Sep 25, 2015</td>\n",
              "      <td>CIMB Bank Berhad</td>\n",
              "      <td>The Bank of New York Mellon Corp.</td>\n",
              "      <td>Barclays Bank Plc</td>\n",
              "      <td>5.689852e+07</td>\n",
              "    </tr>\n",
              "    <tr>\n",
              "      <th>1</th>\n",
              "      <td>Mar 30, 2015</td>\n",
              "      <td>Sep 25, 2015</td>\n",
              "      <td>CIMB Bank Berhad</td>\n",
              "      <td>The Bank of New York Mellon Corp.</td>\n",
              "      <td>Barclays Bank Plc</td>\n",
              "      <td>1.162384e+08</td>\n",
              "    </tr>\n",
              "    <tr>\n",
              "      <th>2</th>\n",
              "      <td>Jul 5, 2012</td>\n",
              "      <td>Jul 5, 2012</td>\n",
              "      <td>Barclays Bank Plc Ho UK</td>\n",
              "      <td>The Bank of New York Mellon Corp.</td>\n",
              "      <td>Skandinaviska Enskilda Banken</td>\n",
              "      <td>5.000000e+03</td>\n",
              "    </tr>\n",
              "    <tr>\n",
              "      <th>3</th>\n",
              "      <td>Jun 20, 2012</td>\n",
              "      <td>Jun 20, 2012</td>\n",
              "      <td>Barclays Bank Plc Ho UK</td>\n",
              "      <td>The Bank of New York Mellon Corp.</td>\n",
              "      <td>Skandinaviska Enskilda Banken</td>\n",
              "      <td>9.990000e+03</td>\n",
              "    </tr>\n",
              "    <tr>\n",
              "      <th>4</th>\n",
              "      <td>May 31, 2012</td>\n",
              "      <td>May 31, 2012</td>\n",
              "      <td>Barclays Bank Plc Ho UK</td>\n",
              "      <td>The Bank of New York Mellon Corp.</td>\n",
              "      <td>Skandinaviska Enskilda Banken</td>\n",
              "      <td>1.200000e+04</td>\n",
              "    </tr>\n",
              "  </tbody>\n",
              "</table>\n",
              "</div>"
            ],
            "text/plain": [
              "     begin_date  ... amount_transactions\n",
              "0  Mar 25, 2015  ...        5.689852e+07\n",
              "1  Mar 30, 2015  ...        1.162384e+08\n",
              "2   Jul 5, 2012  ...        5.000000e+03\n",
              "3  Jun 20, 2012  ...        9.990000e+03\n",
              "4  May 31, 2012  ...        1.200000e+04\n",
              "\n",
              "[5 rows x 6 columns]"
            ]
          },
          "metadata": {},
          "execution_count": 8
        }
      ]
    },
    {
      "cell_type": "code",
      "metadata": {
        "colab": {
          "base_uri": "https://localhost:8080/",
          "height": 408
        },
        "id": "p1CCz3JMBORd",
        "outputId": "1a3cac82-19bd-4f59-b52e-968a85349bd0"
      },
      "source": [
        "##changing object format to datetime\n",
        "trans['end_date'] = pd.to_datetime(trans['end_date'])\n",
        "trans['begin_date'] = pd.to_datetime(trans['begin_date'])\n",
        "trans.tail()"
      ],
      "execution_count": null,
      "outputs": [
        {
          "output_type": "stream",
          "name": "stderr",
          "text": [
            "/usr/local/lib/python3.7/dist-packages/ipykernel_launcher.py:1: SettingWithCopyWarning: \n",
            "A value is trying to be set on a copy of a slice from a DataFrame.\n",
            "Try using .loc[row_indexer,col_indexer] = value instead\n",
            "\n",
            "See the caveats in the documentation: https://pandas.pydata.org/pandas-docs/stable/user_guide/indexing.html#returning-a-view-versus-a-copy\n",
            "  \"\"\"Entry point for launching an IPython kernel.\n",
            "/usr/local/lib/python3.7/dist-packages/ipykernel_launcher.py:2: SettingWithCopyWarning: \n",
            "A value is trying to be set on a copy of a slice from a DataFrame.\n",
            "Try using .loc[row_indexer,col_indexer] = value instead\n",
            "\n",
            "See the caveats in the documentation: https://pandas.pydata.org/pandas-docs/stable/user_guide/indexing.html#returning-a-view-versus-a-copy\n",
            "  \n"
          ]
        },
        {
          "output_type": "execute_result",
          "data": {
            "text/html": [
              "<div>\n",
              "<style scoped>\n",
              "    .dataframe tbody tr th:only-of-type {\n",
              "        vertical-align: middle;\n",
              "    }\n",
              "\n",
              "    .dataframe tbody tr th {\n",
              "        vertical-align: top;\n",
              "    }\n",
              "\n",
              "    .dataframe thead th {\n",
              "        text-align: right;\n",
              "    }\n",
              "</style>\n",
              "<table border=\"1\" class=\"dataframe\">\n",
              "  <thead>\n",
              "    <tr style=\"text-align: right;\">\n",
              "      <th></th>\n",
              "      <th>begin_date</th>\n",
              "      <th>end_date</th>\n",
              "      <th>originator_bank</th>\n",
              "      <th>filer_org_name</th>\n",
              "      <th>beneficiary_bank</th>\n",
              "      <th>amount_transactions</th>\n",
              "    </tr>\n",
              "  </thead>\n",
              "  <tbody>\n",
              "    <tr>\n",
              "      <th>4502</th>\n",
              "      <td>2016-08-22</td>\n",
              "      <td>2016-08-22</td>\n",
              "      <td>ING Netherland NV</td>\n",
              "      <td>Deutsche Bank AG</td>\n",
              "      <td>Rigenesis Bank AS</td>\n",
              "      <td>20415554.55</td>\n",
              "    </tr>\n",
              "    <tr>\n",
              "      <th>4503</th>\n",
              "      <td>2016-08-16</td>\n",
              "      <td>2016-08-16</td>\n",
              "      <td>Rigenesis Bank AS</td>\n",
              "      <td>Deutsche Bank AG</td>\n",
              "      <td>ING Netherland NV</td>\n",
              "      <td>23000000.00</td>\n",
              "    </tr>\n",
              "    <tr>\n",
              "      <th>4504</th>\n",
              "      <td>2016-08-16</td>\n",
              "      <td>2016-08-16</td>\n",
              "      <td>ING Netherland NV</td>\n",
              "      <td>Deutsche Bank AG</td>\n",
              "      <td>Rigenesis Bank AS</td>\n",
              "      <td>23416000.00</td>\n",
              "    </tr>\n",
              "    <tr>\n",
              "      <th>4505</th>\n",
              "      <td>2016-06-14</td>\n",
              "      <td>2016-06-14</td>\n",
              "      <td>Rigenesis Bank AS</td>\n",
              "      <td>Deutsche Bank AG</td>\n",
              "      <td>ING Netherland NV</td>\n",
              "      <td>33258935.96</td>\n",
              "    </tr>\n",
              "    <tr>\n",
              "      <th>4506</th>\n",
              "      <td>2016-06-14</td>\n",
              "      <td>2016-06-14</td>\n",
              "      <td>ING Netherland NV</td>\n",
              "      <td>Deutsche Bank AG</td>\n",
              "      <td>Rigenesis Bank AS</td>\n",
              "      <td>33259000.00</td>\n",
              "    </tr>\n",
              "  </tbody>\n",
              "</table>\n",
              "</div>"
            ],
            "text/plain": [
              "     begin_date   end_date  ...   beneficiary_bank amount_transactions\n",
              "4502 2016-08-22 2016-08-22  ...  Rigenesis Bank AS         20415554.55\n",
              "4503 2016-08-16 2016-08-16  ...  ING Netherland NV         23000000.00\n",
              "4504 2016-08-16 2016-08-16  ...  Rigenesis Bank AS         23416000.00\n",
              "4505 2016-06-14 2016-06-14  ...  ING Netherland NV         33258935.96\n",
              "4506 2016-06-14 2016-06-14  ...  Rigenesis Bank AS         33259000.00\n",
              "\n",
              "[5 rows x 6 columns]"
            ]
          },
          "metadata": {},
          "execution_count": 9
        }
      ]
    },
    {
      "cell_type": "code",
      "metadata": {
        "colab": {
          "base_uri": "https://localhost:8080/"
        },
        "id": "iXJ3vcYECeeF",
        "outputId": "00af877a-9334-465a-d889-cdd77f448881"
      },
      "source": [
        "#making sure that the format is changed\n",
        "trans.info()"
      ],
      "execution_count": null,
      "outputs": [
        {
          "output_type": "stream",
          "name": "stdout",
          "text": [
            "<class 'pandas.core.frame.DataFrame'>\n",
            "RangeIndex: 4507 entries, 0 to 4506\n",
            "Data columns (total 6 columns):\n",
            " #   Column               Non-Null Count  Dtype         \n",
            "---  ------               --------------  -----         \n",
            " 0   begin_date           4501 non-null   datetime64[ns]\n",
            " 1   end_date             4501 non-null   datetime64[ns]\n",
            " 2   originator_bank      4507 non-null   object        \n",
            " 3   filer_org_name       4507 non-null   object        \n",
            " 4   beneficiary_bank     4507 non-null   object        \n",
            " 5   amount_transactions  4507 non-null   float64       \n",
            "dtypes: datetime64[ns](2), float64(1), object(3)\n",
            "memory usage: 211.4+ KB\n"
          ]
        }
      ]
    },
    {
      "cell_type": "code",
      "metadata": {
        "colab": {
          "base_uri": "https://localhost:8080/",
          "height": 204
        },
        "id": "BdMO7r_bBSun",
        "outputId": "79c23bb6-fe0a-446a-98f1-3b7807dff576"
      },
      "source": [
        "#selectng the columns required for analysis\n",
        "df = df[['time', 'Sender', 'Transaction_amount_USD']]\n",
        "df.head()"
      ],
      "execution_count": null,
      "outputs": [
        {
          "output_type": "execute_result",
          "data": {
            "text/html": [
              "<div>\n",
              "<style scoped>\n",
              "    .dataframe tbody tr th:only-of-type {\n",
              "        vertical-align: middle;\n",
              "    }\n",
              "\n",
              "    .dataframe tbody tr th {\n",
              "        vertical-align: top;\n",
              "    }\n",
              "\n",
              "    .dataframe thead th {\n",
              "        text-align: right;\n",
              "    }\n",
              "</style>\n",
              "<table border=\"1\" class=\"dataframe\">\n",
              "  <thead>\n",
              "    <tr style=\"text-align: right;\">\n",
              "      <th></th>\n",
              "      <th>time</th>\n",
              "      <th>Sender</th>\n",
              "      <th>Transaction_amount_USD</th>\n",
              "    </tr>\n",
              "  </thead>\n",
              "  <tbody>\n",
              "    <tr>\n",
              "      <th>0</th>\n",
              "      <td>2015-04-01</td>\n",
              "      <td>14noyXsYSBTJYsyUmyDWhSeAVbge7qi5E3</td>\n",
              "      <td>2.143616e+06</td>\n",
              "    </tr>\n",
              "    <tr>\n",
              "      <th>1</th>\n",
              "      <td>2015-04-01</td>\n",
              "      <td>1LHXyLdpKC52988BqFXCHksU11QvXM7qRT</td>\n",
              "      <td>2.182985e+06</td>\n",
              "    </tr>\n",
              "    <tr>\n",
              "      <th>2</th>\n",
              "      <td>2015-04-01</td>\n",
              "      <td>15Bu9gyGtGrXuoLDe3erKfTj7n15mAp1Wc\\n1KYJV7JJDu...</td>\n",
              "      <td>1.216441e+06</td>\n",
              "    </tr>\n",
              "    <tr>\n",
              "      <th>3</th>\n",
              "      <td>2015-04-01</td>\n",
              "      <td>1KYJV7JJDuoR4ePgqm7C4o9gidMGhRUHNH\\n15X5v1G4fu...</td>\n",
              "      <td>1.216441e+06</td>\n",
              "    </tr>\n",
              "    <tr>\n",
              "      <th>4</th>\n",
              "      <td>2015-04-01</td>\n",
              "      <td>15Bu9gyGtGrXuoLDe3erKfTj7n15mAp1Wc\\n1FzAohdX6E...</td>\n",
              "      <td>1.216441e+06</td>\n",
              "    </tr>\n",
              "  </tbody>\n",
              "</table>\n",
              "</div>"
            ],
            "text/plain": [
              "        time  ... Transaction_amount_USD\n",
              "0 2015-04-01  ...           2.143616e+06\n",
              "1 2015-04-01  ...           2.182985e+06\n",
              "2 2015-04-01  ...           1.216441e+06\n",
              "3 2015-04-01  ...           1.216441e+06\n",
              "4 2015-04-01  ...           1.216441e+06\n",
              "\n",
              "[5 rows x 3 columns]"
            ]
          },
          "metadata": {},
          "execution_count": 13
        }
      ]
    },
    {
      "cell_type": "code",
      "metadata": {
        "id": "e-kQ8_-6BVxi"
      },
      "source": [
        "result = []\n",
        "#creating a loop on the df rows\n",
        "for time, blockchain_transaction_usd, sender in df[['time','Transaction_amount_USD','Sender']].itertuples(index=False):\n",
        "#inside creating another loop through the trans rows\n",
        "  for begin_date, end_date, originator_bank, filer_org_name, beneficiary_bank, bank_transaction_usd in trans[['begin_date','end_date','originator_bank','filer_org_name','beneficiary_bank','amount_transactions']].itertuples(index=False):\n",
        "#initializing the variable diff \n",
        "    diff = abs(blockchain_transaction_usd - bank_transaction_usd);\n",
        "#selecting blockchain transactions made between begin_date and end_date bank transactions, and which differ from banking amount_transactions by no more than 1%\n",
        "    if abs(blockchain_transaction_usd - bank_transaction_usd)/blockchain_transaction_usd <= 0.01 and time >= begin_date and time <= end_date:\n",
        "#adding suspicious transactions to the result list\n",
        "      result.append([time, originator_bank, filer_org_name, beneficiary_bank, bank_transaction_usd, blockchain_transaction_usd, diff, sender])"
      ],
      "execution_count": null,
      "outputs": []
    },
    {
      "cell_type": "code",
      "metadata": {
        "id": "b8PSvsCRBXnt",
        "colab": {
          "base_uri": "https://localhost:8080/",
          "height": 306
        },
        "outputId": "680c4d14-b84f-499c-dcdd-740458c02cd8"
      },
      "source": [
        "#changing the numbers representation format to a more convenient one\n",
        "pd.options.display.float_format ='{:,.0f}'.format\n",
        "#creating the final dataframe\n",
        "result = pd.DataFrame(result, columns=['time', 'originator_bank', 'filer_org_name', 'beneficiary_bank', 'bank_transaction_usd', 'blockchain_transaction_usd', 'diff_usd', 'sender'])\n",
        "#looking at the result\n",
        "result.head(5)"
      ],
      "execution_count": null,
      "outputs": [
        {
          "output_type": "execute_result",
          "data": {
            "text/html": [
              "<div>\n",
              "<style scoped>\n",
              "    .dataframe tbody tr th:only-of-type {\n",
              "        vertical-align: middle;\n",
              "    }\n",
              "\n",
              "    .dataframe tbody tr th {\n",
              "        vertical-align: top;\n",
              "    }\n",
              "\n",
              "    .dataframe thead th {\n",
              "        text-align: right;\n",
              "    }\n",
              "</style>\n",
              "<table border=\"1\" class=\"dataframe\">\n",
              "  <thead>\n",
              "    <tr style=\"text-align: right;\">\n",
              "      <th></th>\n",
              "      <th>time</th>\n",
              "      <th>originator_bank</th>\n",
              "      <th>filer_org_name</th>\n",
              "      <th>beneficiary_bank</th>\n",
              "      <th>bank_transaction_usd</th>\n",
              "      <th>blockchain_transaction_usd</th>\n",
              "      <th>diff_usd</th>\n",
              "      <th>sender</th>\n",
              "    </tr>\n",
              "  </thead>\n",
              "  <tbody>\n",
              "    <tr>\n",
              "      <th>0</th>\n",
              "      <td>2015-03-31</td>\n",
              "      <td>DMS Bank &amp; Trust Ltd.</td>\n",
              "      <td>The Bank of New York Mellon Corp.</td>\n",
              "      <td>Hang Seng Bank, Ltd</td>\n",
              "      <td>1,026,110</td>\n",
              "      <td>1,017,569</td>\n",
              "      <td>8,541</td>\n",
              "      <td>15HgmxddgExHKTfkXwacQgKf9nx8PZEDri</td>\n",
              "    </tr>\n",
              "    <tr>\n",
              "      <th>1</th>\n",
              "      <td>2015-03-26</td>\n",
              "      <td>Bank of Communications</td>\n",
              "      <td>Standard Chartered Plc</td>\n",
              "      <td>Standard Chartered Bank Hong Kong Ltd</td>\n",
              "      <td>1,251,050</td>\n",
              "      <td>1,246,427</td>\n",
              "      <td>4,623</td>\n",
              "      <td>183LytTb7GgTif1q9ggaqw2MY8GSq6SsH7</td>\n",
              "    </tr>\n",
              "    <tr>\n",
              "      <th>2</th>\n",
              "      <td>2015-03-26</td>\n",
              "      <td>Fifth Third Bank</td>\n",
              "      <td>Fifth Third Bank, National Association</td>\n",
              "      <td>Fifth Third Bank</td>\n",
              "      <td>1,245,000</td>\n",
              "      <td>1,246,427</td>\n",
              "      <td>1,427</td>\n",
              "      <td>183LytTb7GgTif1q9ggaqw2MY8GSq6SsH7</td>\n",
              "    </tr>\n",
              "    <tr>\n",
              "      <th>3</th>\n",
              "      <td>2015-03-26</td>\n",
              "      <td>DMS Bank &amp; Trust Ltd.</td>\n",
              "      <td>The Bank of New York Mellon Corp.</td>\n",
              "      <td>Hang Seng Bank, Ltd</td>\n",
              "      <td>1,026,110</td>\n",
              "      <td>1,035,335</td>\n",
              "      <td>9,225</td>\n",
              "      <td>13V8cGoAUkdRmJv1E7cbe9R7dZBt4MjQTd</td>\n",
              "    </tr>\n",
              "    <tr>\n",
              "      <th>4</th>\n",
              "      <td>2015-03-26</td>\n",
              "      <td>Expobank</td>\n",
              "      <td>The Bank of New York Mellon Corp.</td>\n",
              "      <td>Credit Suisse AG</td>\n",
              "      <td>1,080,000</td>\n",
              "      <td>1,076,255</td>\n",
              "      <td>3,745</td>\n",
              "      <td>1N7YMh49QB6KkBjMfX4boriNwtcQNAzX64</td>\n",
              "    </tr>\n",
              "  </tbody>\n",
              "</table>\n",
              "</div>"
            ],
            "text/plain": [
              "        time  ...                              sender\n",
              "0 2015-03-31  ...  15HgmxddgExHKTfkXwacQgKf9nx8PZEDri\n",
              "1 2015-03-26  ...  183LytTb7GgTif1q9ggaqw2MY8GSq6SsH7\n",
              "2 2015-03-26  ...  183LytTb7GgTif1q9ggaqw2MY8GSq6SsH7\n",
              "3 2015-03-26  ...  13V8cGoAUkdRmJv1E7cbe9R7dZBt4MjQTd\n",
              "4 2015-03-26  ...  1N7YMh49QB6KkBjMfX4boriNwtcQNAzX64\n",
              "\n",
              "[5 rows x 8 columns]"
            ]
          },
          "metadata": {},
          "execution_count": 15
        }
      ]
    },
    {
      "cell_type": "code",
      "metadata": {
        "id": "maBSJ6pRBcrh"
      },
      "source": [
        "#converting the result to result.csv\n",
        "result.to_csv('result.csv')"
      ],
      "execution_count": null,
      "outputs": []
    }
  ]
}