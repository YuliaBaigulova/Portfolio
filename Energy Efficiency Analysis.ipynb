{
  "nbformat": 4,
  "nbformat_minor": 0,
  "metadata": {
    "colab": {
      "name": "Байгулова_ДЗ_8.ipynb",
      "provenance": [],
      "collapsed_sections": []
    },
    "kernelspec": {
      "name": "python3",
      "display_name": "Python 3"
    },
    "language_info": {
      "name": "python"
    }
  },
  "cells": [
    {
      "cell_type": "markdown",
      "metadata": {
        "id": "ApRkZiAqej6s"
      },
      "source": [
        "#Анализ энергоэффективности зданий Нью-Йорка "
      ]
    },
    {
      "cell_type": "markdown",
      "metadata": {
        "id": "sCQDKhmoepq2"
      },
      "source": [
        "1. Скачать данные об энергоэффективности зданий Нью-Йорка https://www1.nyc.gov/html/gbee/html/plan/ll84_scores.shtml (2018 Energy and Water Data Disclosure (Data for Calendar Year 2017, файл spreadsheet)"
      ]
    },
    {
      "cell_type": "code",
      "metadata": {
        "id": "a5oN1etveZG0"
      },
      "source": [
        "from matplotlib import pyplot as plt\n",
        "import seaborn as sns\n",
        "import pandas as pd\n",
        "import numpy as np"
      ],
      "execution_count": null,
      "outputs": []
    },
    {
      "cell_type": "code",
      "metadata": {
        "colab": {
          "base_uri": "https://localhost:8080/",
          "height": 450
        },
        "id": "Lmb3fTIFe-j1",
        "outputId": "ae75928e-385e-45d2-fe07-b92c58c8ad5c"
      },
      "source": [
        "df = pd.read_excel('https://www1.nyc.gov/html/gbee/downloads/excel/nyc_benchmarking_disclosure_2017_consumption_data.xlsx', sheet_name='Information and Metrics')\n",
        "df.head()"
      ],
      "execution_count": null,
      "outputs": [
        {
          "output_type": "execute_result",
          "data": {
            "text/html": [
              "<div>\n",
              "<style scoped>\n",
              "    .dataframe tbody tr th:only-of-type {\n",
              "        vertical-align: middle;\n",
              "    }\n",
              "\n",
              "    .dataframe tbody tr th {\n",
              "        vertical-align: top;\n",
              "    }\n",
              "\n",
              "    .dataframe thead th {\n",
              "        text-align: right;\n",
              "    }\n",
              "</style>\n",
              "<table border=\"1\" class=\"dataframe\">\n",
              "  <thead>\n",
              "    <tr style=\"text-align: right;\">\n",
              "      <th></th>\n",
              "      <th>Order</th>\n",
              "      <th>Property Id</th>\n",
              "      <th>Property Name</th>\n",
              "      <th>Parent Property Id</th>\n",
              "      <th>Parent Property Name</th>\n",
              "      <th>BBL - 10 digits</th>\n",
              "      <th>NYC Borough, Block and Lot (BBL) self-reported</th>\n",
              "      <th>NYC Building Identification Number (BIN)</th>\n",
              "      <th>Address 1 (self-reported)</th>\n",
              "      <th>Address 2 (self-reported)</th>\n",
              "      <th>Postal Code</th>\n",
              "      <th>Street Number</th>\n",
              "      <th>Street Name</th>\n",
              "      <th>Borough</th>\n",
              "      <th>DOF Gross Floor Area (ft²)</th>\n",
              "      <th>Self-Reported Gross Floor Area (ft²)</th>\n",
              "      <th>Primary Property Type - Self Selected</th>\n",
              "      <th>List of All Property Use Types at Property</th>\n",
              "      <th>Largest Property Use Type</th>\n",
              "      <th>Largest Property Use Type - Gross Floor Area (ft²)</th>\n",
              "      <th>2nd Largest Property Use Type</th>\n",
              "      <th>2nd Largest Property Use - Gross Floor Area (ft²)</th>\n",
              "      <th>3rd Largest Property Use Type</th>\n",
              "      <th>3rd Largest Property Use Type - Gross Floor Area (ft²)</th>\n",
              "      <th>Year Built</th>\n",
              "      <th>Number of Buildings</th>\n",
              "      <th>Occupancy</th>\n",
              "      <th>Metered Areas (Energy)</th>\n",
              "      <th>Metered Areas  (Water)</th>\n",
              "      <th>ENERGY STAR Score</th>\n",
              "      <th>Source EUI (kBtu/ft²)</th>\n",
              "      <th>Weather Normalized Source EUI (kBtu/ft²)</th>\n",
              "      <th>Site EUI (kBtu/ft²)</th>\n",
              "      <th>Weather Normalized Site EUI (kBtu/ft²)</th>\n",
              "      <th>Weather Normalized Site Electricity Intensity (kWh/ft²)</th>\n",
              "      <th>Weather Normalized Site Natural Gas Intensity (therms/ft²)</th>\n",
              "      <th>Fuel Oil #1 Use (kBtu)</th>\n",
              "      <th>Fuel Oil #2 Use (kBtu)</th>\n",
              "      <th>Fuel Oil #4 Use (kBtu)</th>\n",
              "      <th>Fuel Oil #5 &amp; 6 Use (kBtu)</th>\n",
              "      <th>Diesel #2 Use (kBtu)</th>\n",
              "      <th>Propane Use (kBtu)</th>\n",
              "      <th>District Steam Use (kBtu)</th>\n",
              "      <th>District Hot Water Use (kBtu)</th>\n",
              "      <th>District Chilled Water Use (kBtu)</th>\n",
              "      <th>Natural Gas Use (kBtu)</th>\n",
              "      <th>Weather Normalized Site Natural Gas Use (therms)</th>\n",
              "      <th>Electricity Use - Grid Purchase (kBtu)</th>\n",
              "      <th>Electricity Use - Grid Purchase (kWh)</th>\n",
              "      <th>Weather Normalized Site Electricity (kWh)</th>\n",
              "      <th>Annual Maximum Demand (kW)</th>\n",
              "      <th>Annual Maximum Demand (MM/YYYY)</th>\n",
              "      <th>Total GHG Emissions (Metric Tons CO2e)</th>\n",
              "      <th>Direct GHG Emissions (Metric Tons CO2e)</th>\n",
              "      <th>Indirect GHG Emissions (Metric Tons CO2e)</th>\n",
              "      <th>Water Use (All Water Sources) (kgal)</th>\n",
              "      <th>Water Use Intensity (All Water Sources) (gal/ft²)</th>\n",
              "      <th>Water Required?</th>\n",
              "      <th>Generation Date</th>\n",
              "      <th>DOF Benchmarking Submission Status</th>\n",
              "    </tr>\n",
              "  </thead>\n",
              "  <tbody>\n",
              "    <tr>\n",
              "      <th>0</th>\n",
              "      <td>1</td>\n",
              "      <td>4593574</td>\n",
              "      <td>The Argonaut Building</td>\n",
              "      <td>NaN</td>\n",
              "      <td>NaN</td>\n",
              "      <td>1.010288e+09</td>\n",
              "      <td>1010287502</td>\n",
              "      <td>1024898</td>\n",
              "      <td>224 West 57th St</td>\n",
              "      <td>NaN</td>\n",
              "      <td>10019</td>\n",
              "      <td>Not found</td>\n",
              "      <td>Not found</td>\n",
              "      <td>Manhattan</td>\n",
              "      <td>Not found</td>\n",
              "      <td>169416</td>\n",
              "      <td>Office</td>\n",
              "      <td>Bank Branch, Office</td>\n",
              "      <td>Office</td>\n",
              "      <td>164754.0</td>\n",
              "      <td>Bank Branch</td>\n",
              "      <td>4662.0</td>\n",
              "      <td>NaN</td>\n",
              "      <td>NaN</td>\n",
              "      <td>1909</td>\n",
              "      <td>1</td>\n",
              "      <td>95</td>\n",
              "      <td>Whole Building</td>\n",
              "      <td>Whole Building</td>\n",
              "      <td>90.0</td>\n",
              "      <td>138.4</td>\n",
              "      <td>141.0</td>\n",
              "      <td>53.8</td>\n",
              "      <td>56.2</td>\n",
              "      <td>11.3</td>\n",
              "      <td>0.1</td>\n",
              "      <td>NaN</td>\n",
              "      <td>NaN</td>\n",
              "      <td>NaN</td>\n",
              "      <td>NaN</td>\n",
              "      <td>NaN</td>\n",
              "      <td>NaN</td>\n",
              "      <td>1133475.1</td>\n",
              "      <td>NaN</td>\n",
              "      <td>NaN</td>\n",
              "      <td>1435754.7</td>\n",
              "      <td>16672.2</td>\n",
              "      <td>6551394.1</td>\n",
              "      <td>1920103.6</td>\n",
              "      <td>1920103.6</td>\n",
              "      <td>NaN</td>\n",
              "      <td>NaT</td>\n",
              "      <td>732.4</td>\n",
              "      <td>76.3</td>\n",
              "      <td>656.1</td>\n",
              "      <td>3635.5</td>\n",
              "      <td>21.46</td>\n",
              "      <td>Not found</td>\n",
              "      <td>2018-02-14</td>\n",
              "      <td>Not found</td>\n",
              "    </tr>\n",
              "    <tr>\n",
              "      <th>1</th>\n",
              "      <td>3</td>\n",
              "      <td>2967701</td>\n",
              "      <td>Cathedral Preparatory Seminary</td>\n",
              "      <td>NaN</td>\n",
              "      <td>NaN</td>\n",
              "      <td>4.018720e+09</td>\n",
              "      <td>4-01872-0007</td>\n",
              "      <td>4046340</td>\n",
              "      <td>56-25 92nd Street</td>\n",
              "      <td>NaN</td>\n",
              "      <td>11373</td>\n",
              "      <td>Not found</td>\n",
              "      <td>Not found</td>\n",
              "      <td>Queens</td>\n",
              "      <td>Not found</td>\n",
              "      <td>94380</td>\n",
              "      <td>K-12 School</td>\n",
              "      <td>K-12 School</td>\n",
              "      <td>K-12 School</td>\n",
              "      <td>94380.0</td>\n",
              "      <td>NaN</td>\n",
              "      <td>NaN</td>\n",
              "      <td>NaN</td>\n",
              "      <td>NaN</td>\n",
              "      <td>1963</td>\n",
              "      <td>1</td>\n",
              "      <td>100</td>\n",
              "      <td>Whole Building</td>\n",
              "      <td>NaN</td>\n",
              "      <td>100.0</td>\n",
              "      <td>43.5</td>\n",
              "      <td>46.8</td>\n",
              "      <td>28.4</td>\n",
              "      <td>31.3</td>\n",
              "      <td>2.0</td>\n",
              "      <td>0.2</td>\n",
              "      <td>NaN</td>\n",
              "      <td>NaN</td>\n",
              "      <td>NaN</td>\n",
              "      <td>NaN</td>\n",
              "      <td>NaN</td>\n",
              "      <td>NaN</td>\n",
              "      <td>NaN</td>\n",
              "      <td>NaN</td>\n",
              "      <td>NaN</td>\n",
              "      <td>2068300.1</td>\n",
              "      <td>23243.7</td>\n",
              "      <td>616343.7</td>\n",
              "      <td>180640.0</td>\n",
              "      <td>184131.9</td>\n",
              "      <td>NaN</td>\n",
              "      <td>NaT</td>\n",
              "      <td>164.5</td>\n",
              "      <td>109.9</td>\n",
              "      <td>54.6</td>\n",
              "      <td>102.9</td>\n",
              "      <td>1.09</td>\n",
              "      <td>Not found</td>\n",
              "      <td>2018-02-14</td>\n",
              "      <td>Not found</td>\n",
              "    </tr>\n",
              "    <tr>\n",
              "      <th>2</th>\n",
              "      <td>4</td>\n",
              "      <td>4898531</td>\n",
              "      <td>The Nomad Hotel</td>\n",
              "      <td>NaN</td>\n",
              "      <td>NaN</td>\n",
              "      <td>1.008290e+09</td>\n",
              "      <td>1-00829-0050</td>\n",
              "      <td>1080710</td>\n",
              "      <td>1170 Broadway</td>\n",
              "      <td>NaN</td>\n",
              "      <td>10001-7507</td>\n",
              "      <td>Not found</td>\n",
              "      <td>Not found</td>\n",
              "      <td>Manhattan</td>\n",
              "      <td>Not found</td>\n",
              "      <td>125000</td>\n",
              "      <td>Hotel</td>\n",
              "      <td>Hotel</td>\n",
              "      <td>Hotel</td>\n",
              "      <td>125000.0</td>\n",
              "      <td>NaN</td>\n",
              "      <td>NaN</td>\n",
              "      <td>NaN</td>\n",
              "      <td>NaN</td>\n",
              "      <td>1999</td>\n",
              "      <td>1</td>\n",
              "      <td>85</td>\n",
              "      <td>Whole Building</td>\n",
              "      <td>Whole Building</td>\n",
              "      <td>83.0</td>\n",
              "      <td>271.1</td>\n",
              "      <td>274.7</td>\n",
              "      <td>130.2</td>\n",
              "      <td>133.7</td>\n",
              "      <td>18.8</td>\n",
              "      <td>0.7</td>\n",
              "      <td>NaN</td>\n",
              "      <td>NaN</td>\n",
              "      <td>NaN</td>\n",
              "      <td>NaN</td>\n",
              "      <td>NaN</td>\n",
              "      <td>NaN</td>\n",
              "      <td>NaN</td>\n",
              "      <td>NaN</td>\n",
              "      <td>NaN</td>\n",
              "      <td>8245445.1</td>\n",
              "      <td>86776.9</td>\n",
              "      <td>8033914.4</td>\n",
              "      <td>2354605.3</td>\n",
              "      <td>2354605.3</td>\n",
              "      <td>NaN</td>\n",
              "      <td>NaT</td>\n",
              "      <td>1150.2</td>\n",
              "      <td>438.0</td>\n",
              "      <td>712.3</td>\n",
              "      <td>10762.6</td>\n",
              "      <td>86.10</td>\n",
              "      <td>Not found</td>\n",
              "      <td>2018-02-14</td>\n",
              "      <td>Not found</td>\n",
              "    </tr>\n",
              "    <tr>\n",
              "      <th>3</th>\n",
              "      <td>5</td>\n",
              "      <td>2917939</td>\n",
              "      <td>10 West 27 Street Corp</td>\n",
              "      <td>NaN</td>\n",
              "      <td>NaN</td>\n",
              "      <td>1.008280e+09</td>\n",
              "      <td>1-00828-0053</td>\n",
              "      <td>1015657</td>\n",
              "      <td>1155 Broadway</td>\n",
              "      <td>NaN</td>\n",
              "      <td>10001</td>\n",
              "      <td>Not found</td>\n",
              "      <td>Not found</td>\n",
              "      <td>Manhattan</td>\n",
              "      <td>Not found</td>\n",
              "      <td>50000</td>\n",
              "      <td>Hotel</td>\n",
              "      <td>Hotel</td>\n",
              "      <td>Hotel</td>\n",
              "      <td>50000.0</td>\n",
              "      <td>NaN</td>\n",
              "      <td>NaN</td>\n",
              "      <td>NaN</td>\n",
              "      <td>NaN</td>\n",
              "      <td>1994</td>\n",
              "      <td>1</td>\n",
              "      <td>100</td>\n",
              "      <td>Whole Building</td>\n",
              "      <td>NaN</td>\n",
              "      <td>27.0</td>\n",
              "      <td>163.0</td>\n",
              "      <td>167.9</td>\n",
              "      <td>76.5</td>\n",
              "      <td>80.8</td>\n",
              "      <td>11.7</td>\n",
              "      <td>0.4</td>\n",
              "      <td>NaN</td>\n",
              "      <td>NaN</td>\n",
              "      <td>NaN</td>\n",
              "      <td>NaN</td>\n",
              "      <td>NaN</td>\n",
              "      <td>NaN</td>\n",
              "      <td>NaN</td>\n",
              "      <td>NaN</td>\n",
              "      <td>NaN</td>\n",
              "      <td>1848519.4</td>\n",
              "      <td>20520.9</td>\n",
              "      <td>1976691.9</td>\n",
              "      <td>579335.2</td>\n",
              "      <td>582516.1</td>\n",
              "      <td>NaN</td>\n",
              "      <td>NaT</td>\n",
              "      <td>273.4</td>\n",
              "      <td>98.2</td>\n",
              "      <td>175.3</td>\n",
              "      <td>790.1</td>\n",
              "      <td>15.80</td>\n",
              "      <td>Not found</td>\n",
              "      <td>2018-02-14</td>\n",
              "      <td>Not found</td>\n",
              "    </tr>\n",
              "    <tr>\n",
              "      <th>4</th>\n",
              "      <td>6</td>\n",
              "      <td>3878205</td>\n",
              "      <td>Westbury Realty</td>\n",
              "      <td>NaN</td>\n",
              "      <td>NaN</td>\n",
              "      <td>1.000650e+09</td>\n",
              "      <td>1-00065-0024</td>\n",
              "      <td>1001105</td>\n",
              "      <td>24 John Street</td>\n",
              "      <td>NaN</td>\n",
              "      <td>10038</td>\n",
              "      <td>Not found</td>\n",
              "      <td>Not found</td>\n",
              "      <td>Manhattan</td>\n",
              "      <td>Not found</td>\n",
              "      <td>50000</td>\n",
              "      <td>Hotel</td>\n",
              "      <td>Hotel</td>\n",
              "      <td>Hotel</td>\n",
              "      <td>50000.0</td>\n",
              "      <td>NaN</td>\n",
              "      <td>NaN</td>\n",
              "      <td>NaN</td>\n",
              "      <td>NaN</td>\n",
              "      <td>2012</td>\n",
              "      <td>1</td>\n",
              "      <td>0</td>\n",
              "      <td>Whole Building</td>\n",
              "      <td>Whole Building</td>\n",
              "      <td>99.0</td>\n",
              "      <td>64.2</td>\n",
              "      <td>64.2</td>\n",
              "      <td>20.5</td>\n",
              "      <td>20.5</td>\n",
              "      <td>6.0</td>\n",
              "      <td>NaN</td>\n",
              "      <td>NaN</td>\n",
              "      <td>NaN</td>\n",
              "      <td>NaN</td>\n",
              "      <td>NaN</td>\n",
              "      <td>NaN</td>\n",
              "      <td>NaN</td>\n",
              "      <td>NaN</td>\n",
              "      <td>NaN</td>\n",
              "      <td>NaN</td>\n",
              "      <td>NaN</td>\n",
              "      <td>NaN</td>\n",
              "      <td>1022951.6</td>\n",
              "      <td>299809.9</td>\n",
              "      <td>299809.9</td>\n",
              "      <td>NaN</td>\n",
              "      <td>NaT</td>\n",
              "      <td>90.7</td>\n",
              "      <td>0.0</td>\n",
              "      <td>90.7</td>\n",
              "      <td>143.0</td>\n",
              "      <td>2.86</td>\n",
              "      <td>Not found</td>\n",
              "      <td>2018-02-14</td>\n",
              "      <td>Not found</td>\n",
              "    </tr>\n",
              "  </tbody>\n",
              "</table>\n",
              "</div>"
            ],
            "text/plain": [
              "   Order  Property Id  ... Generation Date DOF Benchmarking Submission Status\n",
              "0      1      4593574  ...      2018-02-14                          Not found\n",
              "1      3      2967701  ...      2018-02-14                          Not found\n",
              "2      4      4898531  ...      2018-02-14                          Not found\n",
              "3      5      2917939  ...      2018-02-14                          Not found\n",
              "4      6      3878205  ...      2018-02-14                          Not found\n",
              "\n",
              "[5 rows x 60 columns]"
            ]
          },
          "metadata": {
            "tags": []
          },
          "execution_count": 2
        }
      ]
    },
    {
      "cell_type": "markdown",
      "metadata": {
        "id": "FPZivRFfh41C"
      },
      "source": [
        "2. Провести чистку данных (пропуски данных, неинформативные признаки, аномалии и т.п.)"
      ]
    },
    {
      "cell_type": "code",
      "metadata": {
        "colab": {
          "base_uri": "https://localhost:8080/"
        },
        "id": "YTxm7spsfYi4",
        "outputId": "57dc5d2f-cf99-4faa-8595-77ff73e9cf69"
      },
      "source": [
        "df.info()"
      ],
      "execution_count": null,
      "outputs": [
        {
          "output_type": "stream",
          "text": [
            "<class 'pandas.core.frame.DataFrame'>\n",
            "RangeIndex: 34355 entries, 0 to 34354\n",
            "Data columns (total 60 columns):\n",
            " #   Column                                                      Non-Null Count  Dtype         \n",
            "---  ------                                                      --------------  -----         \n",
            " 0   Order                                                       34355 non-null  int64         \n",
            " 1   Property Id                                                 34355 non-null  int64         \n",
            " 2   Property Name                                               34355 non-null  object        \n",
            " 3   Parent Property Id                                          1723 non-null   object        \n",
            " 4   Parent Property Name                                        1723 non-null   object        \n",
            " 5   BBL - 10 digits                                             33625 non-null  float64       \n",
            " 6   NYC Borough, Block and Lot (BBL) self-reported              33626 non-null  object        \n",
            " 7   NYC Building Identification Number (BIN)                    33123 non-null  object        \n",
            " 8   Address 1 (self-reported)                                   34355 non-null  object        \n",
            " 9   Address 2 (self-reported)                                   427 non-null    object        \n",
            " 10  Postal Code                                                 34355 non-null  object        \n",
            " 11  Street Number                                               34355 non-null  object        \n",
            " 12  Street Name                                                 34355 non-null  object        \n",
            " 13  Borough                                                     34355 non-null  object        \n",
            " 14  DOF Gross Floor Area (ft²)                                  34355 non-null  object        \n",
            " 15  Self-Reported Gross Floor Area (ft²)                        34355 non-null  int64         \n",
            " 16  Primary Property Type - Self Selected                       34355 non-null  object        \n",
            " 17  List of All Property Use Types at Property                  34342 non-null  object        \n",
            " 18  Largest Property Use Type                                   34323 non-null  object        \n",
            " 19  Largest Property Use Type - Gross Floor Area (ft²)          34323 non-null  float64       \n",
            " 20  2nd Largest Property Use Type                               7226 non-null   object        \n",
            " 21  2nd Largest Property Use - Gross Floor Area (ft²)           7226 non-null   float64       \n",
            " 22  3rd Largest Property Use Type                               2450 non-null   object        \n",
            " 23  3rd Largest Property Use Type - Gross Floor Area (ft²)      2450 non-null   float64       \n",
            " 24  Year Built                                                  34355 non-null  int64         \n",
            " 25  Number of Buildings                                         34355 non-null  int64         \n",
            " 26  Occupancy                                                   34355 non-null  int64         \n",
            " 27  Metered Areas (Energy)                                      31710 non-null  object        \n",
            " 28  Metered Areas  (Water)                                      14546 non-null  object        \n",
            " 29  ENERGY STAR Score                                           25454 non-null  float64       \n",
            " 30  Source EUI (kBtu/ft²)                                       31888 non-null  float64       \n",
            " 31  Weather Normalized Source EUI (kBtu/ft²)                    28560 non-null  float64       \n",
            " 32  Site EUI (kBtu/ft²)                                         31888 non-null  float64       \n",
            " 33  Weather Normalized Site EUI (kBtu/ft²)                      28560 non-null  float64       \n",
            " 34  Weather Normalized Site Electricity Intensity (kWh/ft²)     31001 non-null  float64       \n",
            " 35  Weather Normalized Site Natural Gas Intensity (therms/ft²)  28042 non-null  float64       \n",
            " 36  Fuel Oil #1 Use (kBtu)                                      36 non-null     float64       \n",
            " 37  Fuel Oil #2 Use (kBtu)                                      5664 non-null   float64       \n",
            " 38  Fuel Oil #4 Use (kBtu)                                      2378 non-null   float64       \n",
            " 39  Fuel Oil #5 & 6 Use (kBtu)                                  484 non-null    float64       \n",
            " 40  Diesel #2 Use (kBtu)                                        70 non-null     float64       \n",
            " 41  Propane Use (kBtu)                                          1 non-null      float64       \n",
            " 42  District Steam Use (kBtu)                                   1568 non-null   float64       \n",
            " 43  District Hot Water Use (kBtu)                               8 non-null      float64       \n",
            " 44  District Chilled Water Use (kBtu)                           30 non-null     float64       \n",
            " 45  Natural Gas Use (kBtu)                                      28819 non-null  float64       \n",
            " 46  Weather Normalized Site Natural Gas Use (therms)            28047 non-null  float64       \n",
            " 47  Electricity Use - Grid Purchase (kBtu)                      31576 non-null  float64       \n",
            " 48  Electricity Use - Grid Purchase (kWh)                       31576 non-null  float64       \n",
            " 49  Weather Normalized Site Electricity (kWh)                   31013 non-null  float64       \n",
            " 50  Annual Maximum Demand (kW)                                  2383 non-null   float64       \n",
            " 51  Annual Maximum Demand (MM/YYYY)                             2383 non-null   datetime64[ns]\n",
            " 52  Total GHG Emissions (Metric Tons CO2e)                      32957 non-null  float64       \n",
            " 53  Direct GHG Emissions (Metric Tons CO2e)                     33116 non-null  float64       \n",
            " 54  Indirect GHG Emissions (Metric Tons CO2e)                   33088 non-null  float64       \n",
            " 55  Water Use (All Water Sources) (kgal)                        18280 non-null  float64       \n",
            " 56  Water Use Intensity (All Water Sources) (gal/ft²)           18271 non-null  float64       \n",
            " 57  Water Required?                                             34355 non-null  object        \n",
            " 58  Generation Date                                             34355 non-null  datetime64[ns]\n",
            " 59  DOF Benchmarking Submission Status                          34355 non-null  object        \n",
            "dtypes: datetime64[ns](2), float64(31), int64(6), object(21)\n",
            "memory usage: 15.7+ MB\n"
          ],
          "name": "stdout"
        }
      ]
    },
    {
      "cell_type": "code",
      "metadata": {
        "colab": {
          "base_uri": "https://localhost:8080/"
        },
        "id": "PDLHS-yix1Hx",
        "outputId": "8724d1be-b2d2-479c-9b09-7bcc976222c4"
      },
      "source": [
        "df['ENERGY STAR Score'].describe()"
      ],
      "execution_count": null,
      "outputs": [
        {
          "output_type": "execute_result",
          "data": {
            "text/plain": [
              "count    25454.000000\n",
              "mean        53.927163\n",
              "std         32.573629\n",
              "min          1.000000\n",
              "25%         25.000000\n",
              "50%         56.000000\n",
              "75%         83.000000\n",
              "max        100.000000\n",
              "Name: ENERGY STAR Score, dtype: float64"
            ]
          },
          "metadata": {
            "tags": []
          },
          "execution_count": 4
        }
      ]
    },
    {
      "cell_type": "code",
      "metadata": {
        "id": "y0CcLMnNx5Q4"
      },
      "source": [
        "df = df.loc[df['ENERGY STAR Score']>0]"
      ],
      "execution_count": null,
      "outputs": []
    },
    {
      "cell_type": "code",
      "metadata": {
        "colab": {
          "base_uri": "https://localhost:8080/"
        },
        "id": "AAw-wEIJx7I-",
        "outputId": "1dc24ed7-5dca-4bd4-a340-9d5fe8dfdc3f"
      },
      "source": [
        "col_list = []\n",
        "\n",
        "for col in df:\n",
        "  if df[col].nunique() < 2 or df[col].nunique() == len(df):\n",
        "    col_list.append(col)\n",
        "\n",
        "col_list"
      ],
      "execution_count": null,
      "outputs": [
        {
          "output_type": "execute_result",
          "data": {
            "text/plain": [
              "['Order',\n",
              " 'Street Number',\n",
              " 'Street Name',\n",
              " 'DOF Gross Floor Area (ft²)',\n",
              " 'Metered Areas (Energy)',\n",
              " 'Propane Use (kBtu)',\n",
              " 'Water Required?',\n",
              " 'DOF Benchmarking Submission Status']"
            ]
          },
          "metadata": {
            "tags": []
          },
          "execution_count": 6
        }
      ]
    },
    {
      "cell_type": "code",
      "metadata": {
        "id": "WGw5qsfb1Jc2"
      },
      "source": [
        "df = df.drop(columns = col_list, axis = 1)"
      ],
      "execution_count": null,
      "outputs": []
    },
    {
      "cell_type": "code",
      "metadata": {
        "id": "1ShmyLvr1Tju"
      },
      "source": [
        "col_list2 = ['Property Id','Property Name','Parent Property Id', \n",
        "            'Parent Property Name', 'BBL - 10 digits', 'NYC Borough, Block and Lot (BBL) self-reported',\n",
        "            'NYC Building Identification Number (BIN)', 'Postal Code', \n",
        "            'Generation Date']\n",
        "df = df.drop(columns = col_list2, axis = 1)"
      ],
      "execution_count": null,
      "outputs": []
    },
    {
      "cell_type": "code",
      "metadata": {
        "colab": {
          "base_uri": "https://localhost:8080/"
        },
        "id": "a4K9Yqb8od8w",
        "outputId": "0021feff-f6fa-4ed9-d043-98815fe3e5ff"
      },
      "source": [
        "col_list3 = []\n",
        "\n",
        "for col in df:\n",
        "  s = sum(df[col].isna())\n",
        "  if s/len(df) >= 0.5:\n",
        "   col_list3.append(col)\n",
        "\n",
        "col_list3"
      ],
      "execution_count": null,
      "outputs": [
        {
          "output_type": "execute_result",
          "data": {
            "text/plain": [
              "['Address 2 (self-reported)',\n",
              " '2nd Largest Property Use Type',\n",
              " '2nd Largest Property Use - Gross Floor Area (ft²)',\n",
              " '3rd Largest Property Use Type',\n",
              " '3rd Largest Property Use Type - Gross Floor Area (ft²)',\n",
              " 'Metered Areas  (Water)',\n",
              " 'Fuel Oil #1 Use (kBtu)',\n",
              " 'Fuel Oil #2 Use (kBtu)',\n",
              " 'Fuel Oil #4 Use (kBtu)',\n",
              " 'Fuel Oil #5 & 6 Use (kBtu)',\n",
              " 'Diesel #2 Use (kBtu)',\n",
              " 'District Steam Use (kBtu)',\n",
              " 'District Hot Water Use (kBtu)',\n",
              " 'District Chilled Water Use (kBtu)',\n",
              " 'Annual Maximum Demand (kW)',\n",
              " 'Annual Maximum Demand (MM/YYYY)']"
            ]
          },
          "metadata": {
            "tags": []
          },
          "execution_count": 9
        }
      ]
    },
    {
      "cell_type": "code",
      "metadata": {
        "id": "UyxjHdoN2Aw5"
      },
      "source": [
        "df = df.drop(columns = col_list3, axis = 1)"
      ],
      "execution_count": null,
      "outputs": []
    },
    {
      "cell_type": "code",
      "metadata": {
        "colab": {
          "base_uri": "https://localhost:8080/"
        },
        "id": "FTGTP9Ka2F8W",
        "outputId": "c4a6e7ad-cad0-479a-9be0-6758f018fca4"
      },
      "source": [
        "df.shape"
      ],
      "execution_count": null,
      "outputs": [
        {
          "output_type": "execute_result",
          "data": {
            "text/plain": [
              "(25454, 27)"
            ]
          },
          "metadata": {
            "tags": []
          },
          "execution_count": 11
        }
      ]
    },
    {
      "cell_type": "code",
      "metadata": {
        "id": "dz233u27nPqm",
        "colab": {
          "base_uri": "https://localhost:8080/",
          "height": 166
        },
        "outputId": "49e461b8-d3c5-4ed7-868e-51af035bb537"
      },
      "source": [
        "# посмотрим на оставшиеся строковые признаки и решим, как их обработать\n",
        "df.describe(include='object')"
      ],
      "execution_count": null,
      "outputs": [
        {
          "output_type": "execute_result",
          "data": {
            "text/html": [
              "<div>\n",
              "<style scoped>\n",
              "    .dataframe tbody tr th:only-of-type {\n",
              "        vertical-align: middle;\n",
              "    }\n",
              "\n",
              "    .dataframe tbody tr th {\n",
              "        vertical-align: top;\n",
              "    }\n",
              "\n",
              "    .dataframe thead th {\n",
              "        text-align: right;\n",
              "    }\n",
              "</style>\n",
              "<table border=\"1\" class=\"dataframe\">\n",
              "  <thead>\n",
              "    <tr style=\"text-align: right;\">\n",
              "      <th></th>\n",
              "      <th>Address 1 (self-reported)</th>\n",
              "      <th>Borough</th>\n",
              "      <th>Primary Property Type - Self Selected</th>\n",
              "      <th>List of All Property Use Types at Property</th>\n",
              "      <th>Largest Property Use Type</th>\n",
              "    </tr>\n",
              "  </thead>\n",
              "  <tbody>\n",
              "    <tr>\n",
              "      <th>count</th>\n",
              "      <td>25454</td>\n",
              "      <td>25454</td>\n",
              "      <td>25454</td>\n",
              "      <td>25454</td>\n",
              "      <td>25454</td>\n",
              "    </tr>\n",
              "    <tr>\n",
              "      <th>unique</th>\n",
              "      <td>17489</td>\n",
              "      <td>12</td>\n",
              "      <td>33</td>\n",
              "      <td>580</td>\n",
              "      <td>20</td>\n",
              "    </tr>\n",
              "    <tr>\n",
              "      <th>top</th>\n",
              "      <td>410 West 118th Street</td>\n",
              "      <td>Manhattan</td>\n",
              "      <td>Multifamily Housing</td>\n",
              "      <td>Multifamily Housing</td>\n",
              "      <td>Multifamily Housing</td>\n",
              "    </tr>\n",
              "    <tr>\n",
              "      <th>freq</th>\n",
              "      <td>70</td>\n",
              "      <td>9223</td>\n",
              "      <td>18973</td>\n",
              "      <td>16311</td>\n",
              "      <td>18986</td>\n",
              "    </tr>\n",
              "  </tbody>\n",
              "</table>\n",
              "</div>"
            ],
            "text/plain": [
              "       Address 1 (self-reported)  ... Largest Property Use Type\n",
              "count                      25454  ...                     25454\n",
              "unique                     17489  ...                        20\n",
              "top        410 West 118th Street  ...       Multifamily Housing\n",
              "freq                          70  ...                     18986\n",
              "\n",
              "[4 rows x 5 columns]"
            ]
          },
          "metadata": {
            "tags": []
          },
          "execution_count": 12
        }
      ]
    },
    {
      "cell_type": "code",
      "metadata": {
        "colab": {
          "base_uri": "https://localhost:8080/"
        },
        "id": "wWJdoxOr2cPm",
        "outputId": "bdfe14f4-2903-41c7-8ce5-9cef9fdbe2a5"
      },
      "source": [
        "# в переменной адреса очень много уникальных значений, но в основном за счет разницы в написании улиц, разных номеров домов на одной улице\n",
        "# варианты: почистить колонку regexp-ом либо превратить адрес в координаты\n",
        "df['Address 1 (self-reported)'].value_counts().sample(10)"
      ],
      "execution_count": null,
      "outputs": [
        {
          "output_type": "execute_result",
          "data": {
            "text/plain": [
              "539 W. 162nd Street          1\n",
              "916 Carroll Street           1\n",
              "680 W 204th St               1\n",
              "127 W. 96th St               1\n",
              "455 Huguenot Avenue          1\n",
              "45 Pineapple St              1\n",
              "75 MARTENSE ST               4\n",
              "229 EAST KINGSBRIDGE ROAD    1\n",
              "611-617 W 148 St             1\n",
              "1422 Nelson Avenue           1\n",
              "Name: Address 1 (self-reported), dtype: int64"
            ]
          },
          "metadata": {
            "tags": []
          },
          "execution_count": 13
        }
      ]
    },
    {
      "cell_type": "code",
      "metadata": {
        "colab": {
          "base_uri": "https://localhost:8080/"
        },
        "id": "ZpIhHv9z4QxP",
        "outputId": "76327e09-a195-40a6-cd08-f6e51ceb848e"
      },
      "source": [
        "# переменная район: проблема в прописных и заглавных буквах, заменим на месте и минимизируем число категорий\n",
        "df['Borough'].value_counts()"
      ],
      "execution_count": null,
      "outputs": [
        {
          "output_type": "execute_result",
          "data": {
            "text/plain": [
              "Manhattan        9223\n",
              "Brooklyn         6419\n",
              "Bronx            5350\n",
              "Queens           3992\n",
              "Staten Island     427\n",
              "brooklyn           24\n",
              "BROOKLYN            9\n",
              "bronx               4\n",
              "BRONX               2\n",
              "QUEENS              2\n",
              "Patchogue           1\n",
              "STATEN ISLAND       1\n",
              "Name: Borough, dtype: int64"
            ]
          },
          "metadata": {
            "tags": []
          },
          "execution_count": 14
        }
      ]
    },
    {
      "cell_type": "code",
      "metadata": {
        "colab": {
          "base_uri": "https://localhost:8080/"
        },
        "id": "NuijzCbs4Wwi",
        "outputId": "38a19ce2-83a4-4398-a715-917044db88f0"
      },
      "source": [
        "df['Borough'] = df['Borough'].str.lower() # strategy: one_hot_encoding\n",
        "df['Borough'].value_counts()"
      ],
      "execution_count": null,
      "outputs": [
        {
          "output_type": "execute_result",
          "data": {
            "text/plain": [
              "manhattan        9223\n",
              "brooklyn         6452\n",
              "bronx            5356\n",
              "queens           3994\n",
              "staten island     428\n",
              "patchogue           1\n",
              "Name: Borough, dtype: int64"
            ]
          },
          "metadata": {
            "tags": []
          },
          "execution_count": 15
        }
      ]
    },
    {
      "cell_type": "code",
      "metadata": {
        "colab": {
          "base_uri": "https://localhost:8080/"
        },
        "id": "eIZPZqwj4dep",
        "outputId": "897b69a5-2402-4bc2-b036-e9279f465315"
      },
      "source": [
        "# переменная первичное назначение здания содержит около 30 уникальных значений, в качестве преобразования выберем замену на значение частоты категории (frequency encoding)\n",
        "df['Primary Property Type - Self Selected'].value_counts().sort_index().head(15)"
      ],
      "execution_count": null,
      "outputs": [
        {
          "output_type": "execute_result",
          "data": {
            "text/plain": [
              "Bank Branch                                11\n",
              "College/University                        249\n",
              "Convention Center                           4\n",
              "Courthouse                                 25\n",
              "Data Center                                 4\n",
              "Distribution Center                       123\n",
              "Financial Office                           17\n",
              "Fitness Center/Health Club/Gym              1\n",
              "Food Sales                                  2\n",
              "Hospital (General Medical & Surgical)      85\n",
              "Hotel                                     466\n",
              "K-12 School                              1489\n",
              "Manufacturing/Industrial Plant              1\n",
              "Medical Office                             79\n",
              "Mixed Use Property                         37\n",
              "Name: Primary Property Type - Self Selected, dtype: int64"
            ]
          },
          "metadata": {
            "tags": []
          },
          "execution_count": 16
        }
      ]
    },
    {
      "cell_type": "code",
      "metadata": {
        "colab": {
          "base_uri": "https://localhost:8080/"
        },
        "id": "xwjpFAWF5qph",
        "outputId": "151fc2be-ac79-44a7-8743-c169664e0db2"
      },
      "source": [
        "# переменная с перечнем типов помещений в здании содержит очень много уникальных значений, создадаим словарь встречаемости слов и применим методику tfidf\n",
        "df['List of All Property Use Types at Property'].value_counts().head(15) # strategy: tfidf"
      ],
      "execution_count": null,
      "outputs": [
        {
          "output_type": "execute_result",
          "data": {
            "text/plain": [
              "Multifamily Housing                           16311\n",
              "K-12 School                                    1650\n",
              "Office                                         1442\n",
              "Multifamily Housing, Parking                    820\n",
              "Residence Hall/Dormitory                        432\n",
              "Multifamily Housing, Other                      427\n",
              "Hotel                                           399\n",
              "Multifamily Housing, Retail Store               314\n",
              "Office, Retail Store                            285\n",
              "Non-Refrigerated Warehouse                      250\n",
              "Senior Care Community                           168\n",
              "Retail Store                                    143\n",
              "Multifamily Housing, Office                     135\n",
              "Multifamily Housing, Parking, Retail Store      103\n",
              "Worship Facility                                101\n",
              "Name: List of All Property Use Types at Property, dtype: int64"
            ]
          },
          "metadata": {
            "tags": []
          },
          "execution_count": 17
        }
      ]
    },
    {
      "cell_type": "code",
      "metadata": {
        "colab": {
          "base_uri": "https://localhost:8080/"
        },
        "id": "C9KYHN1Q5vXU",
        "outputId": "4eca7d4b-19f6-41a7-bf06-fde7373d879f"
      },
      "source": [
        "# назначение самой большой площади в здании содержит около 20 уникальных значений, в качестве преобразования выберем замену на значение частоты категории (frequency encoding)\n",
        "df['Largest Property Use Type'].value_counts().head(10) # strategy: frequency encoding"
      ],
      "execution_count": null,
      "outputs": [
        {
          "output_type": "execute_result",
          "data": {
            "text/plain": [
              "Multifamily Housing           18986\n",
              "Office                         2448\n",
              "K-12 School                    1734\n",
              "Hotel                           471\n",
              "Residence Hall/Dormitory        459\n",
              "Non-Refrigerated Warehouse      379\n",
              "Retail Store                    187\n",
              "Senior Care Community           183\n",
              "Distribution Center             125\n",
              "Worship Facility                112\n",
              "Name: Largest Property Use Type, dtype: int64"
            ]
          },
          "metadata": {
            "tags": []
          },
          "execution_count": 18
        }
      ]
    },
    {
      "cell_type": "code",
      "metadata": {
        "colab": {
          "base_uri": "https://localhost:8080/"
        },
        "id": "yYM5d1sk58-r",
        "outputId": "05b6b14c-1618-492c-898f-12c0febeb5f1"
      },
      "source": [
        "# проверим наличие пропусков в текстовых переменных\n",
        "df.select_dtypes(['object']).info()"
      ],
      "execution_count": null,
      "outputs": [
        {
          "output_type": "stream",
          "text": [
            "<class 'pandas.core.frame.DataFrame'>\n",
            "Int64Index: 25454 entries, 0 to 34353\n",
            "Data columns (total 5 columns):\n",
            " #   Column                                      Non-Null Count  Dtype \n",
            "---  ------                                      --------------  ----- \n",
            " 0   Address 1 (self-reported)                   25454 non-null  object\n",
            " 1   Borough                                     25454 non-null  object\n",
            " 2   Primary Property Type - Self Selected       25454 non-null  object\n",
            " 3   List of All Property Use Types at Property  25454 non-null  object\n",
            " 4   Largest Property Use Type                   25454 non-null  object\n",
            "dtypes: object(5)\n",
            "memory usage: 1.2+ MB\n"
          ],
          "name": "stdout"
        }
      ]
    },
    {
      "cell_type": "code",
      "metadata": {
        "colab": {
          "base_uri": "https://localhost:8080/"
        },
        "id": "5UmfdvOB6AdD",
        "outputId": "c1e8faa7-23a7-42ec-d90d-058bf914d324"
      },
      "source": [
        "# проверим долю пропущеных значений в числовых признаках\n",
        "(df.select_dtypes(['int','float']).isna().sum()/len(df)).sort_values()"
      ],
      "execution_count": null,
      "outputs": [
        {
          "output_type": "execute_result",
          "data": {
            "text/plain": [
              "Self-Reported Gross Floor Area (ft²)                          0.000000\n",
              "Largest Property Use Type - Gross Floor Area (ft²)            0.000000\n",
              "Year Built                                                    0.000000\n",
              "Number of Buildings                                           0.000000\n",
              "Occupancy                                                     0.000000\n",
              "ENERGY STAR Score                                             0.000000\n",
              "Source EUI (kBtu/ft²)                                         0.000000\n",
              "Site EUI (kBtu/ft²)                                           0.000000\n",
              "Total GHG Emissions (Metric Tons CO2e)                        0.000157\n",
              "Indirect GHG Emissions (Metric Tons CO2e)                     0.002004\n",
              "Direct GHG Emissions (Metric Tons CO2e)                       0.004125\n",
              "Electricity Use - Grid Purchase (kWh)                         0.016147\n",
              "Electricity Use - Grid Purchase (kBtu)                        0.016147\n",
              "Weather Normalized Site Electricity (kWh)                     0.032333\n",
              "Weather Normalized Site Electricity Intensity (kWh/ft²)       0.032333\n",
              "Natural Gas Use (kBtu)                                        0.092166\n",
              "Weather Normalized Site EUI (kBtu/ft²)                        0.106034\n",
              "Weather Normalized Source EUI (kBtu/ft²)                      0.106034\n",
              "Weather Normalized Site Natural Gas Intensity (therms/ft²)    0.114835\n",
              "Weather Normalized Site Natural Gas Use (therms)              0.114835\n",
              "Water Use (All Water Sources) (kgal)                          0.435766\n",
              "Water Use Intensity (All Water Sources) (gal/ft²)             0.435766\n",
              "dtype: float64"
            ]
          },
          "metadata": {
            "tags": []
          },
          "execution_count": 20
        }
      ]
    },
    {
      "cell_type": "markdown",
      "metadata": {
        "id": "IumicLlCAJ8O"
      },
      "source": [
        "3. Провести Exploratory Data Analysis. Проанализировать переменные, влияющие на зависимую переменную - оценку энергоэффективности зданий ENERGY STAR Score."
      ]
    },
    {
      "cell_type": "code",
      "metadata": {
        "colab": {
          "base_uri": "https://localhost:8080/",
          "height": 1000
        },
        "id": "ilrMOnV3AZDg",
        "outputId": "978b73fc-4dde-4d5d-9d11-e5b06005180c"
      },
      "source": [
        "correlation = df.corr()\n",
        "plt.figure(figsize = (20,15))\n",
        "sns.heatmap(correlation, cmap = 'Blues', annot = True)\n",
        "plt.title('Корреляционная матрица')\n",
        "plt.show()"
      ],
      "execution_count": null,
      "outputs": [
        {
          "output_type": "display_data",
          "data": {
            "image/png": "[encoded data removed]",
            "text/plain": [
              "<Figure size 1440x1080 with 2 Axes>"
            ]
          },
          "metadata": {
            "tags": [],
            "needs_background": "light"
          }
        }
      ]
    },
    {
      "cell_type": "markdown",
      "metadata": {
        "id": "kh18FxWoHuh6"
      },
      "source": [
        "По анализу корреляционной матрицы можно выделить один показатель Weather Normalized Site Electricity Intensity (kWh/ft²), влияющий на итоговое значение ENERGY STAR Score. Проверим влияние этого показателя с помощью другого графика"
      ]
    },
    {
      "cell_type": "code",
      "metadata": {
        "colab": {
          "base_uri": "https://localhost:8080/",
          "height": 195
        },
        "id": "2VIlzfQ0Jc6-",
        "outputId": "de02e188-26f3-4441-8b36-6025bc8ad0fa"
      },
      "source": [
        "data = df.groupby('ENERGY STAR Score')['Weather Normalized Site Electricity Intensity (kWh/ft²)'].mean().reset_index()\n",
        "data.head()"
      ],
      "execution_count": null,
      "outputs": [
        {
          "output_type": "execute_result",
          "data": {
            "text/html": [
              "<div>\n",
              "<style scoped>\n",
              "    .dataframe tbody tr th:only-of-type {\n",
              "        vertical-align: middle;\n",
              "    }\n",
              "\n",
              "    .dataframe tbody tr th {\n",
              "        vertical-align: top;\n",
              "    }\n",
              "\n",
              "    .dataframe thead th {\n",
              "        text-align: right;\n",
              "    }\n",
              "</style>\n",
              "<table border=\"1\" class=\"dataframe\">\n",
              "  <thead>\n",
              "    <tr style=\"text-align: right;\">\n",
              "      <th></th>\n",
              "      <th>ENERGY STAR Score</th>\n",
              "      <th>Weather Normalized Site Electricity Intensity (kWh/ft²)</th>\n",
              "    </tr>\n",
              "  </thead>\n",
              "  <tbody>\n",
              "    <tr>\n",
              "      <th>0</th>\n",
              "      <td>1.0</td>\n",
              "      <td>21.207476</td>\n",
              "    </tr>\n",
              "    <tr>\n",
              "      <th>1</th>\n",
              "      <td>2.0</td>\n",
              "      <td>11.487955</td>\n",
              "    </tr>\n",
              "    <tr>\n",
              "      <th>2</th>\n",
              "      <td>3.0</td>\n",
              "      <td>12.532117</td>\n",
              "    </tr>\n",
              "    <tr>\n",
              "      <th>3</th>\n",
              "      <td>4.0</td>\n",
              "      <td>9.765560</td>\n",
              "    </tr>\n",
              "    <tr>\n",
              "      <th>4</th>\n",
              "      <td>5.0</td>\n",
              "      <td>9.889963</td>\n",
              "    </tr>\n",
              "  </tbody>\n",
              "</table>\n",
              "</div>"
            ],
            "text/plain": [
              "   ENERGY STAR Score  Weather Normalized Site Electricity Intensity (kWh/ft²)\n",
              "0                1.0                                          21.207476      \n",
              "1                2.0                                          11.487955      \n",
              "2                3.0                                          12.532117      \n",
              "3                4.0                                           9.765560      \n",
              "4                5.0                                           9.889963      "
            ]
          },
          "metadata": {
            "tags": []
          },
          "execution_count": 22
        }
      ]
    },
    {
      "cell_type": "code",
      "metadata": {
        "colab": {
          "base_uri": "https://localhost:8080/",
          "height": 442
        },
        "id": "VH4Pr14FIyQa",
        "outputId": "2534a17a-3959-4481-b7a2-5369aa29f9fe"
      },
      "source": [
        "plt.figure(figsize = (10,7))\n",
        "\n",
        "plt.plot(data['ENERGY STAR Score'], data['Weather Normalized Site Electricity Intensity (kWh/ft²)'])\n",
        "\n",
        "plt.xlabel('ENERGY STAR Score')\n",
        "plt.ylabel('Weather Normalized Site Electricity Intensity (kWh/ft²)')\n",
        "\n",
        "plt.show()"
      ],
      "execution_count": null,
      "outputs": [
        {
          "output_type": "display_data",
          "data": {
            "image/png": "[encoded data removed]",
            "text/plain": [
              "<Figure size 720x504 with 1 Axes>"
            ]
          },
          "metadata": {
            "tags": [],
            "needs_background": "light"
          }
        }
      ]
    },
    {
      "cell_type": "markdown",
      "metadata": {
        "id": "LNA5ZPxRKiTq"
      },
      "source": [
        "В целом, можно проследить тенденцию обратной зависимости Энергоэффективности здания (ENERGY STAR Score) от Электроэнергии на объекте, нормализованной по погодным условиям кВтч/фут² (Weather Normalized Site Electricity Intensity, kWh/ft²). Чем ниже Электроэнергия на объекте, нормализованная по погодным условиям, тем выше Энергоэффективность здания.\n",
        "\n",
        "После построения предиктивной модели мы также проверим рейтинг важности признаков, влияющих на Энергоэффективность (ENERGY STAR Score) "
      ]
    },
    {
      "cell_type": "markdown",
      "metadata": {
        "id": "Rrc1enknPOR4"
      },
      "source": [
        "4. Разделить датасет на обучающие и тестовую  выборки."
      ]
    },
    {
      "cell_type": "code",
      "metadata": {
        "id": "wMc1QVPe6GHB"
      },
      "source": [
        "x = df.copy()\n",
        "y = x.pop('ENERGY STAR Score')"
      ],
      "execution_count": null,
      "outputs": []
    },
    {
      "cell_type": "code",
      "metadata": {
        "id": "C0MAhsDX6lhI"
      },
      "source": [
        "from sklearn.model_selection import train_test_split\n",
        "\n",
        "x_train, x_test, y_train, y_test = train_test_split(x, y, test_size = 0.2, shuffle = True, random_state = 5)"
      ],
      "execution_count": null,
      "outputs": []
    },
    {
      "cell_type": "code",
      "metadata": {
        "id": "HJlahW8D6sAf"
      },
      "source": [
        "# обработаем переменную район с помощью one hot encoding\n",
        "x_train, x_ohe_train = x_train.drop(['Borough'], axis =1), x_train['Borough'].copy()\n",
        "x_test, x_ohe_test = x_test.drop(['Borough'], axis =1),  x_test['Borough'].copy()"
      ],
      "execution_count": null,
      "outputs": []
    },
    {
      "cell_type": "code",
      "metadata": {
        "colab": {
          "base_uri": "https://localhost:8080/"
        },
        "id": "nRwwPMVs7bvZ",
        "outputId": "d05a0ddc-b43d-42c3-9948-42997aea2a2a"
      },
      "source": [
        "x_ohe_train.head()"
      ],
      "execution_count": null,
      "outputs": [
        {
          "output_type": "execute_result",
          "data": {
            "text/plain": [
              "15743     brooklyn\n",
              "4069     manhattan\n",
              "23948     brooklyn\n",
              "8975     manhattan\n",
              "15436     brooklyn\n",
              "Name: Borough, dtype: object"
            ]
          },
          "metadata": {
            "tags": []
          },
          "execution_count": 27
        }
      ]
    },
    {
      "cell_type": "code",
      "metadata": {
        "id": "B10_Kwvs7cWI"
      },
      "source": [
        "from sklearn.preprocessing import OneHotEncoder\n",
        "\n",
        "ohe = OneHotEncoder(handle_unknown = 'ignore', sparse = False)\n",
        "x_ohe_train = ohe.fit_transform(x_ohe_train.values.reshape(-1, 1))\n",
        "x_ohe_train = pd.DataFrame(x_ohe_train, columns = ohe.get_feature_names())\n",
        "x_ohe_test = ohe.transform(x_ohe_test.values.reshape(-1, 1))\n",
        "x_ohe_test = pd.DataFrame(x_ohe_test, columns = ohe.get_feature_names())"
      ],
      "execution_count": null,
      "outputs": []
    },
    {
      "cell_type": "code",
      "metadata": {
        "colab": {
          "base_uri": "https://localhost:8080/",
          "height": 195
        },
        "id": "5v11pXRW7wZr",
        "outputId": "bc8b9a92-2e59-4302-fb63-bdb287199bc6"
      },
      "source": [
        "x_ohe_train.head()"
      ],
      "execution_count": null,
      "outputs": [
        {
          "output_type": "execute_result",
          "data": {
            "text/html": [
              "<div>\n",
              "<style scoped>\n",
              "    .dataframe tbody tr th:only-of-type {\n",
              "        vertical-align: middle;\n",
              "    }\n",
              "\n",
              "    .dataframe tbody tr th {\n",
              "        vertical-align: top;\n",
              "    }\n",
              "\n",
              "    .dataframe thead th {\n",
              "        text-align: right;\n",
              "    }\n",
              "</style>\n",
              "<table border=\"1\" class=\"dataframe\">\n",
              "  <thead>\n",
              "    <tr style=\"text-align: right;\">\n",
              "      <th></th>\n",
              "      <th>x0_bronx</th>\n",
              "      <th>x0_brooklyn</th>\n",
              "      <th>x0_manhattan</th>\n",
              "      <th>x0_patchogue</th>\n",
              "      <th>x0_queens</th>\n",
              "      <th>x0_staten island</th>\n",
              "    </tr>\n",
              "  </thead>\n",
              "  <tbody>\n",
              "    <tr>\n",
              "      <th>0</th>\n",
              "      <td>0.0</td>\n",
              "      <td>1.0</td>\n",
              "      <td>0.0</td>\n",
              "      <td>0.0</td>\n",
              "      <td>0.0</td>\n",
              "      <td>0.0</td>\n",
              "    </tr>\n",
              "    <tr>\n",
              "      <th>1</th>\n",
              "      <td>0.0</td>\n",
              "      <td>0.0</td>\n",
              "      <td>1.0</td>\n",
              "      <td>0.0</td>\n",
              "      <td>0.0</td>\n",
              "      <td>0.0</td>\n",
              "    </tr>\n",
              "    <tr>\n",
              "      <th>2</th>\n",
              "      <td>0.0</td>\n",
              "      <td>1.0</td>\n",
              "      <td>0.0</td>\n",
              "      <td>0.0</td>\n",
              "      <td>0.0</td>\n",
              "      <td>0.0</td>\n",
              "    </tr>\n",
              "    <tr>\n",
              "      <th>3</th>\n",
              "      <td>0.0</td>\n",
              "      <td>0.0</td>\n",
              "      <td>1.0</td>\n",
              "      <td>0.0</td>\n",
              "      <td>0.0</td>\n",
              "      <td>0.0</td>\n",
              "    </tr>\n",
              "    <tr>\n",
              "      <th>4</th>\n",
              "      <td>0.0</td>\n",
              "      <td>1.0</td>\n",
              "      <td>0.0</td>\n",
              "      <td>0.0</td>\n",
              "      <td>0.0</td>\n",
              "      <td>0.0</td>\n",
              "    </tr>\n",
              "  </tbody>\n",
              "</table>\n",
              "</div>"
            ],
            "text/plain": [
              "   x0_bronx  x0_brooklyn  ...  x0_queens  x0_staten island\n",
              "0       0.0          1.0  ...        0.0               0.0\n",
              "1       0.0          0.0  ...        0.0               0.0\n",
              "2       0.0          1.0  ...        0.0               0.0\n",
              "3       0.0          0.0  ...        0.0               0.0\n",
              "4       0.0          1.0  ...        0.0               0.0\n",
              "\n",
              "[5 rows x 6 columns]"
            ]
          },
          "metadata": {
            "tags": []
          },
          "execution_count": 29
        }
      ]
    },
    {
      "cell_type": "code",
      "metadata": {
        "id": "AloXd2kl7yln"
      },
      "source": [
        "# обработаем переменные с типами здания и самого большого помещения  с помощью frequency encoding\n",
        "x_train, x_fr_train = x_train.drop(['Primary Property Type - Self Selected','Largest Property Use Type'], axis =1), x_train[['Primary Property Type - Self Selected','Largest Property Use Type']].copy()\n",
        "x_test, x_fr_test = x_test.drop(['Primary Property Type - Self Selected','Largest Property Use Type'], axis =1),  x_test[['Primary Property Type - Self Selected','Largest Property Use Type']].copy()"
      ],
      "execution_count": null,
      "outputs": []
    },
    {
      "cell_type": "code",
      "metadata": {
        "colab": {
          "base_uri": "https://localhost:8080/",
          "height": 195
        },
        "id": "5rE9cWBK7-cd",
        "outputId": "19bbd3a2-01c5-4ed0-c1e6-eeaeec065962"
      },
      "source": [
        "x_fr_train.head()"
      ],
      "execution_count": null,
      "outputs": [
        {
          "output_type": "execute_result",
          "data": {
            "text/html": [
              "<div>\n",
              "<style scoped>\n",
              "    .dataframe tbody tr th:only-of-type {\n",
              "        vertical-align: middle;\n",
              "    }\n",
              "\n",
              "    .dataframe tbody tr th {\n",
              "        vertical-align: top;\n",
              "    }\n",
              "\n",
              "    .dataframe thead th {\n",
              "        text-align: right;\n",
              "    }\n",
              "</style>\n",
              "<table border=\"1\" class=\"dataframe\">\n",
              "  <thead>\n",
              "    <tr style=\"text-align: right;\">\n",
              "      <th></th>\n",
              "      <th>Primary Property Type - Self Selected</th>\n",
              "      <th>Largest Property Use Type</th>\n",
              "    </tr>\n",
              "  </thead>\n",
              "  <tbody>\n",
              "    <tr>\n",
              "      <th>15743</th>\n",
              "      <td>Multifamily Housing</td>\n",
              "      <td>Multifamily Housing</td>\n",
              "    </tr>\n",
              "    <tr>\n",
              "      <th>4069</th>\n",
              "      <td>Office</td>\n",
              "      <td>Office</td>\n",
              "    </tr>\n",
              "    <tr>\n",
              "      <th>23948</th>\n",
              "      <td>Multifamily Housing</td>\n",
              "      <td>Multifamily Housing</td>\n",
              "    </tr>\n",
              "    <tr>\n",
              "      <th>8975</th>\n",
              "      <td>Multifamily Housing</td>\n",
              "      <td>Multifamily Housing</td>\n",
              "    </tr>\n",
              "    <tr>\n",
              "      <th>15436</th>\n",
              "      <td>Multifamily Housing</td>\n",
              "      <td>Multifamily Housing</td>\n",
              "    </tr>\n",
              "  </tbody>\n",
              "</table>\n",
              "</div>"
            ],
            "text/plain": [
              "      Primary Property Type - Self Selected Largest Property Use Type\n",
              "15743                   Multifamily Housing       Multifamily Housing\n",
              "4069                                 Office                    Office\n",
              "23948                   Multifamily Housing       Multifamily Housing\n",
              "8975                    Multifamily Housing       Multifamily Housing\n",
              "15436                   Multifamily Housing       Multifamily Housing"
            ]
          },
          "metadata": {
            "tags": []
          },
          "execution_count": 31
        }
      ]
    },
    {
      "cell_type": "code",
      "metadata": {
        "colab": {
          "base_uri": "https://localhost:8080/"
        },
        "id": "pmOosIMj8AgP",
        "outputId": "cd5c4062-a9e9-45ff-a37e-a0c46d85c21d"
      },
      "source": [
        "x_fr_train['Primary Property Type - Self Selected'].value_counts()"
      ],
      "execution_count": null,
      "outputs": [
        {
          "output_type": "execute_result",
          "data": {
            "text/plain": [
              "Multifamily Housing                           15177\n",
              "Office                                         1939\n",
              "K-12 School                                    1163\n",
              "Hotel                                           374\n",
              "Residence Hall/Dormitory                        372\n",
              "Non-Refrigerated Warehouse                      312\n",
              "College/University                              196\n",
              "Senior Care Community                           137\n",
              "Retail Store                                    126\n",
              "Distribution Center                             102\n",
              "Worship Facility                                 85\n",
              "Hospital (General Medical & Surgical)            79\n",
              "Supermarket/Grocery Store                        78\n",
              "Medical Office                                   62\n",
              "Mixed Use Property                               28\n",
              "Refrigerated Warehouse                           28\n",
              "Other                                            26\n",
              "Courthouse                                       19\n",
              "Financial Office                                 15\n",
              "Other - Education                                11\n",
              "Wholesale Club/Supercenter                        9\n",
              "Bank Branch                                       8\n",
              "Performing Arts                                   3\n",
              "Data Center                                       3\n",
              "Other - Entertainment/Public Assembly             2\n",
              "Other - Lodging/Residential                       2\n",
              "Convention Center                                 2\n",
              "Food Sales                                        2\n",
              "Fitness Center/Health Club/Gym                    1\n",
              "Outpatient Rehabilitation/Physical Therapy        1\n",
              "Other - Specialty Hospital                        1\n",
              "Name: Primary Property Type - Self Selected, dtype: int64"
            ]
          },
          "metadata": {
            "tags": []
          },
          "execution_count": 32
        }
      ]
    },
    {
      "cell_type": "code",
      "metadata": {
        "colab": {
          "base_uri": "https://localhost:8080/"
        },
        "id": "43mOpWjh8Kb7",
        "outputId": "5d53b73a-e658-4043-e79c-485a39e61213"
      },
      "source": [
        "!pip install category_encoders"
      ],
      "execution_count": null,
      "outputs": [
        {
          "output_type": "stream",
          "text": [
            "Collecting category_encoders\n",
            "\u001b[?25l  Downloading https://files.pythonhosted.org/packages/44/57/fcef41c248701ee62e8325026b90c432adea35555cbc870aff9cfba23727/category_encoders-2.2.2-py2.py3-none-any.whl (80kB)\n",
            "\r\u001b[K     |████                            | 10kB 13.6MB/s eta 0:00:01\r\u001b[K     |████████▏                       | 20kB 19.6MB/s eta 0:00:01\r\u001b[K     |████████████▏                   | 30kB 24.0MB/s eta 0:00:01\r\u001b[K     |████████████████▎               | 40kB 26.2MB/s eta 0:00:01\r\u001b[K     |████████████████████▎           | 51kB 28.3MB/s eta 0:00:01\r\u001b[K     |████████████████████████▍       | 61kB 19.4MB/s eta 0:00:01\r\u001b[K     |████████████████████████████▍   | 71kB 17.5MB/s eta 0:00:01\r\u001b[K     |████████████████████████████████| 81kB 5.6MB/s \n",
            "\u001b[?25hRequirement already satisfied: scipy>=1.0.0 in /usr/local/lib/python3.7/dist-packages (from category_encoders) (1.4.1)\n",
            "Requirement already satisfied: pandas>=0.21.1 in /usr/local/lib/python3.7/dist-packages (from category_encoders) (1.1.5)\n",
            "Requirement already satisfied: patsy>=0.5.1 in /usr/local/lib/python3.7/dist-packages (from category_encoders) (0.5.1)\n",
            "Requirement already satisfied: numpy>=1.14.0 in /usr/local/lib/python3.7/dist-packages (from category_encoders) (1.19.5)\n",
            "Requirement already satisfied: statsmodels>=0.9.0 in /usr/local/lib/python3.7/dist-packages (from category_encoders) (0.10.2)\n",
            "Requirement already satisfied: scikit-learn>=0.20.0 in /usr/local/lib/python3.7/dist-packages (from category_encoders) (0.22.2.post1)\n",
            "Requirement already satisfied: pytz>=2017.2 in /usr/local/lib/python3.7/dist-packages (from pandas>=0.21.1->category_encoders) (2018.9)\n",
            "Requirement already satisfied: python-dateutil>=2.7.3 in /usr/local/lib/python3.7/dist-packages (from pandas>=0.21.1->category_encoders) (2.8.1)\n",
            "Requirement already satisfied: six in /usr/local/lib/python3.7/dist-packages (from patsy>=0.5.1->category_encoders) (1.15.0)\n",
            "Requirement already satisfied: joblib>=0.11 in /usr/local/lib/python3.7/dist-packages (from scikit-learn>=0.20.0->category_encoders) (1.0.1)\n",
            "Installing collected packages: category-encoders\n",
            "Successfully installed category-encoders-2.2.2\n"
          ],
          "name": "stdout"
        }
      ]
    },
    {
      "cell_type": "code",
      "metadata": {
        "id": "jsQYlVFb8Qb1",
        "colab": {
          "base_uri": "https://localhost:8080/"
        },
        "outputId": "8acfeeda-2da8-45ae-a469-351732b07660"
      },
      "source": [
        "from category_encoders.count import CountEncoder\n",
        "\n",
        "ce = CountEncoder(handle_unknown = 1)\n",
        "x_fr_train = ce.fit_transform(x_fr_train)\n",
        "x_fr_test = ce.transform(x_fr_test)"
      ],
      "execution_count": null,
      "outputs": [
        {
          "output_type": "stream",
          "text": [
            "/usr/local/lib/python3.7/dist-packages/statsmodels/tools/_testing.py:19: FutureWarning: pandas.util.testing is deprecated. Use the functions in the public API at pandas.testing instead.\n",
            "  import pandas.util.testing as tm\n"
          ],
          "name": "stderr"
        }
      ]
    },
    {
      "cell_type": "code",
      "metadata": {
        "colab": {
          "base_uri": "https://localhost:8080/",
          "height": 195
        },
        "id": "Bp1u6WXB8WQj",
        "outputId": "5b53a889-f9f8-4e6b-bc39-4522a1d5ed8e"
      },
      "source": [
        "x_fr_train.head()"
      ],
      "execution_count": null,
      "outputs": [
        {
          "output_type": "execute_result",
          "data": {
            "text/html": [
              "<div>\n",
              "<style scoped>\n",
              "    .dataframe tbody tr th:only-of-type {\n",
              "        vertical-align: middle;\n",
              "    }\n",
              "\n",
              "    .dataframe tbody tr th {\n",
              "        vertical-align: top;\n",
              "    }\n",
              "\n",
              "    .dataframe thead th {\n",
              "        text-align: right;\n",
              "    }\n",
              "</style>\n",
              "<table border=\"1\" class=\"dataframe\">\n",
              "  <thead>\n",
              "    <tr style=\"text-align: right;\">\n",
              "      <th></th>\n",
              "      <th>Primary Property Type - Self Selected</th>\n",
              "      <th>Largest Property Use Type</th>\n",
              "    </tr>\n",
              "  </thead>\n",
              "  <tbody>\n",
              "    <tr>\n",
              "      <th>15743</th>\n",
              "      <td>15177</td>\n",
              "      <td>15188</td>\n",
              "    </tr>\n",
              "    <tr>\n",
              "      <th>4069</th>\n",
              "      <td>1939</td>\n",
              "      <td>1976</td>\n",
              "    </tr>\n",
              "    <tr>\n",
              "      <th>23948</th>\n",
              "      <td>15177</td>\n",
              "      <td>15188</td>\n",
              "    </tr>\n",
              "    <tr>\n",
              "      <th>8975</th>\n",
              "      <td>15177</td>\n",
              "      <td>15188</td>\n",
              "    </tr>\n",
              "    <tr>\n",
              "      <th>15436</th>\n",
              "      <td>15177</td>\n",
              "      <td>15188</td>\n",
              "    </tr>\n",
              "  </tbody>\n",
              "</table>\n",
              "</div>"
            ],
            "text/plain": [
              "       Primary Property Type - Self Selected  Largest Property Use Type\n",
              "15743                                  15177                      15188\n",
              "4069                                    1939                       1976\n",
              "23948                                  15177                      15188\n",
              "8975                                   15177                      15188\n",
              "15436                                  15177                      15188"
            ]
          },
          "metadata": {
            "tags": []
          },
          "execution_count": 35
        }
      ]
    },
    {
      "cell_type": "code",
      "metadata": {
        "id": "XKX3NWqX8aYc"
      },
      "source": [
        "# обработаем название всех типов помещений по методике tfidf\n",
        "x_train, x_tf_train = x_train.drop(['List of All Property Use Types at Property'], axis =1), x_train['List of All Property Use Types at Property'].copy()\n",
        "x_test, x_tf_test = x_test.drop(['List of All Property Use Types at Property'], axis =1),  x_test['List of All Property Use Types at Property'].copy()"
      ],
      "execution_count": null,
      "outputs": []
    },
    {
      "cell_type": "code",
      "metadata": {
        "id": "Uh_PaLb39Emj"
      },
      "source": [
        "from sklearn.feature_extraction.text import TfidfVectorizer\n",
        "\n",
        "vec = TfidfVectorizer(max_features = 50)\n",
        "x_tf_train = vec.fit_transform(x_tf_train)\n",
        "x_tf_test = vec.transform(x_tf_test)\n",
        "\n",
        "x_tf_train = pd.DataFrame(x_tf_train.toarray(), columns=vec.get_feature_names())\n",
        "x_tf_test = pd.DataFrame(x_tf_test.toarray(), columns=vec.get_feature_names())"
      ],
      "execution_count": null,
      "outputs": []
    },
    {
      "cell_type": "code",
      "metadata": {
        "colab": {
          "base_uri": "https://localhost:8080/",
          "height": 215
        },
        "id": "3CMjiZ5l9MVH",
        "outputId": "c8936347-2533-4473-96ea-e39f37508089"
      },
      "source": [
        "x_tf_train.head()"
      ],
      "execution_count": null,
      "outputs": [
        {
          "output_type": "execute_result",
          "data": {
            "text/html": [
              "<div>\n",
              "<style scoped>\n",
              "    .dataframe tbody tr th:only-of-type {\n",
              "        vertical-align: middle;\n",
              "    }\n",
              "\n",
              "    .dataframe tbody tr th {\n",
              "        vertical-align: top;\n",
              "    }\n",
              "\n",
              "    .dataframe thead th {\n",
              "        text-align: right;\n",
              "    }\n",
              "</style>\n",
              "<table border=\"1\" class=\"dataframe\">\n",
              "  <thead>\n",
              "    <tr style=\"text-align: right;\">\n",
              "      <th></th>\n",
              "      <th>12</th>\n",
              "      <th>assembly</th>\n",
              "      <th>bank</th>\n",
              "      <th>branch</th>\n",
              "      <th>care</th>\n",
              "      <th>center</th>\n",
              "      <th>clinic</th>\n",
              "      <th>community</th>\n",
              "      <th>data</th>\n",
              "      <th>distribution</th>\n",
              "      <th>dormitory</th>\n",
              "      <th>entertainment</th>\n",
              "      <th>etc</th>\n",
              "      <th>facility</th>\n",
              "      <th>fast</th>\n",
              "      <th>financial</th>\n",
              "      <th>food</th>\n",
              "      <th>gas</th>\n",
              "      <th>general</th>\n",
              "      <th>grocery</th>\n",
              "      <th>hall</th>\n",
              "      <th>health</th>\n",
              "      <th>hospital</th>\n",
              "      <th>hotel</th>\n",
              "      <th>housing</th>\n",
              "      <th>medical</th>\n",
              "      <th>multifamily</th>\n",
              "      <th>non</th>\n",
              "      <th>office</th>\n",
              "      <th>other</th>\n",
              "      <th>outpatient</th>\n",
              "      <th>parking</th>\n",
              "      <th>pool</th>\n",
              "      <th>public</th>\n",
              "      <th>refrigerated</th>\n",
              "      <th>residence</th>\n",
              "      <th>restaurant</th>\n",
              "      <th>retail</th>\n",
              "      <th>school</th>\n",
              "      <th>senior</th>\n",
              "      <th>services</th>\n",
              "      <th>station</th>\n",
              "      <th>store</th>\n",
              "      <th>supermarket</th>\n",
              "      <th>surgical</th>\n",
              "      <th>swimming</th>\n",
              "      <th>urgent</th>\n",
              "      <th>warehouse</th>\n",
              "      <th>without</th>\n",
              "      <th>worship</th>\n",
              "    </tr>\n",
              "  </thead>\n",
              "  <tbody>\n",
              "    <tr>\n",
              "      <th>0</th>\n",
              "      <td>0.0</td>\n",
              "      <td>0.0</td>\n",
              "      <td>0.0</td>\n",
              "      <td>0.0</td>\n",
              "      <td>0.0</td>\n",
              "      <td>0.000000</td>\n",
              "      <td>0.0</td>\n",
              "      <td>0.0</td>\n",
              "      <td>0.0</td>\n",
              "      <td>0.0</td>\n",
              "      <td>0.000000</td>\n",
              "      <td>0.0</td>\n",
              "      <td>0.0</td>\n",
              "      <td>0.0</td>\n",
              "      <td>0.0</td>\n",
              "      <td>0.0</td>\n",
              "      <td>0.0</td>\n",
              "      <td>0.0</td>\n",
              "      <td>0.0</td>\n",
              "      <td>0.0</td>\n",
              "      <td>0.000000</td>\n",
              "      <td>0.0</td>\n",
              "      <td>0.0</td>\n",
              "      <td>0.0</td>\n",
              "      <td>0.707107</td>\n",
              "      <td>0.0</td>\n",
              "      <td>0.707107</td>\n",
              "      <td>0.0</td>\n",
              "      <td>0.000000</td>\n",
              "      <td>0.0</td>\n",
              "      <td>0.0</td>\n",
              "      <td>0.000000</td>\n",
              "      <td>0.0</td>\n",
              "      <td>0.0</td>\n",
              "      <td>0.0</td>\n",
              "      <td>0.000000</td>\n",
              "      <td>0.0</td>\n",
              "      <td>0.0</td>\n",
              "      <td>0.0</td>\n",
              "      <td>0.0</td>\n",
              "      <td>0.0</td>\n",
              "      <td>0.0</td>\n",
              "      <td>0.0</td>\n",
              "      <td>0.0</td>\n",
              "      <td>0.0</td>\n",
              "      <td>0.0</td>\n",
              "      <td>0.0</td>\n",
              "      <td>0.0</td>\n",
              "      <td>0.0</td>\n",
              "      <td>0.0</td>\n",
              "    </tr>\n",
              "    <tr>\n",
              "      <th>1</th>\n",
              "      <td>0.0</td>\n",
              "      <td>0.0</td>\n",
              "      <td>0.0</td>\n",
              "      <td>0.0</td>\n",
              "      <td>0.0</td>\n",
              "      <td>0.000000</td>\n",
              "      <td>0.0</td>\n",
              "      <td>0.0</td>\n",
              "      <td>0.0</td>\n",
              "      <td>0.0</td>\n",
              "      <td>0.503731</td>\n",
              "      <td>0.0</td>\n",
              "      <td>0.0</td>\n",
              "      <td>0.0</td>\n",
              "      <td>0.0</td>\n",
              "      <td>0.0</td>\n",
              "      <td>0.0</td>\n",
              "      <td>0.0</td>\n",
              "      <td>0.0</td>\n",
              "      <td>0.0</td>\n",
              "      <td>0.500869</td>\n",
              "      <td>0.0</td>\n",
              "      <td>0.0</td>\n",
              "      <td>0.0</td>\n",
              "      <td>0.000000</td>\n",
              "      <td>0.0</td>\n",
              "      <td>0.000000</td>\n",
              "      <td>0.0</td>\n",
              "      <td>0.311168</td>\n",
              "      <td>0.0</td>\n",
              "      <td>0.0</td>\n",
              "      <td>0.380544</td>\n",
              "      <td>0.0</td>\n",
              "      <td>0.0</td>\n",
              "      <td>0.0</td>\n",
              "      <td>0.503731</td>\n",
              "      <td>0.0</td>\n",
              "      <td>0.0</td>\n",
              "      <td>0.0</td>\n",
              "      <td>0.0</td>\n",
              "      <td>0.0</td>\n",
              "      <td>0.0</td>\n",
              "      <td>0.0</td>\n",
              "      <td>0.0</td>\n",
              "      <td>0.0</td>\n",
              "      <td>0.0</td>\n",
              "      <td>0.0</td>\n",
              "      <td>0.0</td>\n",
              "      <td>0.0</td>\n",
              "      <td>0.0</td>\n",
              "    </tr>\n",
              "    <tr>\n",
              "      <th>2</th>\n",
              "      <td>0.0</td>\n",
              "      <td>0.0</td>\n",
              "      <td>0.0</td>\n",
              "      <td>0.0</td>\n",
              "      <td>0.0</td>\n",
              "      <td>0.000000</td>\n",
              "      <td>0.0</td>\n",
              "      <td>0.0</td>\n",
              "      <td>0.0</td>\n",
              "      <td>0.0</td>\n",
              "      <td>0.000000</td>\n",
              "      <td>0.0</td>\n",
              "      <td>0.0</td>\n",
              "      <td>0.0</td>\n",
              "      <td>0.0</td>\n",
              "      <td>0.0</td>\n",
              "      <td>0.0</td>\n",
              "      <td>0.0</td>\n",
              "      <td>0.0</td>\n",
              "      <td>0.0</td>\n",
              "      <td>0.000000</td>\n",
              "      <td>0.0</td>\n",
              "      <td>0.0</td>\n",
              "      <td>0.0</td>\n",
              "      <td>0.707107</td>\n",
              "      <td>0.0</td>\n",
              "      <td>0.707107</td>\n",
              "      <td>0.0</td>\n",
              "      <td>0.000000</td>\n",
              "      <td>0.0</td>\n",
              "      <td>0.0</td>\n",
              "      <td>0.000000</td>\n",
              "      <td>0.0</td>\n",
              "      <td>0.0</td>\n",
              "      <td>0.0</td>\n",
              "      <td>0.000000</td>\n",
              "      <td>0.0</td>\n",
              "      <td>0.0</td>\n",
              "      <td>0.0</td>\n",
              "      <td>0.0</td>\n",
              "      <td>0.0</td>\n",
              "      <td>0.0</td>\n",
              "      <td>0.0</td>\n",
              "      <td>0.0</td>\n",
              "      <td>0.0</td>\n",
              "      <td>0.0</td>\n",
              "      <td>0.0</td>\n",
              "      <td>0.0</td>\n",
              "      <td>0.0</td>\n",
              "      <td>0.0</td>\n",
              "    </tr>\n",
              "    <tr>\n",
              "      <th>3</th>\n",
              "      <td>0.0</td>\n",
              "      <td>0.0</td>\n",
              "      <td>0.0</td>\n",
              "      <td>0.0</td>\n",
              "      <td>0.0</td>\n",
              "      <td>0.848005</td>\n",
              "      <td>0.0</td>\n",
              "      <td>0.0</td>\n",
              "      <td>0.0</td>\n",
              "      <td>0.0</td>\n",
              "      <td>0.000000</td>\n",
              "      <td>0.0</td>\n",
              "      <td>0.0</td>\n",
              "      <td>0.0</td>\n",
              "      <td>0.0</td>\n",
              "      <td>0.0</td>\n",
              "      <td>0.0</td>\n",
              "      <td>0.0</td>\n",
              "      <td>0.0</td>\n",
              "      <td>0.0</td>\n",
              "      <td>0.000000</td>\n",
              "      <td>0.0</td>\n",
              "      <td>0.0</td>\n",
              "      <td>0.0</td>\n",
              "      <td>0.191667</td>\n",
              "      <td>0.0</td>\n",
              "      <td>0.191667</td>\n",
              "      <td>0.0</td>\n",
              "      <td>0.455428</td>\n",
              "      <td>0.0</td>\n",
              "      <td>0.0</td>\n",
              "      <td>0.000000</td>\n",
              "      <td>0.0</td>\n",
              "      <td>0.0</td>\n",
              "      <td>0.0</td>\n",
              "      <td>0.000000</td>\n",
              "      <td>0.0</td>\n",
              "      <td>0.0</td>\n",
              "      <td>0.0</td>\n",
              "      <td>0.0</td>\n",
              "      <td>0.0</td>\n",
              "      <td>0.0</td>\n",
              "      <td>0.0</td>\n",
              "      <td>0.0</td>\n",
              "      <td>0.0</td>\n",
              "      <td>0.0</td>\n",
              "      <td>0.0</td>\n",
              "      <td>0.0</td>\n",
              "      <td>0.0</td>\n",
              "      <td>0.0</td>\n",
              "    </tr>\n",
              "    <tr>\n",
              "      <th>4</th>\n",
              "      <td>0.0</td>\n",
              "      <td>0.0</td>\n",
              "      <td>0.0</td>\n",
              "      <td>0.0</td>\n",
              "      <td>0.0</td>\n",
              "      <td>0.000000</td>\n",
              "      <td>0.0</td>\n",
              "      <td>0.0</td>\n",
              "      <td>0.0</td>\n",
              "      <td>0.0</td>\n",
              "      <td>0.000000</td>\n",
              "      <td>0.0</td>\n",
              "      <td>0.0</td>\n",
              "      <td>0.0</td>\n",
              "      <td>0.0</td>\n",
              "      <td>0.0</td>\n",
              "      <td>0.0</td>\n",
              "      <td>0.0</td>\n",
              "      <td>0.0</td>\n",
              "      <td>0.0</td>\n",
              "      <td>0.000000</td>\n",
              "      <td>0.0</td>\n",
              "      <td>0.0</td>\n",
              "      <td>0.0</td>\n",
              "      <td>0.707107</td>\n",
              "      <td>0.0</td>\n",
              "      <td>0.707107</td>\n",
              "      <td>0.0</td>\n",
              "      <td>0.000000</td>\n",
              "      <td>0.0</td>\n",
              "      <td>0.0</td>\n",
              "      <td>0.000000</td>\n",
              "      <td>0.0</td>\n",
              "      <td>0.0</td>\n",
              "      <td>0.0</td>\n",
              "      <td>0.000000</td>\n",
              "      <td>0.0</td>\n",
              "      <td>0.0</td>\n",
              "      <td>0.0</td>\n",
              "      <td>0.0</td>\n",
              "      <td>0.0</td>\n",
              "      <td>0.0</td>\n",
              "      <td>0.0</td>\n",
              "      <td>0.0</td>\n",
              "      <td>0.0</td>\n",
              "      <td>0.0</td>\n",
              "      <td>0.0</td>\n",
              "      <td>0.0</td>\n",
              "      <td>0.0</td>\n",
              "      <td>0.0</td>\n",
              "    </tr>\n",
              "  </tbody>\n",
              "</table>\n",
              "</div>"
            ],
            "text/plain": [
              "    12  assembly  bank  branch  ...  urgent  warehouse  without  worship\n",
              "0  0.0       0.0   0.0     0.0  ...     0.0        0.0      0.0      0.0\n",
              "1  0.0       0.0   0.0     0.0  ...     0.0        0.0      0.0      0.0\n",
              "2  0.0       0.0   0.0     0.0  ...     0.0        0.0      0.0      0.0\n",
              "3  0.0       0.0   0.0     0.0  ...     0.0        0.0      0.0      0.0\n",
              "4  0.0       0.0   0.0     0.0  ...     0.0        0.0      0.0      0.0\n",
              "\n",
              "[5 rows x 50 columns]"
            ]
          },
          "metadata": {
            "tags": []
          },
          "execution_count": 38
        }
      ]
    },
    {
      "cell_type": "code",
      "metadata": {
        "id": "gP2lqjpD9Osy"
      },
      "source": [
        "# обрабатывать переменную с адресом окзалось затратно по времени, поэтому мы ее удаляем\n",
        "x_train = x_train.drop('Address 1 (self-reported)', axis = 1)\n",
        "x_test = x_test.drop('Address 1 (self-reported)', axis = 1)"
      ],
      "execution_count": null,
      "outputs": []
    },
    {
      "cell_type": "code",
      "metadata": {
        "id": "N_z_06qH9jBV"
      },
      "source": [
        "# в переменной x_train остались только числовые фичи, прошкалируем их \n",
        "from sklearn.preprocessing import MinMaxScaler\n",
        "\n",
        "mc = MinMaxScaler()\n",
        "cols = x_train.columns\n",
        "x_train = mc.fit_transform(x_train)\n",
        "x_train = pd.DataFrame(x_train, columns = cols)\n",
        "x_test= mc.transform(x_test)\n",
        "x_test = pd.DataFrame(x_test, columns = cols)"
      ],
      "execution_count": null,
      "outputs": []
    },
    {
      "cell_type": "code",
      "metadata": {
        "id": "547JPwvT9tAr"
      },
      "source": [
        "# объединим старые числовые переменные и новые фичи (тоже теперь числовые)\n",
        "x_train = pd.concat([x_train.reset_index(drop=True),\n",
        "                     x_fr_train.reset_index(drop=True),\n",
        "                     x_tf_train.reset_index(drop=True),\n",
        "                     x_ohe_train.reset_index(drop=True)], \n",
        "                    axis = 1, ignore_index=False)\n",
        "y_train = y_train.reset_index(drop=True)\n",
        "\n",
        "x_test = pd.concat([x_test.reset_index(drop=True),\n",
        "                     x_fr_test.reset_index(drop=True),\n",
        "                     x_tf_test.reset_index(drop=True),\n",
        "                     x_ohe_test.reset_index(drop=True)], \n",
        "                    axis = 1, ignore_index=False)\n",
        "y_test = y_test.reset_index(drop=True)"
      ],
      "execution_count": null,
      "outputs": []
    },
    {
      "cell_type": "code",
      "metadata": {
        "colab": {
          "base_uri": "https://localhost:8080/"
        },
        "id": "1NVTHSIk94l3",
        "outputId": "251155fd-2c4b-4fdf-e6c0-88ebc47088b9"
      },
      "source": [
        "# еще раз посмотрим на пропущенные значения\n",
        "(x_train.isna().sum()/len(x_train)).sort_values(ascending = False)"
      ],
      "execution_count": null,
      "outputs": [
        {
          "output_type": "execute_result",
          "data": {
            "text/plain": [
              "Water Use Intensity (All Water Sources) (gal/ft²)             0.437853\n",
              "Water Use (All Water Sources) (kgal)                          0.437853\n",
              "Weather Normalized Site Natural Gas Use (therms)              0.115258\n",
              "Weather Normalized Site Natural Gas Intensity (therms/ft²)    0.115258\n",
              "Weather Normalized Source EUI (kBtu/ft²)                      0.106320\n",
              "                                                                ...   \n",
              "outpatient                                                    0.000000\n",
              "parking                                                       0.000000\n",
              "pool                                                          0.000000\n",
              "public                                                        0.000000\n",
              "Self-Reported Gross Floor Area (ft²)                          0.000000\n",
              "Length: 79, dtype: float64"
            ]
          },
          "metadata": {
            "tags": []
          },
          "execution_count": 42
        }
      ]
    },
    {
      "cell_type": "code",
      "metadata": {
        "id": "x0dxi_KD98Y6"
      },
      "source": [
        "# заменим пропущенные значения в исходных числовых фичах по методу k-ближайших соседей\n",
        "from sklearn.impute import KNNImputer\n",
        "\n",
        "knn = KNNImputer()\n",
        "cols = x_train.columns\n",
        "x_train = knn.fit_transform(x_train)\n",
        "x_train = pd.DataFrame(x_train, columns = cols)\n",
        "x_test= knn.transform(x_test)\n",
        "x_test = pd.DataFrame(x_test, columns = cols)"
      ],
      "execution_count": null,
      "outputs": []
    },
    {
      "cell_type": "code",
      "metadata": {
        "colab": {
          "base_uri": "https://localhost:8080/"
        },
        "id": "gcpq0IWS-GOw",
        "outputId": "f7329375-678a-4a10-ea53-63a9a1ce6d8b"
      },
      "source": [
        "(x_train.isna().sum()/len(x_train)).sort_values(ascending = False)"
      ],
      "execution_count": null,
      "outputs": [
        {
          "output_type": "execute_result",
          "data": {
            "text/plain": [
              "x0_staten island                         0.0\n",
              "center                                   0.0\n",
              "Primary Property Type - Self Selected    0.0\n",
              "Largest Property Use Type                0.0\n",
              "12                                       0.0\n",
              "                                        ... \n",
              "outpatient                               0.0\n",
              "parking                                  0.0\n",
              "pool                                     0.0\n",
              "public                                   0.0\n",
              "Self-Reported Gross Floor Area (ft²)     0.0\n",
              "Length: 79, dtype: float64"
            ]
          },
          "metadata": {
            "tags": []
          },
          "execution_count": 44
        }
      ]
    },
    {
      "cell_type": "markdown",
      "metadata": {
        "id": "zY-agSdmPXrB"
      },
      "source": [
        "5. Обучить регрессионную модель и выявить показатели качества модели на обучающей и тестовой выборке."
      ]
    },
    {
      "cell_type": "code",
      "metadata": {
        "colab": {
          "base_uri": "https://localhost:8080/"
        },
        "id": "5iyLLNO5-vCC",
        "outputId": "d3efe27a-c7d6-4015-95eb-807c7c51165b"
      },
      "source": [
        "from sklearn.ensemble import RandomForestRegressor\n",
        "\n",
        "rf = RandomForestRegressor(n_estimators = 500, max_depth = 5, random_state = 42)\n",
        "rf.fit(x_train, y_train)"
      ],
      "execution_count": null,
      "outputs": [
        {
          "output_type": "execute_result",
          "data": {
            "text/plain": [
              "RandomForestRegressor(bootstrap=True, ccp_alpha=0.0, criterion='mse',\n",
              "                      max_depth=5, max_features='auto', max_leaf_nodes=None,\n",
              "                      max_samples=None, min_impurity_decrease=0.0,\n",
              "                      min_impurity_split=None, min_samples_leaf=1,\n",
              "                      min_samples_split=2, min_weight_fraction_leaf=0.0,\n",
              "                      n_estimators=500, n_jobs=None, oob_score=False,\n",
              "                      random_state=42, verbose=0, warm_start=False)"
            ]
          },
          "metadata": {
            "tags": []
          },
          "execution_count": 45
        }
      ]
    },
    {
      "cell_type": "code",
      "metadata": {
        "id": "N-9-OumI-zWI"
      },
      "source": [
        "from sklearn.metrics import mean_absolute_error, mean_squared_error, r2_score\n",
        "\n",
        "pred_train = rf.predict(x_train)\n",
        "pred_test = rf.predict(x_test)"
      ],
      "execution_count": null,
      "outputs": []
    },
    {
      "cell_type": "code",
      "metadata": {
        "colab": {
          "base_uri": "https://localhost:8080/"
        },
        "id": "oCx_-657_ZwO",
        "outputId": "e07d0465-a2ce-49d5-b429-0d5241a3c648"
      },
      "source": [
        "print(\"Средняя абсолютная ошибка (MAE) модели на обучающей выборке {}\".format(mean_absolute_error(y_train, pred_train)))\n",
        "print(\"Средняя абсолютная ошибка (MAE) модели на тестовой выборке {}\".format(mean_absolute_error(y_test, pred_test)))\n",
        "\n",
        "print(\"Средняя квадратическая ошибка (MSE) модели на обучающей выборке {}\".format(mean_squared_error(y_train, pred_train)))\n",
        "print(\"Средняя квадратическая ошибка (MSE) модели на тестовой выборке {}\".format(mean_squared_error(y_test, pred_test)))\n",
        "\n",
        "print(\"Коэффициент детерминации (R^2) модели на обучающей выборке {}\".format(r2_score(y_train, pred_train)))\n",
        "print(\"Коэффициент детерминации (R^2) модели на тестовой выборке {}\".format(r2_score(y_test, pred_test)))"
      ],
      "execution_count": null,
      "outputs": [
        {
          "output_type": "stream",
          "text": [
            "Средняя абсолютная ошибка (MAE) модели на обучающей выборке 10.613263693222782\n",
            "Средняя абсолютная ошибка (MAE) модели на тестовой выборке 10.75009917969335\n",
            "Средняя квадратическая ошибка (MSE) модели на обучающей выборке 206.31763848268895\n",
            "Средняя квадратическая ошибка (MSE) модели на тестовой выборке 210.70658033299208\n",
            "Коэффициент детерминации (R^2) модели на обучающей выборке 0.8056944311935477\n",
            "Коэффициент детерминации (R^2) модели на тестовой выборке 0.80079081144989\n"
          ],
          "name": "stdout"
        }
      ]
    },
    {
      "cell_type": "markdown",
      "metadata": {
        "id": "YIVpsBfLPc2N"
      },
      "source": [
        "Коэффициенты детерминации (R^2) модели на обучающей и тестовой выборках практически идентичны, что говорит о достаточной степени обучения модели. При этом, последний показатель чуть выше 0.8, что также свидетельствует о довольно высокой точности модели. Тем не менее, мы постараемся достичь лучших показателей"
      ]
    },
    {
      "cell_type": "code",
      "metadata": {
        "colab": {
          "base_uri": "https://localhost:8080/",
          "height": 513
        },
        "id": "2jE9OfDmaQ_m",
        "outputId": "b6da20eb-e019-4d87-bad8-42e31110ba02"
      },
      "source": [
        "# построим график точности модели\n",
        "\n",
        "plt.figure(figsize=(10, 7))\n",
        "plt.scatter(y_test, pred_test)\n",
        "plt.plot([0, 100], [0, 100], '--k', color='red', linewidth=3)\n",
        "plt.xlabel('True ENERGY STAR Score')\n",
        "plt.ylabel('Predicted ENERGY STAR Score')\n",
        "plt.tight_layout()"
      ],
      "execution_count": null,
      "outputs": [
        {
          "output_type": "display_data",
          "data": {
            "image/png": "[encoded data removed]",
            "text/plain": [
              "<Figure size 720x504 with 1 Axes>"
            ]
          },
          "metadata": {
            "tags": [],
            "needs_background": "light"
          }
        }
      ]
    },
    {
      "cell_type": "code",
      "metadata": {
        "colab": {
          "base_uri": "https://localhost:8080/"
        },
        "id": "y0I1twCNaWsT",
        "outputId": "acc08f75-5f60-4c40-ee9a-7b629613b9ff"
      },
      "source": [
        "# выведем рейтинг важности признаков с учетом их взаимодействий\n",
        "\n",
        "feature_scores = pd.Series(rf.feature_importances_, index=x_train.columns).sort_values(ascending=False)\n",
        "feature_scores.head(30)"
      ],
      "execution_count": null,
      "outputs": [
        {
          "output_type": "execute_result",
          "data": {
            "text/plain": [
              "Source EUI (kBtu/ft²)                                         0.763957\n",
              "Site EUI (kBtu/ft²)                                           0.147404\n",
              "Largest Property Use Type                                     0.031764\n",
              "housing                                                       0.016145\n",
              "multifamily                                                   0.015608\n",
              "Primary Property Type - Self Selected                         0.006975\n",
              "office                                                        0.003002\n",
              "Largest Property Use Type - Gross Floor Area (ft²)            0.002678\n",
              "Weather Normalized Site Electricity Intensity (kWh/ft²)       0.002566\n",
              "non                                                           0.002323\n",
              "warehouse                                                     0.001254\n",
              "refrigerated                                                  0.001070\n",
              "Indirect GHG Emissions (Metric Tons CO2e)                     0.001048\n",
              "Self-Reported Gross Floor Area (ft²)                          0.000984\n",
              "Weather Normalized Source EUI (kBtu/ft²)                      0.000940\n",
              "Total GHG Emissions (Metric Tons CO2e)                        0.000355\n",
              "Water Use (All Water Sources) (kgal)                          0.000295\n",
              "Weather Normalized Site EUI (kBtu/ft²)                        0.000159\n",
              "Weather Normalized Site Electricity (kWh)                     0.000143\n",
              "store                                                         0.000112\n",
              "school                                                        0.000111\n",
              "Direct GHG Emissions (Metric Tons CO2e)                       0.000104\n",
              "Year Built                                                    0.000103\n",
              "Water Use Intensity (All Water Sources) (gal/ft²)             0.000094\n",
              "Electricity Use - Grid Purchase (kWh)                         0.000085\n",
              "retail                                                        0.000065\n",
              "Electricity Use - Grid Purchase (kBtu)                        0.000063\n",
              "worship                                                       0.000062\n",
              "Weather Normalized Site Natural Gas Intensity (therms/ft²)    0.000057\n",
              "Weather Normalized Site Natural Gas Use (therms)              0.000056\n",
              "dtype: float64"
            ]
          },
          "metadata": {
            "tags": []
          },
          "execution_count": 49
        }
      ]
    },
    {
      "cell_type": "markdown",
      "metadata": {
        "id": "ah2bbaMSdYv4"
      },
      "source": [
        "После построения предиктивной модели мы видим, что больше всего на Энергоэффективность здания (ENERGY STAR Score) оказывает влияние Интенсивность использования энергии источника, кБТЕ/фут² (Source EUI, kBtu/ft²) - 76.69%. При этом, зависимость от расмотренного нами ранее показателя Электроэнергия на объекте, нормализованная по погодным условиям кВтч/фут² (Weather Normalized Site Electricity Intensity, kWh/ft²) несущественна и составляет всего 0.26%"
      ]
    },
    {
      "cell_type": "markdown",
      "metadata": {
        "id": "bDOAmUiFRFjf"
      },
      "source": [
        "6. Реализовать методы feature engineering с целью повышения метрик качества модели. "
      ]
    },
    {
      "cell_type": "code",
      "metadata": {
        "id": "9ldSZkWy_gHk"
      },
      "source": [
        "# сгенерим взаимодествия между столбцами\n",
        "from sklearn.preprocessing import PolynomialFeatures\n",
        "\n",
        "poly = PolynomialFeatures(interaction_only=True,include_bias = False)\n",
        "x_train_2 = poly.fit_transform(x_train)\n",
        "x_train_2 = pd.DataFrame(x_train_2, columns = poly.get_feature_names(x_train.columns))\n",
        "x_test_2 = poly.fit_transform(x_test)\n",
        "x_test_2 = pd.DataFrame(x_test_2, columns = poly.get_feature_names(x_test.columns))"
      ],
      "execution_count": null,
      "outputs": []
    },
    {
      "cell_type": "code",
      "metadata": {
        "colab": {
          "base_uri": "https://localhost:8080/",
          "height": 345
        },
        "id": "FMOOjifHRXrT",
        "outputId": "6d29f03a-1adc-4459-d76a-f301e4bb97c8"
      },
      "source": [
        "x_train_2.head()"
      ],
      "execution_count": null,
      "outputs": [
        {
          "output_type": "execute_result",
          "data": {
            "text/html": [
              "<div>\n",
              "<style scoped>\n",
              "    .dataframe tbody tr th:only-of-type {\n",
              "        vertical-align: middle;\n",
              "    }\n",
              "\n",
              "    .dataframe tbody tr th {\n",
              "        vertical-align: top;\n",
              "    }\n",
              "\n",
              "    .dataframe thead th {\n",
              "        text-align: right;\n",
              "    }\n",
              "</style>\n",
              "<table border=\"1\" class=\"dataframe\">\n",
              "  <thead>\n",
              "    <tr style=\"text-align: right;\">\n",
              "      <th></th>\n",
              "      <th>Self-Reported Gross Floor Area (ft²)</th>\n",
              "      <th>Largest Property Use Type - Gross Floor Area (ft²)</th>\n",
              "      <th>Year Built</th>\n",
              "      <th>Number of Buildings</th>\n",
              "      <th>Occupancy</th>\n",
              "      <th>Source EUI (kBtu/ft²)</th>\n",
              "      <th>Weather Normalized Source EUI (kBtu/ft²)</th>\n",
              "      <th>Site EUI (kBtu/ft²)</th>\n",
              "      <th>Weather Normalized Site EUI (kBtu/ft²)</th>\n",
              "      <th>Weather Normalized Site Electricity Intensity (kWh/ft²)</th>\n",
              "      <th>Weather Normalized Site Natural Gas Intensity (therms/ft²)</th>\n",
              "      <th>Natural Gas Use (kBtu)</th>\n",
              "      <th>Weather Normalized Site Natural Gas Use (therms)</th>\n",
              "      <th>Electricity Use - Grid Purchase (kBtu)</th>\n",
              "      <th>Electricity Use - Grid Purchase (kWh)</th>\n",
              "      <th>Weather Normalized Site Electricity (kWh)</th>\n",
              "      <th>Total GHG Emissions (Metric Tons CO2e)</th>\n",
              "      <th>Direct GHG Emissions (Metric Tons CO2e)</th>\n",
              "      <th>Indirect GHG Emissions (Metric Tons CO2e)</th>\n",
              "      <th>Water Use (All Water Sources) (kgal)</th>\n",
              "      <th>Water Use Intensity (All Water Sources) (gal/ft²)</th>\n",
              "      <th>Primary Property Type - Self Selected</th>\n",
              "      <th>Largest Property Use Type</th>\n",
              "      <th>12</th>\n",
              "      <th>assembly</th>\n",
              "      <th>bank</th>\n",
              "      <th>branch</th>\n",
              "      <th>care</th>\n",
              "      <th>center</th>\n",
              "      <th>clinic</th>\n",
              "      <th>community</th>\n",
              "      <th>data</th>\n",
              "      <th>distribution</th>\n",
              "      <th>dormitory</th>\n",
              "      <th>entertainment</th>\n",
              "      <th>etc</th>\n",
              "      <th>facility</th>\n",
              "      <th>fast</th>\n",
              "      <th>financial</th>\n",
              "      <th>food</th>\n",
              "      <th>...</th>\n",
              "      <th>urgent x0_manhattan</th>\n",
              "      <th>urgent x0_patchogue</th>\n",
              "      <th>urgent x0_queens</th>\n",
              "      <th>urgent x0_staten island</th>\n",
              "      <th>warehouse without</th>\n",
              "      <th>warehouse worship</th>\n",
              "      <th>warehouse x0_bronx</th>\n",
              "      <th>warehouse x0_brooklyn</th>\n",
              "      <th>warehouse x0_manhattan</th>\n",
              "      <th>warehouse x0_patchogue</th>\n",
              "      <th>warehouse x0_queens</th>\n",
              "      <th>warehouse x0_staten island</th>\n",
              "      <th>without worship</th>\n",
              "      <th>without x0_bronx</th>\n",
              "      <th>without x0_brooklyn</th>\n",
              "      <th>without x0_manhattan</th>\n",
              "      <th>without x0_patchogue</th>\n",
              "      <th>without x0_queens</th>\n",
              "      <th>without x0_staten island</th>\n",
              "      <th>worship x0_bronx</th>\n",
              "      <th>worship x0_brooklyn</th>\n",
              "      <th>worship x0_manhattan</th>\n",
              "      <th>worship x0_patchogue</th>\n",
              "      <th>worship x0_queens</th>\n",
              "      <th>worship x0_staten island</th>\n",
              "      <th>x0_bronx x0_brooklyn</th>\n",
              "      <th>x0_bronx x0_manhattan</th>\n",
              "      <th>x0_bronx x0_patchogue</th>\n",
              "      <th>x0_bronx x0_queens</th>\n",
              "      <th>x0_bronx x0_staten island</th>\n",
              "      <th>x0_brooklyn x0_manhattan</th>\n",
              "      <th>x0_brooklyn x0_patchogue</th>\n",
              "      <th>x0_brooklyn x0_queens</th>\n",
              "      <th>x0_brooklyn x0_staten island</th>\n",
              "      <th>x0_manhattan x0_patchogue</th>\n",
              "      <th>x0_manhattan x0_queens</th>\n",
              "      <th>x0_manhattan x0_staten island</th>\n",
              "      <th>x0_patchogue x0_queens</th>\n",
              "      <th>x0_patchogue x0_staten island</th>\n",
              "      <th>x0_queens x0_staten island</th>\n",
              "    </tr>\n",
              "  </thead>\n",
              "  <tbody>\n",
              "    <tr>\n",
              "      <th>0</th>\n",
              "      <td>0.010688</td>\n",
              "      <td>0.010688</td>\n",
              "      <td>0.775656</td>\n",
              "      <td>0.006211</td>\n",
              "      <td>0.95</td>\n",
              "      <td>0.000468</td>\n",
              "      <td>0.000503</td>\n",
              "      <td>0.000385</td>\n",
              "      <td>0.000416</td>\n",
              "      <td>0.010885</td>\n",
              "      <td>0.000388</td>\n",
              "      <td>0.000536</td>\n",
              "      <td>0.000584</td>\n",
              "      <td>0.003155</td>\n",
              "      <td>0.003155</td>\n",
              "      <td>0.003295</td>\n",
              "      <td>0.000475</td>\n",
              "      <td>0.000536</td>\n",
              "      <td>0.018549</td>\n",
              "      <td>0.001850</td>\n",
              "      <td>0.001207</td>\n",
              "      <td>15177.0</td>\n",
              "      <td>15188.0</td>\n",
              "      <td>0.0</td>\n",
              "      <td>0.0</td>\n",
              "      <td>0.0</td>\n",
              "      <td>0.0</td>\n",
              "      <td>0.0</td>\n",
              "      <td>0.000000</td>\n",
              "      <td>0.0</td>\n",
              "      <td>0.0</td>\n",
              "      <td>0.0</td>\n",
              "      <td>0.0</td>\n",
              "      <td>0.000000</td>\n",
              "      <td>0.0</td>\n",
              "      <td>0.0</td>\n",
              "      <td>0.0</td>\n",
              "      <td>0.0</td>\n",
              "      <td>0.0</td>\n",
              "      <td>0.0</td>\n",
              "      <td>...</td>\n",
              "      <td>0.0</td>\n",
              "      <td>0.0</td>\n",
              "      <td>0.0</td>\n",
              "      <td>0.0</td>\n",
              "      <td>0.0</td>\n",
              "      <td>0.0</td>\n",
              "      <td>0.0</td>\n",
              "      <td>0.0</td>\n",
              "      <td>0.0</td>\n",
              "      <td>0.0</td>\n",
              "      <td>0.0</td>\n",
              "      <td>0.0</td>\n",
              "      <td>0.0</td>\n",
              "      <td>0.0</td>\n",
              "      <td>0.0</td>\n",
              "      <td>0.0</td>\n",
              "      <td>0.0</td>\n",
              "      <td>0.0</td>\n",
              "      <td>0.0</td>\n",
              "      <td>0.0</td>\n",
              "      <td>0.0</td>\n",
              "      <td>0.0</td>\n",
              "      <td>0.0</td>\n",
              "      <td>0.0</td>\n",
              "      <td>0.0</td>\n",
              "      <td>0.0</td>\n",
              "      <td>0.0</td>\n",
              "      <td>0.0</td>\n",
              "      <td>0.0</td>\n",
              "      <td>0.0</td>\n",
              "      <td>0.0</td>\n",
              "      <td>0.0</td>\n",
              "      <td>0.0</td>\n",
              "      <td>0.0</td>\n",
              "      <td>0.0</td>\n",
              "      <td>0.0</td>\n",
              "      <td>0.0</td>\n",
              "      <td>0.0</td>\n",
              "      <td>0.0</td>\n",
              "      <td>0.0</td>\n",
              "    </tr>\n",
              "    <tr>\n",
              "      <th>1</th>\n",
              "      <td>0.037718</td>\n",
              "      <td>0.026043</td>\n",
              "      <td>0.930788</td>\n",
              "      <td>0.006211</td>\n",
              "      <td>1.00</td>\n",
              "      <td>0.001305</td>\n",
              "      <td>0.001320</td>\n",
              "      <td>0.000602</td>\n",
              "      <td>0.000619</td>\n",
              "      <td>0.070225</td>\n",
              "      <td>0.000194</td>\n",
              "      <td>0.001415</td>\n",
              "      <td>0.001479</td>\n",
              "      <td>0.072581</td>\n",
              "      <td>0.072581</td>\n",
              "      <td>0.072764</td>\n",
              "      <td>0.003545</td>\n",
              "      <td>0.000000</td>\n",
              "      <td>0.021939</td>\n",
              "      <td>0.005522</td>\n",
              "      <td>0.001039</td>\n",
              "      <td>1939.0</td>\n",
              "      <td>1976.0</td>\n",
              "      <td>0.0</td>\n",
              "      <td>0.0</td>\n",
              "      <td>0.0</td>\n",
              "      <td>0.0</td>\n",
              "      <td>0.0</td>\n",
              "      <td>0.000000</td>\n",
              "      <td>0.0</td>\n",
              "      <td>0.0</td>\n",
              "      <td>0.0</td>\n",
              "      <td>0.0</td>\n",
              "      <td>0.503731</td>\n",
              "      <td>0.0</td>\n",
              "      <td>0.0</td>\n",
              "      <td>0.0</td>\n",
              "      <td>0.0</td>\n",
              "      <td>0.0</td>\n",
              "      <td>0.0</td>\n",
              "      <td>...</td>\n",
              "      <td>0.0</td>\n",
              "      <td>0.0</td>\n",
              "      <td>0.0</td>\n",
              "      <td>0.0</td>\n",
              "      <td>0.0</td>\n",
              "      <td>0.0</td>\n",
              "      <td>0.0</td>\n",
              "      <td>0.0</td>\n",
              "      <td>0.0</td>\n",
              "      <td>0.0</td>\n",
              "      <td>0.0</td>\n",
              "      <td>0.0</td>\n",
              "      <td>0.0</td>\n",
              "      <td>0.0</td>\n",
              "      <td>0.0</td>\n",
              "      <td>0.0</td>\n",
              "      <td>0.0</td>\n",
              "      <td>0.0</td>\n",
              "      <td>0.0</td>\n",
              "      <td>0.0</td>\n",
              "      <td>0.0</td>\n",
              "      <td>0.0</td>\n",
              "      <td>0.0</td>\n",
              "      <td>0.0</td>\n",
              "      <td>0.0</td>\n",
              "      <td>0.0</td>\n",
              "      <td>0.0</td>\n",
              "      <td>0.0</td>\n",
              "      <td>0.0</td>\n",
              "      <td>0.0</td>\n",
              "      <td>0.0</td>\n",
              "      <td>0.0</td>\n",
              "      <td>0.0</td>\n",
              "      <td>0.0</td>\n",
              "      <td>0.0</td>\n",
              "      <td>0.0</td>\n",
              "      <td>0.0</td>\n",
              "      <td>0.0</td>\n",
              "      <td>0.0</td>\n",
              "      <td>0.0</td>\n",
              "    </tr>\n",
              "    <tr>\n",
              "      <th>2</th>\n",
              "      <td>0.018386</td>\n",
              "      <td>0.018386</td>\n",
              "      <td>0.727924</td>\n",
              "      <td>0.006211</td>\n",
              "      <td>1.00</td>\n",
              "      <td>0.000443</td>\n",
              "      <td>0.000469</td>\n",
              "      <td>0.000355</td>\n",
              "      <td>0.000380</td>\n",
              "      <td>0.011236</td>\n",
              "      <td>0.000340</td>\n",
              "      <td>0.000824</td>\n",
              "      <td>0.000892</td>\n",
              "      <td>0.005658</td>\n",
              "      <td>0.005658</td>\n",
              "      <td>0.005767</td>\n",
              "      <td>0.000753</td>\n",
              "      <td>0.000824</td>\n",
              "      <td>0.018621</td>\n",
              "      <td>0.003563</td>\n",
              "      <td>0.001365</td>\n",
              "      <td>15177.0</td>\n",
              "      <td>15188.0</td>\n",
              "      <td>0.0</td>\n",
              "      <td>0.0</td>\n",
              "      <td>0.0</td>\n",
              "      <td>0.0</td>\n",
              "      <td>0.0</td>\n",
              "      <td>0.000000</td>\n",
              "      <td>0.0</td>\n",
              "      <td>0.0</td>\n",
              "      <td>0.0</td>\n",
              "      <td>0.0</td>\n",
              "      <td>0.000000</td>\n",
              "      <td>0.0</td>\n",
              "      <td>0.0</td>\n",
              "      <td>0.0</td>\n",
              "      <td>0.0</td>\n",
              "      <td>0.0</td>\n",
              "      <td>0.0</td>\n",
              "      <td>...</td>\n",
              "      <td>0.0</td>\n",
              "      <td>0.0</td>\n",
              "      <td>0.0</td>\n",
              "      <td>0.0</td>\n",
              "      <td>0.0</td>\n",
              "      <td>0.0</td>\n",
              "      <td>0.0</td>\n",
              "      <td>0.0</td>\n",
              "      <td>0.0</td>\n",
              "      <td>0.0</td>\n",
              "      <td>0.0</td>\n",
              "      <td>0.0</td>\n",
              "      <td>0.0</td>\n",
              "      <td>0.0</td>\n",
              "      <td>0.0</td>\n",
              "      <td>0.0</td>\n",
              "      <td>0.0</td>\n",
              "      <td>0.0</td>\n",
              "      <td>0.0</td>\n",
              "      <td>0.0</td>\n",
              "      <td>0.0</td>\n",
              "      <td>0.0</td>\n",
              "      <td>0.0</td>\n",
              "      <td>0.0</td>\n",
              "      <td>0.0</td>\n",
              "      <td>0.0</td>\n",
              "      <td>0.0</td>\n",
              "      <td>0.0</td>\n",
              "      <td>0.0</td>\n",
              "      <td>0.0</td>\n",
              "      <td>0.0</td>\n",
              "      <td>0.0</td>\n",
              "      <td>0.0</td>\n",
              "      <td>0.0</td>\n",
              "      <td>0.0</td>\n",
              "      <td>0.0</td>\n",
              "      <td>0.0</td>\n",
              "      <td>0.0</td>\n",
              "      <td>0.0</td>\n",
              "      <td>0.0</td>\n",
              "    </tr>\n",
              "    <tr>\n",
              "      <th>3</th>\n",
              "      <td>0.018783</td>\n",
              "      <td>0.017665</td>\n",
              "      <td>0.906921</td>\n",
              "      <td>0.006211</td>\n",
              "      <td>1.00</td>\n",
              "      <td>0.000525</td>\n",
              "      <td>0.000543</td>\n",
              "      <td>0.000328</td>\n",
              "      <td>0.000352</td>\n",
              "      <td>0.021419</td>\n",
              "      <td>0.000000</td>\n",
              "      <td>0.000029</td>\n",
              "      <td>0.000030</td>\n",
              "      <td>0.011276</td>\n",
              "      <td>0.011276</td>\n",
              "      <td>0.011075</td>\n",
              "      <td>0.000961</td>\n",
              "      <td>0.000865</td>\n",
              "      <td>0.018796</td>\n",
              "      <td>0.002016</td>\n",
              "      <td>0.000756</td>\n",
              "      <td>15177.0</td>\n",
              "      <td>15188.0</td>\n",
              "      <td>0.0</td>\n",
              "      <td>0.0</td>\n",
              "      <td>0.0</td>\n",
              "      <td>0.0</td>\n",
              "      <td>0.0</td>\n",
              "      <td>0.848005</td>\n",
              "      <td>0.0</td>\n",
              "      <td>0.0</td>\n",
              "      <td>0.0</td>\n",
              "      <td>0.0</td>\n",
              "      <td>0.000000</td>\n",
              "      <td>0.0</td>\n",
              "      <td>0.0</td>\n",
              "      <td>0.0</td>\n",
              "      <td>0.0</td>\n",
              "      <td>0.0</td>\n",
              "      <td>0.0</td>\n",
              "      <td>...</td>\n",
              "      <td>0.0</td>\n",
              "      <td>0.0</td>\n",
              "      <td>0.0</td>\n",
              "      <td>0.0</td>\n",
              "      <td>0.0</td>\n",
              "      <td>0.0</td>\n",
              "      <td>0.0</td>\n",
              "      <td>0.0</td>\n",
              "      <td>0.0</td>\n",
              "      <td>0.0</td>\n",
              "      <td>0.0</td>\n",
              "      <td>0.0</td>\n",
              "      <td>0.0</td>\n",
              "      <td>0.0</td>\n",
              "      <td>0.0</td>\n",
              "      <td>0.0</td>\n",
              "      <td>0.0</td>\n",
              "      <td>0.0</td>\n",
              "      <td>0.0</td>\n",
              "      <td>0.0</td>\n",
              "      <td>0.0</td>\n",
              "      <td>0.0</td>\n",
              "      <td>0.0</td>\n",
              "      <td>0.0</td>\n",
              "      <td>0.0</td>\n",
              "      <td>0.0</td>\n",
              "      <td>0.0</td>\n",
              "      <td>0.0</td>\n",
              "      <td>0.0</td>\n",
              "      <td>0.0</td>\n",
              "      <td>0.0</td>\n",
              "      <td>0.0</td>\n",
              "      <td>0.0</td>\n",
              "      <td>0.0</td>\n",
              "      <td>0.0</td>\n",
              "      <td>0.0</td>\n",
              "      <td>0.0</td>\n",
              "      <td>0.0</td>\n",
              "      <td>0.0</td>\n",
              "      <td>0.0</td>\n",
              "    </tr>\n",
              "    <tr>\n",
              "      <th>4</th>\n",
              "      <td>0.005651</td>\n",
              "      <td>0.005651</td>\n",
              "      <td>0.806683</td>\n",
              "      <td>0.006211</td>\n",
              "      <td>1.00</td>\n",
              "      <td>0.000634</td>\n",
              "      <td>0.000664</td>\n",
              "      <td>0.000465</td>\n",
              "      <td>0.000494</td>\n",
              "      <td>0.021770</td>\n",
              "      <td>0.000388</td>\n",
              "      <td>0.000292</td>\n",
              "      <td>0.000317</td>\n",
              "      <td>0.003474</td>\n",
              "      <td>0.003474</td>\n",
              "      <td>0.003506</td>\n",
              "      <td>0.000331</td>\n",
              "      <td>0.000323</td>\n",
              "      <td>0.018558</td>\n",
              "      <td>0.001033</td>\n",
              "      <td>0.001247</td>\n",
              "      <td>15177.0</td>\n",
              "      <td>15188.0</td>\n",
              "      <td>0.0</td>\n",
              "      <td>0.0</td>\n",
              "      <td>0.0</td>\n",
              "      <td>0.0</td>\n",
              "      <td>0.0</td>\n",
              "      <td>0.000000</td>\n",
              "      <td>0.0</td>\n",
              "      <td>0.0</td>\n",
              "      <td>0.0</td>\n",
              "      <td>0.0</td>\n",
              "      <td>0.000000</td>\n",
              "      <td>0.0</td>\n",
              "      <td>0.0</td>\n",
              "      <td>0.0</td>\n",
              "      <td>0.0</td>\n",
              "      <td>0.0</td>\n",
              "      <td>0.0</td>\n",
              "      <td>...</td>\n",
              "      <td>0.0</td>\n",
              "      <td>0.0</td>\n",
              "      <td>0.0</td>\n",
              "      <td>0.0</td>\n",
              "      <td>0.0</td>\n",
              "      <td>0.0</td>\n",
              "      <td>0.0</td>\n",
              "      <td>0.0</td>\n",
              "      <td>0.0</td>\n",
              "      <td>0.0</td>\n",
              "      <td>0.0</td>\n",
              "      <td>0.0</td>\n",
              "      <td>0.0</td>\n",
              "      <td>0.0</td>\n",
              "      <td>0.0</td>\n",
              "      <td>0.0</td>\n",
              "      <td>0.0</td>\n",
              "      <td>0.0</td>\n",
              "      <td>0.0</td>\n",
              "      <td>0.0</td>\n",
              "      <td>0.0</td>\n",
              "      <td>0.0</td>\n",
              "      <td>0.0</td>\n",
              "      <td>0.0</td>\n",
              "      <td>0.0</td>\n",
              "      <td>0.0</td>\n",
              "      <td>0.0</td>\n",
              "      <td>0.0</td>\n",
              "      <td>0.0</td>\n",
              "      <td>0.0</td>\n",
              "      <td>0.0</td>\n",
              "      <td>0.0</td>\n",
              "      <td>0.0</td>\n",
              "      <td>0.0</td>\n",
              "      <td>0.0</td>\n",
              "      <td>0.0</td>\n",
              "      <td>0.0</td>\n",
              "      <td>0.0</td>\n",
              "      <td>0.0</td>\n",
              "      <td>0.0</td>\n",
              "    </tr>\n",
              "  </tbody>\n",
              "</table>\n",
              "<p>5 rows × 3160 columns</p>\n",
              "</div>"
            ],
            "text/plain": [
              "   Self-Reported Gross Floor Area (ft²)  ...  x0_queens x0_staten island\n",
              "0                              0.010688  ...                         0.0\n",
              "1                              0.037718  ...                         0.0\n",
              "2                              0.018386  ...                         0.0\n",
              "3                              0.018783  ...                         0.0\n",
              "4                              0.005651  ...                         0.0\n",
              "\n",
              "[5 rows x 3160 columns]"
            ]
          },
          "metadata": {
            "tags": []
          },
          "execution_count": 51
        }
      ]
    },
    {
      "cell_type": "code",
      "metadata": {
        "colab": {
          "base_uri": "https://localhost:8080/"
        },
        "id": "P-HP_OxVRz3P",
        "outputId": "6fa7c833-b3fe-42d8-995a-a12c304812c8"
      },
      "source": [
        "rf2 = RandomForestRegressor(n_estimators = 1000, max_depth = 30, max_features='log2', random_state=42)\n",
        "rf2.fit(x_train_2, y_train)"
      ],
      "execution_count": null,
      "outputs": [
        {
          "output_type": "execute_result",
          "data": {
            "text/plain": [
              "RandomForestRegressor(bootstrap=True, ccp_alpha=0.0, criterion='mse',\n",
              "                      max_depth=30, max_features='log2', max_leaf_nodes=None,\n",
              "                      max_samples=None, min_impurity_decrease=0.0,\n",
              "                      min_impurity_split=None, min_samples_leaf=1,\n",
              "                      min_samples_split=2, min_weight_fraction_leaf=0.0,\n",
              "                      n_estimators=1000, n_jobs=None, oob_score=False,\n",
              "                      random_state=42, verbose=0, warm_start=False)"
            ]
          },
          "metadata": {
            "tags": []
          },
          "execution_count": 52
        }
      ]
    },
    {
      "cell_type": "code",
      "metadata": {
        "id": "z6sqXjaSTLJl"
      },
      "source": [
        "pred_train_2 = rf2.predict(x_train_2)\n",
        "pred_test_2 = rf2.predict(x_test_2)"
      ],
      "execution_count": null,
      "outputs": []
    },
    {
      "cell_type": "code",
      "metadata": {
        "colab": {
          "base_uri": "https://localhost:8080/"
        },
        "id": "tmadaCpLTSdp",
        "outputId": "896e0a9e-fb02-482b-e4cd-3097fc2335f5"
      },
      "source": [
        "print(\"Средняя абсолютная ошибка (MAE) модели на обучающей выборке rf2 {}\".format(mean_absolute_error(y_train, pred_train_2)))\n",
        "print(\"Средняя абсолютная ошибка (MAE) модели на тестовой выборке rf2 {}\".format(mean_absolute_error(y_test, pred_test_2)))\n",
        "\n",
        "print(\"Средняя квадратическая ошибка (MSE) модели на обучающей выборке rf2 {}\".format(mean_squared_error(y_train, pred_train_2)))\n",
        "print(\"Средняя квадратическая ошибка (MSE) модели на тестовой выборке rf2 {}\".format(mean_squared_error(y_test, pred_test_2)))\n",
        "\n",
        "print(\"Коэффициент детерминации (R^2) модели на обучающей выборке rf2 {}\".format(r2_score(y_train, pred_train_2)))\n",
        "print(\"Коэффициент детерминации (R^2) модели на тестовой выборке rf2 {}\".format(r2_score(y_test, pred_test_2)))"
      ],
      "execution_count": null,
      "outputs": [
        {
          "output_type": "stream",
          "text": [
            "Средняя абсолютная ошибка (MAE) модели на обучающей выборке rf2 4.965680371001571\n",
            "Средняя абсолютная ошибка (MAE) модели на тестовой выборке rf2 8.582561127571406\n",
            "Средняя квадратическая ошибка (MSE) модели на обучающей выборке rf2 44.2968770464556\n",
            "Средняя квадратическая ошибка (MSE) модели на тестовой выборке rf2 137.0042407152984\n",
            "Коэффициент детерминации (R^2) модели на обучающей выборке rf2 0.9582821422629688\n",
            "Коэффициент детерминации (R^2) модели на тестовой выборке rf2 0.8704715174168429\n"
          ],
          "name": "stdout"
        }
      ]
    },
    {
      "cell_type": "code",
      "metadata": {
        "colab": {
          "base_uri": "https://localhost:8080/",
          "height": 513
        },
        "id": "NqhTgvsXTpPQ",
        "outputId": "ab180f5c-8bb6-4092-d2e7-56bdf36d86c9"
      },
      "source": [
        "# построим график точности модели\n",
        "\n",
        "plt.figure(figsize=(10, 7))\n",
        "plt.scatter(y_test, pred_test_2)\n",
        "plt.plot([0, 100], [0, 100], '--k', color='red', linewidth=3)\n",
        "plt.xlabel('True ENERGY STAR Score')\n",
        "plt.ylabel('Predicted ENERGY STAR Score')\n",
        "plt.tight_layout()"
      ],
      "execution_count": null,
      "outputs": [
        {
          "output_type": "display_data",
          "data": {
            "image/png": "[encoded data removed]",
            "text/plain": [
              "<Figure size 720x504 with 1 Axes>"
            ]
          },
          "metadata": {
            "tags": [],
            "needs_background": "light"
          }
        }
      ]
    },
    {
      "cell_type": "markdown",
      "metadata": {
        "id": "PWWdx4hSdBLu"
      },
      "source": [
        "Мы улучшили предиктивную модель с помощью метода PolynomialFeatures, повысив коэффициент детерминации (R^2) модели на тестовой выборке rf2 до 0.87. При этом Средняя абсолютная ошибка (MAE) модели на тестовой выборке снизилась с 10.75 до 8.58. Тем не менее, наша новая модель переобучилась, так как коэффициент детерминации (R^2) модели на обучающей выборке rf2 значительно выше этого показателя на тестовой выборке."
      ]
    },
    {
      "cell_type": "code",
      "metadata": {
        "colab": {
          "base_uri": "https://localhost:8080/"
        },
        "id": "La2auV1uYlXP",
        "outputId": "116c0624-af32-42d5-b216-46ca3560ab95"
      },
      "source": [
        "# выведем рейтинг важности признаков с учетом их взаимодействий\n",
        "\n",
        "feature_scores = pd.Series(rf2.feature_importances_, index=x_train_2.columns).sort_values(ascending=False)\n",
        "feature_scores.head(50)"
      ],
      "execution_count": null,
      "outputs": [
        {
          "output_type": "execute_result",
          "data": {
            "text/plain": [
              "Source EUI (kBtu/ft²)                                                                                                 0.017382\n",
              "Occupancy Source EUI (kBtu/ft²)                                                                                       0.016633\n",
              "Site EUI (kBtu/ft²)                                                                                                   0.016099\n",
              "Occupancy Site EUI (kBtu/ft²)                                                                                         0.016045\n",
              "Year Built Source EUI (kBtu/ft²)                                                                                      0.015434\n",
              "Occupancy Weather Normalized Source EUI (kBtu/ft²)                                                                    0.014494\n",
              "Source EUI (kBtu/ft²) Primary Property Type - Self Selected                                                           0.014418\n",
              "Year Built Site EUI (kBtu/ft²)                                                                                        0.014251\n",
              "Source EUI (kBtu/ft²) Largest Property Use Type                                                                       0.013749\n",
              "Weather Normalized Source EUI (kBtu/ft²)                                                                              0.013705\n",
              "Weather Normalized Source EUI (kBtu/ft²) Primary Property Type - Self Selected                                        0.013434\n",
              "Source EUI (kBtu/ft²) housing                                                                                         0.013140\n",
              "Year Built Weather Normalized Site EUI (kBtu/ft²)                                                                     0.013134\n",
              "Weather Normalized Source EUI (kBtu/ft²) Largest Property Use Type                                                    0.012991\n",
              "Site EUI (kBtu/ft²) Primary Property Type - Self Selected                                                             0.012443\n",
              "Source EUI (kBtu/ft²) multifamily                                                                                     0.012247\n",
              "Site EUI (kBtu/ft²) Largest Property Use Type                                                                         0.011295\n",
              "Weather Normalized Source EUI (kBtu/ft²) housing                                                                      0.010978\n",
              "Weather Normalized Site EUI (kBtu/ft²)                                                                                0.010816\n",
              "Occupancy Weather Normalized Site EUI (kBtu/ft²)                                                                      0.010683\n",
              "Weather Normalized Source EUI (kBtu/ft²) multifamily                                                                  0.010394\n",
              "Site EUI (kBtu/ft²) multifamily                                                                                       0.010134\n",
              "Year Built Weather Normalized Source EUI (kBtu/ft²)                                                                   0.009998\n",
              "Weather Normalized Site EUI (kBtu/ft²) Primary Property Type - Self Selected                                          0.009649\n",
              "Weather Normalized Site EUI (kBtu/ft²) housing                                                                        0.009126\n",
              "Weather Normalized Site EUI (kBtu/ft²) Largest Property Use Type                                                      0.008793\n",
              "Site EUI (kBtu/ft²) housing                                                                                           0.008754\n",
              "Weather Normalized Site EUI (kBtu/ft²) multifamily                                                                    0.007261\n",
              "Source EUI (kBtu/ft²) Weather Normalized Site Electricity Intensity (kWh/ft²)                                         0.007035\n",
              "Site EUI (kBtu/ft²) Weather Normalized Site Electricity Intensity (kWh/ft²)                                           0.006902\n",
              "Weather Normalized Site EUI (kBtu/ft²) Weather Normalized Site Electricity Intensity (kWh/ft²)                        0.006475\n",
              "Weather Normalized Source EUI (kBtu/ft²) Weather Normalized Site Electricity Intensity (kWh/ft²)                      0.006202\n",
              "Source EUI (kBtu/ft²) Indirect GHG Emissions (Metric Tons CO2e)                                                       0.005991\n",
              "Occupancy Weather Normalized Site Natural Gas Intensity (therms/ft²)                                                  0.005682\n",
              "Weather Normalized Site Electricity Intensity (kWh/ft²) Weather Normalized Site Natural Gas Intensity (therms/ft²)    0.005525\n",
              "Weather Normalized Site Electricity Intensity (kWh/ft²)                                                               0.005415\n",
              "Weather Normalized Site Natural Gas Intensity (therms/ft²) multifamily                                                0.005403\n",
              "Weather Normalized Site Natural Gas Intensity (therms/ft²) Primary Property Type - Self Selected                      0.005394\n",
              "Year Built Weather Normalized Site Natural Gas Intensity (therms/ft²)                                                 0.005296\n",
              "Weather Normalized Site Natural Gas Intensity (therms/ft²) Largest Property Use Type                                  0.005232\n",
              "Site EUI (kBtu/ft²) Indirect GHG Emissions (Metric Tons CO2e)                                                         0.005124\n",
              "Number of Buildings Weather Normalized Site Electricity Intensity (kWh/ft²)                                           0.005088\n",
              "Total GHG Emissions (Metric Tons CO2e)                                                                                0.004931\n",
              "Occupancy Total GHG Emissions (Metric Tons CO2e)                                                                      0.004890\n",
              "Weather Normalized Site Electricity Intensity (kWh/ft²) Largest Property Use Type                                     0.004889\n",
              "Occupancy Weather Normalized Site Electricity Intensity (kWh/ft²)                                                     0.004878\n",
              "Weather Normalized Source EUI (kBtu/ft²) Indirect GHG Emissions (Metric Tons CO2e)                                    0.004755\n",
              "Weather Normalized Site Electricity Intensity (kWh/ft²) Indirect GHG Emissions (Metric Tons CO2e)                     0.004665\n",
              "Weather Normalized Site Natural Gas Intensity (therms/ft²)                                                            0.004651\n",
              "Source EUI (kBtu/ft²) x0_manhattan                                                                                    0.004558\n",
              "dtype: float64"
            ]
          },
          "metadata": {
            "tags": []
          },
          "execution_count": 56
        }
      ]
    },
    {
      "cell_type": "code",
      "metadata": {
        "id": "4q4DrnV_Z1nv"
      },
      "source": [
        ""
      ],
      "execution_count": null,
      "outputs": []
    }
  ]
}